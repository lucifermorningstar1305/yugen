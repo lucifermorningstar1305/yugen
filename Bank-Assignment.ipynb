{
 "cells": [
  {
   "cell_type": "code",
   "execution_count": 61,
   "metadata": {},
   "outputs": [],
   "source": [
    "import numpy as np\n",
    "import matplotlib.pyplot as plt\n",
    "import seaborn as sns\n",
    "import pandas as pd\n",
    "from sklearn.preprocessing import StandardScaler\n",
    "from colorama import Fore, Style\n",
    "from jupyterthemes import jtplot \n",
    "from joblib import dump\n",
    "jtplot.style(theme=\"monokai\", context=\"notebook\", ticks=True)"
   ]
  },
  {
   "cell_type": "code",
   "execution_count": 2,
   "metadata": {},
   "outputs": [
    {
     "data": {
      "text/html": [
       "<div>\n",
       "<style scoped>\n",
       "    .dataframe tbody tr th:only-of-type {\n",
       "        vertical-align: middle;\n",
       "    }\n",
       "\n",
       "    .dataframe tbody tr th {\n",
       "        vertical-align: top;\n",
       "    }\n",
       "\n",
       "    .dataframe thead th {\n",
       "        text-align: right;\n",
       "    }\n",
       "</style>\n",
       "<table border=\"1\" class=\"dataframe\">\n",
       "  <thead>\n",
       "    <tr style=\"text-align: right;\">\n",
       "      <th></th>\n",
       "      <th>age</th>\n",
       "      <th>job</th>\n",
       "      <th>marital</th>\n",
       "      <th>education</th>\n",
       "      <th>default</th>\n",
       "      <th>balance</th>\n",
       "      <th>housing</th>\n",
       "      <th>loan</th>\n",
       "      <th>contact</th>\n",
       "      <th>day</th>\n",
       "      <th>month</th>\n",
       "      <th>duration</th>\n",
       "      <th>campaign</th>\n",
       "      <th>pdays</th>\n",
       "      <th>previous</th>\n",
       "      <th>poutcome</th>\n",
       "      <th>y</th>\n",
       "    </tr>\n",
       "  </thead>\n",
       "  <tbody>\n",
       "    <tr>\n",
       "      <th>0</th>\n",
       "      <td>58</td>\n",
       "      <td>management</td>\n",
       "      <td>married</td>\n",
       "      <td>tertiary</td>\n",
       "      <td>no</td>\n",
       "      <td>2143</td>\n",
       "      <td>yes</td>\n",
       "      <td>no</td>\n",
       "      <td>unknown</td>\n",
       "      <td>5</td>\n",
       "      <td>may</td>\n",
       "      <td>261</td>\n",
       "      <td>1</td>\n",
       "      <td>-1</td>\n",
       "      <td>0</td>\n",
       "      <td>unknown</td>\n",
       "      <td>no</td>\n",
       "    </tr>\n",
       "    <tr>\n",
       "      <th>1</th>\n",
       "      <td>44</td>\n",
       "      <td>technician</td>\n",
       "      <td>single</td>\n",
       "      <td>secondary</td>\n",
       "      <td>no</td>\n",
       "      <td>29</td>\n",
       "      <td>yes</td>\n",
       "      <td>no</td>\n",
       "      <td>unknown</td>\n",
       "      <td>5</td>\n",
       "      <td>may</td>\n",
       "      <td>151</td>\n",
       "      <td>1</td>\n",
       "      <td>-1</td>\n",
       "      <td>0</td>\n",
       "      <td>unknown</td>\n",
       "      <td>no</td>\n",
       "    </tr>\n",
       "    <tr>\n",
       "      <th>2</th>\n",
       "      <td>33</td>\n",
       "      <td>entrepreneur</td>\n",
       "      <td>married</td>\n",
       "      <td>secondary</td>\n",
       "      <td>no</td>\n",
       "      <td>2</td>\n",
       "      <td>yes</td>\n",
       "      <td>yes</td>\n",
       "      <td>unknown</td>\n",
       "      <td>5</td>\n",
       "      <td>may</td>\n",
       "      <td>76</td>\n",
       "      <td>1</td>\n",
       "      <td>-1</td>\n",
       "      <td>0</td>\n",
       "      <td>unknown</td>\n",
       "      <td>no</td>\n",
       "    </tr>\n",
       "    <tr>\n",
       "      <th>3</th>\n",
       "      <td>47</td>\n",
       "      <td>blue-collar</td>\n",
       "      <td>married</td>\n",
       "      <td>unknown</td>\n",
       "      <td>no</td>\n",
       "      <td>1506</td>\n",
       "      <td>yes</td>\n",
       "      <td>no</td>\n",
       "      <td>unknown</td>\n",
       "      <td>5</td>\n",
       "      <td>may</td>\n",
       "      <td>92</td>\n",
       "      <td>1</td>\n",
       "      <td>-1</td>\n",
       "      <td>0</td>\n",
       "      <td>unknown</td>\n",
       "      <td>no</td>\n",
       "    </tr>\n",
       "    <tr>\n",
       "      <th>4</th>\n",
       "      <td>33</td>\n",
       "      <td>unknown</td>\n",
       "      <td>single</td>\n",
       "      <td>unknown</td>\n",
       "      <td>no</td>\n",
       "      <td>1</td>\n",
       "      <td>no</td>\n",
       "      <td>no</td>\n",
       "      <td>unknown</td>\n",
       "      <td>5</td>\n",
       "      <td>may</td>\n",
       "      <td>198</td>\n",
       "      <td>1</td>\n",
       "      <td>-1</td>\n",
       "      <td>0</td>\n",
       "      <td>unknown</td>\n",
       "      <td>no</td>\n",
       "    </tr>\n",
       "  </tbody>\n",
       "</table>\n",
       "</div>"
      ],
      "text/plain": [
       "   age           job  marital  education default  balance housing loan  \\\n",
       "0   58    management  married   tertiary      no     2143     yes   no   \n",
       "1   44    technician   single  secondary      no       29     yes   no   \n",
       "2   33  entrepreneur  married  secondary      no        2     yes  yes   \n",
       "3   47   blue-collar  married    unknown      no     1506     yes   no   \n",
       "4   33       unknown   single    unknown      no        1      no   no   \n",
       "\n",
       "   contact  day month  duration  campaign  pdays  previous poutcome   y  \n",
       "0  unknown    5   may       261         1     -1         0  unknown  no  \n",
       "1  unknown    5   may       151         1     -1         0  unknown  no  \n",
       "2  unknown    5   may        76         1     -1         0  unknown  no  \n",
       "3  unknown    5   may        92         1     -1         0  unknown  no  \n",
       "4  unknown    5   may       198         1     -1         0  unknown  no  "
      ]
     },
     "execution_count": 2,
     "metadata": {},
     "output_type": "execute_result"
    }
   ],
   "source": [
    "df = pd.read_csv(\"bank-full.csv\", delimiter=\";\")\n",
    "df.head()"
   ]
  },
  {
   "cell_type": "code",
   "execution_count": 3,
   "metadata": {},
   "outputs": [
    {
     "name": "stdout",
     "output_type": "stream",
     "text": [
      "<class 'pandas.core.frame.DataFrame'>\n",
      "RangeIndex: 45211 entries, 0 to 45210\n",
      "Data columns (total 17 columns):\n",
      " #   Column     Non-Null Count  Dtype \n",
      "---  ------     --------------  ----- \n",
      " 0   age        45211 non-null  int64 \n",
      " 1   job        45211 non-null  object\n",
      " 2   marital    45211 non-null  object\n",
      " 3   education  45211 non-null  object\n",
      " 4   default    45211 non-null  object\n",
      " 5   balance    45211 non-null  int64 \n",
      " 6   housing    45211 non-null  object\n",
      " 7   loan       45211 non-null  object\n",
      " 8   contact    45211 non-null  object\n",
      " 9   day        45211 non-null  int64 \n",
      " 10  month      45211 non-null  object\n",
      " 11  duration   45211 non-null  int64 \n",
      " 12  campaign   45211 non-null  int64 \n",
      " 13  pdays      45211 non-null  int64 \n",
      " 14  previous   45211 non-null  int64 \n",
      " 15  poutcome   45211 non-null  object\n",
      " 16  y          45211 non-null  object\n",
      "dtypes: int64(7), object(10)\n",
      "memory usage: 5.9+ MB\n"
     ]
    }
   ],
   "source": [
    "df.info()"
   ]
  },
  {
   "cell_type": "code",
   "execution_count": 4,
   "metadata": {},
   "outputs": [
    {
     "data": {
      "text/html": [
       "<div>\n",
       "<style scoped>\n",
       "    .dataframe tbody tr th:only-of-type {\n",
       "        vertical-align: middle;\n",
       "    }\n",
       "\n",
       "    .dataframe tbody tr th {\n",
       "        vertical-align: top;\n",
       "    }\n",
       "\n",
       "    .dataframe thead th {\n",
       "        text-align: right;\n",
       "    }\n",
       "</style>\n",
       "<table border=\"1\" class=\"dataframe\">\n",
       "  <thead>\n",
       "    <tr style=\"text-align: right;\">\n",
       "      <th></th>\n",
       "      <th>age</th>\n",
       "      <th>balance</th>\n",
       "      <th>day</th>\n",
       "      <th>duration</th>\n",
       "      <th>campaign</th>\n",
       "      <th>pdays</th>\n",
       "      <th>previous</th>\n",
       "    </tr>\n",
       "  </thead>\n",
       "  <tbody>\n",
       "    <tr>\n",
       "      <th>count</th>\n",
       "      <td>45211.000000</td>\n",
       "      <td>45211.000000</td>\n",
       "      <td>45211.000000</td>\n",
       "      <td>45211.000000</td>\n",
       "      <td>45211.000000</td>\n",
       "      <td>45211.000000</td>\n",
       "      <td>45211.000000</td>\n",
       "    </tr>\n",
       "    <tr>\n",
       "      <th>mean</th>\n",
       "      <td>40.936210</td>\n",
       "      <td>1362.272058</td>\n",
       "      <td>15.806419</td>\n",
       "      <td>258.163080</td>\n",
       "      <td>2.763841</td>\n",
       "      <td>40.197828</td>\n",
       "      <td>0.580323</td>\n",
       "    </tr>\n",
       "    <tr>\n",
       "      <th>std</th>\n",
       "      <td>10.618762</td>\n",
       "      <td>3044.765829</td>\n",
       "      <td>8.322476</td>\n",
       "      <td>257.527812</td>\n",
       "      <td>3.098021</td>\n",
       "      <td>100.128746</td>\n",
       "      <td>2.303441</td>\n",
       "    </tr>\n",
       "    <tr>\n",
       "      <th>min</th>\n",
       "      <td>18.000000</td>\n",
       "      <td>-8019.000000</td>\n",
       "      <td>1.000000</td>\n",
       "      <td>0.000000</td>\n",
       "      <td>1.000000</td>\n",
       "      <td>-1.000000</td>\n",
       "      <td>0.000000</td>\n",
       "    </tr>\n",
       "    <tr>\n",
       "      <th>25%</th>\n",
       "      <td>33.000000</td>\n",
       "      <td>72.000000</td>\n",
       "      <td>8.000000</td>\n",
       "      <td>103.000000</td>\n",
       "      <td>1.000000</td>\n",
       "      <td>-1.000000</td>\n",
       "      <td>0.000000</td>\n",
       "    </tr>\n",
       "    <tr>\n",
       "      <th>50%</th>\n",
       "      <td>39.000000</td>\n",
       "      <td>448.000000</td>\n",
       "      <td>16.000000</td>\n",
       "      <td>180.000000</td>\n",
       "      <td>2.000000</td>\n",
       "      <td>-1.000000</td>\n",
       "      <td>0.000000</td>\n",
       "    </tr>\n",
       "    <tr>\n",
       "      <th>75%</th>\n",
       "      <td>48.000000</td>\n",
       "      <td>1428.000000</td>\n",
       "      <td>21.000000</td>\n",
       "      <td>319.000000</td>\n",
       "      <td>3.000000</td>\n",
       "      <td>-1.000000</td>\n",
       "      <td>0.000000</td>\n",
       "    </tr>\n",
       "    <tr>\n",
       "      <th>max</th>\n",
       "      <td>95.000000</td>\n",
       "      <td>102127.000000</td>\n",
       "      <td>31.000000</td>\n",
       "      <td>4918.000000</td>\n",
       "      <td>63.000000</td>\n",
       "      <td>871.000000</td>\n",
       "      <td>275.000000</td>\n",
       "    </tr>\n",
       "  </tbody>\n",
       "</table>\n",
       "</div>"
      ],
      "text/plain": [
       "                age        balance           day      duration      campaign  \\\n",
       "count  45211.000000   45211.000000  45211.000000  45211.000000  45211.000000   \n",
       "mean      40.936210    1362.272058     15.806419    258.163080      2.763841   \n",
       "std       10.618762    3044.765829      8.322476    257.527812      3.098021   \n",
       "min       18.000000   -8019.000000      1.000000      0.000000      1.000000   \n",
       "25%       33.000000      72.000000      8.000000    103.000000      1.000000   \n",
       "50%       39.000000     448.000000     16.000000    180.000000      2.000000   \n",
       "75%       48.000000    1428.000000     21.000000    319.000000      3.000000   \n",
       "max       95.000000  102127.000000     31.000000   4918.000000     63.000000   \n",
       "\n",
       "              pdays      previous  \n",
       "count  45211.000000  45211.000000  \n",
       "mean      40.197828      0.580323  \n",
       "std      100.128746      2.303441  \n",
       "min       -1.000000      0.000000  \n",
       "25%       -1.000000      0.000000  \n",
       "50%       -1.000000      0.000000  \n",
       "75%       -1.000000      0.000000  \n",
       "max      871.000000    275.000000  "
      ]
     },
     "execution_count": 4,
     "metadata": {},
     "output_type": "execute_result"
    }
   ],
   "source": [
    "df.describe()"
   ]
  },
  {
   "cell_type": "code",
   "execution_count": 5,
   "metadata": {},
   "outputs": [
    {
     "name": "stdout",
     "output_type": "stream",
     "text": [
      "\u001b[33m Numeric Values in  \u001b[0m Index(['age', 'balance', 'day', 'duration', 'campaign', 'pdays', 'previous'], dtype='object')\n",
      "\u001b[34m String values in  \u001b[0m Index(['job', 'marital', 'education', 'default', 'housing', 'loan', 'contact',\n",
      "       'month', 'poutcome', 'y'],\n",
      "      dtype='object')\n"
     ]
    }
   ],
   "source": [
    "# Get all numeric columns \n",
    "numeric_type_fields = df.select_dtypes(exclude=[\"object\"]).columns\n",
    "print(Fore.YELLOW, \"Numeric Values in \", Style.RESET_ALL, numeric_type_fields)\n",
    "\n",
    "# Get all string columns\n",
    "object_type_fields = df.select_dtypes(exclude=['int64']).columns\n",
    "print(Fore.BLUE, \"String values in \", Style.RESET_ALL, object_type_fields)"
   ]
  },
  {
   "cell_type": "code",
   "execution_count": 6,
   "metadata": {},
   "outputs": [
    {
     "name": "stdout",
     "output_type": "stream",
     "text": [
      "\u001b[33m job \u001b[0m  --> ['management' 'technician' 'entrepreneur' 'blue-collar' 'unknown' 'mgmt'\n",
      " 'retired' 'admin' 'admin.' 'services' 'self-employed' 'unemployed'\n",
      " 'housemaid' 'student']\n",
      "\u001b[34m marital \u001b[0m  --> ['married' 'single' 'divorced']\n",
      "\u001b[31m education \u001b[0m  --> ['tertiary' 'secondary' 'unknown' 'primary']\n",
      "\u001b[33m default \u001b[0m  --> ['no' 'yes']\n",
      "\u001b[34m housing \u001b[0m  --> ['yes' 'no']\n",
      "\u001b[31m loan \u001b[0m  --> ['no' 'yes']\n",
      "\u001b[33m contact \u001b[0m  --> ['unknown' 'cellular' 'telephone']\n",
      "\u001b[34m month \u001b[0m  --> ['may' 'jun' 'jul' 'aug' 'oct' 'nov' 'dec' 'jan' 'feb' 'mar' 'apr' 'sep']\n",
      "\u001b[31m poutcome \u001b[0m  --> ['unknown' 'failure' 'other' 'success']\n",
      "\u001b[33m y \u001b[0m  --> ['no' 'yes']\n"
     ]
    }
   ],
   "source": [
    "# List all categorical values for the object columns\n",
    "def get_categorical_info():\n",
    "    colors = [Fore.YELLOW, Fore.BLUE, Fore.RED]\n",
    "\n",
    "    for idx, cols in enumerate(object_type_fields):\n",
    "\n",
    "        if idx >= 3 :\n",
    "            idx = idx % 3\n",
    "\n",
    "        print(colors[idx], f\"{cols}\", Style.RESET_ALL, f\" --> {df[cols].unique()}\")\n",
    "    \n",
    "get_categorical_info()"
   ]
  },
  {
   "cell_type": "markdown",
   "metadata": {},
   "source": [
    "# Observations of Categorical Values:\n",
    "\n",
    "* Except the `month` and `education` every other field are nominal data.\n",
    "* The `job` field has similar categorical values which are named either differently or abbreviated such 'management' and 'mgmt', 'admin' and 'admin.'\n",
    "* Since these data are in object format they need to be converted to numeric data for model training and others."
   ]
  },
  {
   "cell_type": "code",
   "execution_count": 7,
   "metadata": {
    "scrolled": false
   },
   "outputs": [
    {
     "name": "stdout",
     "output_type": "stream",
     "text": [
      "\u001b[33m job \u001b[0m  --> ['management' 'technician' 'entrepreneur' 'blue-collar' 'unknown'\n",
      " 'retired' 'admin' 'services' 'self-employed' 'unemployed' 'housemaid'\n",
      " 'student']\n",
      "\u001b[34m marital \u001b[0m  --> ['married' 'single' 'divorced']\n",
      "\u001b[31m education \u001b[0m  --> ['tertiary' 'secondary' 'unknown' 'primary']\n",
      "\u001b[33m default \u001b[0m  --> ['no' 'yes']\n",
      "\u001b[34m housing \u001b[0m  --> ['yes' 'no']\n",
      "\u001b[31m loan \u001b[0m  --> ['no' 'yes']\n",
      "\u001b[33m contact \u001b[0m  --> ['unknown' 'cellular' 'telephone']\n",
      "\u001b[34m month \u001b[0m  --> ['may' 'jun' 'jul' 'aug' 'oct' 'nov' 'dec' 'jan' 'feb' 'mar' 'apr' 'sep']\n",
      "\u001b[31m poutcome \u001b[0m  --> ['unknown' 'failure' 'other' 'success']\n",
      "\u001b[33m y \u001b[0m  --> ['no' 'yes']\n"
     ]
    },
    {
     "name": "stderr",
     "output_type": "stream",
     "text": [
      "/home/adityam/anaconda3/lib/python3.8/site-packages/pandas/core/indexing.py:671: SettingWithCopyWarning: \n",
      "A value is trying to be set on a copy of a slice from a DataFrame\n",
      "\n",
      "See the caveats in the documentation: https://pandas.pydata.org/pandas-docs/stable/user_guide/indexing.html#returning-a-view-versus-a-copy\n",
      "  self._setitem_with_indexer(indexer, value)\n"
     ]
    }
   ],
   "source": [
    "# Cleaning part 1\n",
    "df[\"job\"].loc[df['job'] == \"admin.\"] = \"admin\"\n",
    "df[\"job\"].loc[df[\"job\"] == \"mgmt\"] = \"management\"\n",
    "\n",
    "get_categorical_info()"
   ]
  },
  {
   "cell_type": "code",
   "execution_count": 8,
   "metadata": {},
   "outputs": [
    {
     "data": {
      "text/html": [
       "<div>\n",
       "<style scoped>\n",
       "    .dataframe tbody tr th:only-of-type {\n",
       "        vertical-align: middle;\n",
       "    }\n",
       "\n",
       "    .dataframe tbody tr th {\n",
       "        vertical-align: top;\n",
       "    }\n",
       "\n",
       "    .dataframe thead th {\n",
       "        text-align: right;\n",
       "    }\n",
       "</style>\n",
       "<table border=\"1\" class=\"dataframe\">\n",
       "  <thead>\n",
       "    <tr style=\"text-align: right;\">\n",
       "      <th></th>\n",
       "      <th>age</th>\n",
       "      <th>job</th>\n",
       "      <th>marital</th>\n",
       "      <th>education</th>\n",
       "      <th>default</th>\n",
       "      <th>balance</th>\n",
       "      <th>housing</th>\n",
       "      <th>loan</th>\n",
       "      <th>contact</th>\n",
       "      <th>day</th>\n",
       "      <th>month</th>\n",
       "      <th>duration</th>\n",
       "      <th>campaign</th>\n",
       "      <th>pdays</th>\n",
       "      <th>previous</th>\n",
       "      <th>poutcome</th>\n",
       "      <th>y</th>\n",
       "    </tr>\n",
       "  </thead>\n",
       "  <tbody>\n",
       "    <tr>\n",
       "      <th>3</th>\n",
       "      <td>47</td>\n",
       "      <td>blue-collar</td>\n",
       "      <td>married</td>\n",
       "      <td>unknown</td>\n",
       "      <td>no</td>\n",
       "      <td>1506</td>\n",
       "      <td>yes</td>\n",
       "      <td>no</td>\n",
       "      <td>unknown</td>\n",
       "      <td>5</td>\n",
       "      <td>may</td>\n",
       "      <td>92</td>\n",
       "      <td>1</td>\n",
       "      <td>-1</td>\n",
       "      <td>0</td>\n",
       "      <td>unknown</td>\n",
       "      <td>no</td>\n",
       "    </tr>\n",
       "    <tr>\n",
       "      <th>4</th>\n",
       "      <td>33</td>\n",
       "      <td>unknown</td>\n",
       "      <td>single</td>\n",
       "      <td>unknown</td>\n",
       "      <td>no</td>\n",
       "      <td>1</td>\n",
       "      <td>no</td>\n",
       "      <td>no</td>\n",
       "      <td>unknown</td>\n",
       "      <td>5</td>\n",
       "      <td>may</td>\n",
       "      <td>198</td>\n",
       "      <td>1</td>\n",
       "      <td>-1</td>\n",
       "      <td>0</td>\n",
       "      <td>unknown</td>\n",
       "      <td>no</td>\n",
       "    </tr>\n",
       "    <tr>\n",
       "      <th>13</th>\n",
       "      <td>58</td>\n",
       "      <td>technician</td>\n",
       "      <td>married</td>\n",
       "      <td>unknown</td>\n",
       "      <td>no</td>\n",
       "      <td>71</td>\n",
       "      <td>yes</td>\n",
       "      <td>no</td>\n",
       "      <td>unknown</td>\n",
       "      <td>5</td>\n",
       "      <td>may</td>\n",
       "      <td>71</td>\n",
       "      <td>1</td>\n",
       "      <td>-1</td>\n",
       "      <td>0</td>\n",
       "      <td>unknown</td>\n",
       "      <td>no</td>\n",
       "    </tr>\n",
       "    <tr>\n",
       "      <th>16</th>\n",
       "      <td>45</td>\n",
       "      <td>admin</td>\n",
       "      <td>single</td>\n",
       "      <td>unknown</td>\n",
       "      <td>no</td>\n",
       "      <td>13</td>\n",
       "      <td>yes</td>\n",
       "      <td>no</td>\n",
       "      <td>unknown</td>\n",
       "      <td>5</td>\n",
       "      <td>may</td>\n",
       "      <td>98</td>\n",
       "      <td>1</td>\n",
       "      <td>-1</td>\n",
       "      <td>0</td>\n",
       "      <td>unknown</td>\n",
       "      <td>no</td>\n",
       "    </tr>\n",
       "    <tr>\n",
       "      <th>42</th>\n",
       "      <td>60</td>\n",
       "      <td>blue-collar</td>\n",
       "      <td>married</td>\n",
       "      <td>unknown</td>\n",
       "      <td>no</td>\n",
       "      <td>104</td>\n",
       "      <td>yes</td>\n",
       "      <td>no</td>\n",
       "      <td>unknown</td>\n",
       "      <td>5</td>\n",
       "      <td>may</td>\n",
       "      <td>22</td>\n",
       "      <td>1</td>\n",
       "      <td>-1</td>\n",
       "      <td>0</td>\n",
       "      <td>unknown</td>\n",
       "      <td>no</td>\n",
       "    </tr>\n",
       "    <tr>\n",
       "      <th>...</th>\n",
       "      <td>...</td>\n",
       "      <td>...</td>\n",
       "      <td>...</td>\n",
       "      <td>...</td>\n",
       "      <td>...</td>\n",
       "      <td>...</td>\n",
       "      <td>...</td>\n",
       "      <td>...</td>\n",
       "      <td>...</td>\n",
       "      <td>...</td>\n",
       "      <td>...</td>\n",
       "      <td>...</td>\n",
       "      <td>...</td>\n",
       "      <td>...</td>\n",
       "      <td>...</td>\n",
       "      <td>...</td>\n",
       "      <td>...</td>\n",
       "    </tr>\n",
       "    <tr>\n",
       "      <th>45129</th>\n",
       "      <td>46</td>\n",
       "      <td>technician</td>\n",
       "      <td>married</td>\n",
       "      <td>unknown</td>\n",
       "      <td>no</td>\n",
       "      <td>3308</td>\n",
       "      <td>no</td>\n",
       "      <td>no</td>\n",
       "      <td>cellular</td>\n",
       "      <td>27</td>\n",
       "      <td>oct</td>\n",
       "      <td>171</td>\n",
       "      <td>1</td>\n",
       "      <td>91</td>\n",
       "      <td>2</td>\n",
       "      <td>success</td>\n",
       "      <td>yes</td>\n",
       "    </tr>\n",
       "    <tr>\n",
       "      <th>45141</th>\n",
       "      <td>77</td>\n",
       "      <td>unknown</td>\n",
       "      <td>married</td>\n",
       "      <td>unknown</td>\n",
       "      <td>no</td>\n",
       "      <td>397</td>\n",
       "      <td>no</td>\n",
       "      <td>no</td>\n",
       "      <td>telephone</td>\n",
       "      <td>8</td>\n",
       "      <td>nov</td>\n",
       "      <td>207</td>\n",
       "      <td>1</td>\n",
       "      <td>185</td>\n",
       "      <td>3</td>\n",
       "      <td>success</td>\n",
       "      <td>no</td>\n",
       "    </tr>\n",
       "    <tr>\n",
       "      <th>45150</th>\n",
       "      <td>65</td>\n",
       "      <td>management</td>\n",
       "      <td>married</td>\n",
       "      <td>unknown</td>\n",
       "      <td>no</td>\n",
       "      <td>2352</td>\n",
       "      <td>no</td>\n",
       "      <td>no</td>\n",
       "      <td>cellular</td>\n",
       "      <td>8</td>\n",
       "      <td>nov</td>\n",
       "      <td>354</td>\n",
       "      <td>3</td>\n",
       "      <td>188</td>\n",
       "      <td>13</td>\n",
       "      <td>success</td>\n",
       "      <td>no</td>\n",
       "    </tr>\n",
       "    <tr>\n",
       "      <th>45158</th>\n",
       "      <td>34</td>\n",
       "      <td>student</td>\n",
       "      <td>single</td>\n",
       "      <td>unknown</td>\n",
       "      <td>no</td>\n",
       "      <td>2321</td>\n",
       "      <td>no</td>\n",
       "      <td>no</td>\n",
       "      <td>cellular</td>\n",
       "      <td>9</td>\n",
       "      <td>nov</td>\n",
       "      <td>600</td>\n",
       "      <td>2</td>\n",
       "      <td>99</td>\n",
       "      <td>5</td>\n",
       "      <td>failure</td>\n",
       "      <td>no</td>\n",
       "    </tr>\n",
       "    <tr>\n",
       "      <th>45186</th>\n",
       "      <td>59</td>\n",
       "      <td>unknown</td>\n",
       "      <td>married</td>\n",
       "      <td>unknown</td>\n",
       "      <td>no</td>\n",
       "      <td>1500</td>\n",
       "      <td>no</td>\n",
       "      <td>no</td>\n",
       "      <td>cellular</td>\n",
       "      <td>16</td>\n",
       "      <td>nov</td>\n",
       "      <td>280</td>\n",
       "      <td>1</td>\n",
       "      <td>104</td>\n",
       "      <td>2</td>\n",
       "      <td>failure</td>\n",
       "      <td>no</td>\n",
       "    </tr>\n",
       "  </tbody>\n",
       "</table>\n",
       "<p>1857 rows × 17 columns</p>\n",
       "</div>"
      ],
      "text/plain": [
       "       age          job  marital education default  balance housing loan  \\\n",
       "3       47  blue-collar  married   unknown      no     1506     yes   no   \n",
       "4       33      unknown   single   unknown      no        1      no   no   \n",
       "13      58   technician  married   unknown      no       71     yes   no   \n",
       "16      45        admin   single   unknown      no       13     yes   no   \n",
       "42      60  blue-collar  married   unknown      no      104     yes   no   \n",
       "...    ...          ...      ...       ...     ...      ...     ...  ...   \n",
       "45129   46   technician  married   unknown      no     3308      no   no   \n",
       "45141   77      unknown  married   unknown      no      397      no   no   \n",
       "45150   65   management  married   unknown      no     2352      no   no   \n",
       "45158   34      student   single   unknown      no     2321      no   no   \n",
       "45186   59      unknown  married   unknown      no     1500      no   no   \n",
       "\n",
       "         contact  day month  duration  campaign  pdays  previous poutcome    y  \n",
       "3        unknown    5   may        92         1     -1         0  unknown   no  \n",
       "4        unknown    5   may       198         1     -1         0  unknown   no  \n",
       "13       unknown    5   may        71         1     -1         0  unknown   no  \n",
       "16       unknown    5   may        98         1     -1         0  unknown   no  \n",
       "42       unknown    5   may        22         1     -1         0  unknown   no  \n",
       "...          ...  ...   ...       ...       ...    ...       ...      ...  ...  \n",
       "45129   cellular   27   oct       171         1     91         2  success  yes  \n",
       "45141  telephone    8   nov       207         1    185         3  success   no  \n",
       "45150   cellular    8   nov       354         3    188        13  success   no  \n",
       "45158   cellular    9   nov       600         2     99         5  failure   no  \n",
       "45186   cellular   16   nov       280         1    104         2  failure   no  \n",
       "\n",
       "[1857 rows x 17 columns]"
      ]
     },
     "execution_count": 8,
     "metadata": {},
     "output_type": "execute_result"
    }
   ],
   "source": [
    "df.loc[df[\"education\"] == \"unknown\"]"
   ]
  },
  {
   "cell_type": "code",
   "execution_count": 9,
   "metadata": {},
   "outputs": [
    {
     "data": {
      "text/html": [
       "<div>\n",
       "<style scoped>\n",
       "    .dataframe tbody tr th:only-of-type {\n",
       "        vertical-align: middle;\n",
       "    }\n",
       "\n",
       "    .dataframe tbody tr th {\n",
       "        vertical-align: top;\n",
       "    }\n",
       "\n",
       "    .dataframe thead th {\n",
       "        text-align: right;\n",
       "    }\n",
       "</style>\n",
       "<table border=\"1\" class=\"dataframe\">\n",
       "  <thead>\n",
       "    <tr style=\"text-align: right;\">\n",
       "      <th></th>\n",
       "      <th>age</th>\n",
       "      <th>job</th>\n",
       "      <th>marital</th>\n",
       "      <th>education</th>\n",
       "      <th>default</th>\n",
       "      <th>balance</th>\n",
       "      <th>housing</th>\n",
       "      <th>loan</th>\n",
       "      <th>contact</th>\n",
       "      <th>day</th>\n",
       "      <th>month</th>\n",
       "      <th>duration</th>\n",
       "      <th>campaign</th>\n",
       "      <th>pdays</th>\n",
       "      <th>previous</th>\n",
       "      <th>poutcome</th>\n",
       "      <th>y</th>\n",
       "    </tr>\n",
       "  </thead>\n",
       "  <tbody>\n",
       "    <tr>\n",
       "      <th>203</th>\n",
       "      <td>35</td>\n",
       "      <td>student</td>\n",
       "      <td>single</td>\n",
       "      <td>unknown</td>\n",
       "      <td>no</td>\n",
       "      <td>298</td>\n",
       "      <td>yes</td>\n",
       "      <td>no</td>\n",
       "      <td>unknown</td>\n",
       "      <td>5</td>\n",
       "      <td>may</td>\n",
       "      <td>611</td>\n",
       "      <td>2</td>\n",
       "      <td>-1</td>\n",
       "      <td>0</td>\n",
       "      <td>unknown</td>\n",
       "      <td>no</td>\n",
       "    </tr>\n",
       "    <tr>\n",
       "      <th>1401</th>\n",
       "      <td>26</td>\n",
       "      <td>student</td>\n",
       "      <td>single</td>\n",
       "      <td>unknown</td>\n",
       "      <td>no</td>\n",
       "      <td>-41</td>\n",
       "      <td>yes</td>\n",
       "      <td>no</td>\n",
       "      <td>unknown</td>\n",
       "      <td>8</td>\n",
       "      <td>may</td>\n",
       "      <td>229</td>\n",
       "      <td>2</td>\n",
       "      <td>-1</td>\n",
       "      <td>0</td>\n",
       "      <td>unknown</td>\n",
       "      <td>no</td>\n",
       "    </tr>\n",
       "    <tr>\n",
       "      <th>2259</th>\n",
       "      <td>21</td>\n",
       "      <td>student</td>\n",
       "      <td>single</td>\n",
       "      <td>unknown</td>\n",
       "      <td>no</td>\n",
       "      <td>137</td>\n",
       "      <td>yes</td>\n",
       "      <td>no</td>\n",
       "      <td>unknown</td>\n",
       "      <td>12</td>\n",
       "      <td>may</td>\n",
       "      <td>198</td>\n",
       "      <td>3</td>\n",
       "      <td>-1</td>\n",
       "      <td>0</td>\n",
       "      <td>unknown</td>\n",
       "      <td>no</td>\n",
       "    </tr>\n",
       "    <tr>\n",
       "      <th>4268</th>\n",
       "      <td>21</td>\n",
       "      <td>student</td>\n",
       "      <td>single</td>\n",
       "      <td>unknown</td>\n",
       "      <td>no</td>\n",
       "      <td>210</td>\n",
       "      <td>yes</td>\n",
       "      <td>no</td>\n",
       "      <td>unknown</td>\n",
       "      <td>19</td>\n",
       "      <td>may</td>\n",
       "      <td>53</td>\n",
       "      <td>1</td>\n",
       "      <td>-1</td>\n",
       "      <td>0</td>\n",
       "      <td>unknown</td>\n",
       "      <td>no</td>\n",
       "    </tr>\n",
       "    <tr>\n",
       "      <th>4442</th>\n",
       "      <td>32</td>\n",
       "      <td>student</td>\n",
       "      <td>single</td>\n",
       "      <td>unknown</td>\n",
       "      <td>no</td>\n",
       "      <td>1583</td>\n",
       "      <td>yes</td>\n",
       "      <td>no</td>\n",
       "      <td>unknown</td>\n",
       "      <td>20</td>\n",
       "      <td>may</td>\n",
       "      <td>57</td>\n",
       "      <td>1</td>\n",
       "      <td>-1</td>\n",
       "      <td>0</td>\n",
       "      <td>unknown</td>\n",
       "      <td>no</td>\n",
       "    </tr>\n",
       "    <tr>\n",
       "      <th>...</th>\n",
       "      <td>...</td>\n",
       "      <td>...</td>\n",
       "      <td>...</td>\n",
       "      <td>...</td>\n",
       "      <td>...</td>\n",
       "      <td>...</td>\n",
       "      <td>...</td>\n",
       "      <td>...</td>\n",
       "      <td>...</td>\n",
       "      <td>...</td>\n",
       "      <td>...</td>\n",
       "      <td>...</td>\n",
       "      <td>...</td>\n",
       "      <td>...</td>\n",
       "      <td>...</td>\n",
       "      <td>...</td>\n",
       "      <td>...</td>\n",
       "    </tr>\n",
       "    <tr>\n",
       "      <th>44790</th>\n",
       "      <td>21</td>\n",
       "      <td>student</td>\n",
       "      <td>single</td>\n",
       "      <td>unknown</td>\n",
       "      <td>no</td>\n",
       "      <td>1506</td>\n",
       "      <td>no</td>\n",
       "      <td>no</td>\n",
       "      <td>cellular</td>\n",
       "      <td>14</td>\n",
       "      <td>sep</td>\n",
       "      <td>340</td>\n",
       "      <td>1</td>\n",
       "      <td>-1</td>\n",
       "      <td>0</td>\n",
       "      <td>unknown</td>\n",
       "      <td>yes</td>\n",
       "    </tr>\n",
       "    <tr>\n",
       "      <th>44804</th>\n",
       "      <td>32</td>\n",
       "      <td>student</td>\n",
       "      <td>single</td>\n",
       "      <td>unknown</td>\n",
       "      <td>no</td>\n",
       "      <td>0</td>\n",
       "      <td>no</td>\n",
       "      <td>no</td>\n",
       "      <td>unknown</td>\n",
       "      <td>15</td>\n",
       "      <td>sep</td>\n",
       "      <td>7</td>\n",
       "      <td>1</td>\n",
       "      <td>-1</td>\n",
       "      <td>0</td>\n",
       "      <td>unknown</td>\n",
       "      <td>no</td>\n",
       "    </tr>\n",
       "    <tr>\n",
       "      <th>44823</th>\n",
       "      <td>20</td>\n",
       "      <td>student</td>\n",
       "      <td>single</td>\n",
       "      <td>unknown</td>\n",
       "      <td>no</td>\n",
       "      <td>2785</td>\n",
       "      <td>no</td>\n",
       "      <td>no</td>\n",
       "      <td>cellular</td>\n",
       "      <td>16</td>\n",
       "      <td>sep</td>\n",
       "      <td>327</td>\n",
       "      <td>2</td>\n",
       "      <td>-1</td>\n",
       "      <td>0</td>\n",
       "      <td>unknown</td>\n",
       "      <td>yes</td>\n",
       "    </tr>\n",
       "    <tr>\n",
       "      <th>44870</th>\n",
       "      <td>20</td>\n",
       "      <td>student</td>\n",
       "      <td>single</td>\n",
       "      <td>unknown</td>\n",
       "      <td>no</td>\n",
       "      <td>179</td>\n",
       "      <td>no</td>\n",
       "      <td>no</td>\n",
       "      <td>cellular</td>\n",
       "      <td>23</td>\n",
       "      <td>sep</td>\n",
       "      <td>317</td>\n",
       "      <td>1</td>\n",
       "      <td>182</td>\n",
       "      <td>6</td>\n",
       "      <td>failure</td>\n",
       "      <td>no</td>\n",
       "    </tr>\n",
       "    <tr>\n",
       "      <th>45158</th>\n",
       "      <td>34</td>\n",
       "      <td>student</td>\n",
       "      <td>single</td>\n",
       "      <td>unknown</td>\n",
       "      <td>no</td>\n",
       "      <td>2321</td>\n",
       "      <td>no</td>\n",
       "      <td>no</td>\n",
       "      <td>cellular</td>\n",
       "      <td>9</td>\n",
       "      <td>nov</td>\n",
       "      <td>600</td>\n",
       "      <td>2</td>\n",
       "      <td>99</td>\n",
       "      <td>5</td>\n",
       "      <td>failure</td>\n",
       "      <td>no</td>\n",
       "    </tr>\n",
       "  </tbody>\n",
       "</table>\n",
       "<p>163 rows × 17 columns</p>\n",
       "</div>"
      ],
      "text/plain": [
       "       age      job marital education default  balance housing loan   contact  \\\n",
       "203     35  student  single   unknown      no      298     yes   no   unknown   \n",
       "1401    26  student  single   unknown      no      -41     yes   no   unknown   \n",
       "2259    21  student  single   unknown      no      137     yes   no   unknown   \n",
       "4268    21  student  single   unknown      no      210     yes   no   unknown   \n",
       "4442    32  student  single   unknown      no     1583     yes   no   unknown   \n",
       "...    ...      ...     ...       ...     ...      ...     ...  ...       ...   \n",
       "44790   21  student  single   unknown      no     1506      no   no  cellular   \n",
       "44804   32  student  single   unknown      no        0      no   no   unknown   \n",
       "44823   20  student  single   unknown      no     2785      no   no  cellular   \n",
       "44870   20  student  single   unknown      no      179      no   no  cellular   \n",
       "45158   34  student  single   unknown      no     2321      no   no  cellular   \n",
       "\n",
       "       day month  duration  campaign  pdays  previous poutcome    y  \n",
       "203      5   may       611         2     -1         0  unknown   no  \n",
       "1401     8   may       229         2     -1         0  unknown   no  \n",
       "2259    12   may       198         3     -1         0  unknown   no  \n",
       "4268    19   may        53         1     -1         0  unknown   no  \n",
       "4442    20   may        57         1     -1         0  unknown   no  \n",
       "...    ...   ...       ...       ...    ...       ...      ...  ...  \n",
       "44790   14   sep       340         1     -1         0  unknown  yes  \n",
       "44804   15   sep         7         1     -1         0  unknown   no  \n",
       "44823   16   sep       327         2     -1         0  unknown  yes  \n",
       "44870   23   sep       317         1    182         6  failure   no  \n",
       "45158    9   nov       600         2     99         5  failure   no  \n",
       "\n",
       "[163 rows x 17 columns]"
      ]
     },
     "execution_count": 9,
     "metadata": {},
     "output_type": "execute_result"
    }
   ],
   "source": [
    "df.loc[(df[\"education\"] == \"unknown\") & (df[\"job\"] == \"student\")]"
   ]
  },
  {
   "cell_type": "code",
   "execution_count": 10,
   "metadata": {
    "scrolled": false
   },
   "outputs": [
    {
     "data": {
      "text/html": [
       "<div>\n",
       "<style scoped>\n",
       "    .dataframe tbody tr th:only-of-type {\n",
       "        vertical-align: middle;\n",
       "    }\n",
       "\n",
       "    .dataframe tbody tr th {\n",
       "        vertical-align: top;\n",
       "    }\n",
       "\n",
       "    .dataframe thead th {\n",
       "        text-align: right;\n",
       "    }\n",
       "</style>\n",
       "<table border=\"1\" class=\"dataframe\">\n",
       "  <thead>\n",
       "    <tr style=\"text-align: right;\">\n",
       "      <th></th>\n",
       "      <th>age</th>\n",
       "      <th>job</th>\n",
       "      <th>marital</th>\n",
       "      <th>education</th>\n",
       "      <th>default</th>\n",
       "      <th>balance</th>\n",
       "      <th>housing</th>\n",
       "      <th>loan</th>\n",
       "      <th>contact</th>\n",
       "      <th>day</th>\n",
       "      <th>month</th>\n",
       "      <th>duration</th>\n",
       "      <th>campaign</th>\n",
       "      <th>pdays</th>\n",
       "      <th>previous</th>\n",
       "      <th>poutcome</th>\n",
       "      <th>y</th>\n",
       "    </tr>\n",
       "  </thead>\n",
       "  <tbody>\n",
       "    <tr>\n",
       "      <th>0</th>\n",
       "      <td>58</td>\n",
       "      <td>0</td>\n",
       "      <td>1</td>\n",
       "      <td>3</td>\n",
       "      <td>0</td>\n",
       "      <td>2143</td>\n",
       "      <td>1</td>\n",
       "      <td>0</td>\n",
       "      <td>0</td>\n",
       "      <td>5</td>\n",
       "      <td>4</td>\n",
       "      <td>261</td>\n",
       "      <td>1</td>\n",
       "      <td>-1</td>\n",
       "      <td>0</td>\n",
       "      <td>0</td>\n",
       "      <td>0</td>\n",
       "    </tr>\n",
       "    <tr>\n",
       "      <th>1</th>\n",
       "      <td>44</td>\n",
       "      <td>1</td>\n",
       "      <td>0</td>\n",
       "      <td>2</td>\n",
       "      <td>0</td>\n",
       "      <td>29</td>\n",
       "      <td>1</td>\n",
       "      <td>0</td>\n",
       "      <td>0</td>\n",
       "      <td>5</td>\n",
       "      <td>4</td>\n",
       "      <td>151</td>\n",
       "      <td>1</td>\n",
       "      <td>-1</td>\n",
       "      <td>0</td>\n",
       "      <td>0</td>\n",
       "      <td>0</td>\n",
       "    </tr>\n",
       "    <tr>\n",
       "      <th>2</th>\n",
       "      <td>33</td>\n",
       "      <td>2</td>\n",
       "      <td>1</td>\n",
       "      <td>2</td>\n",
       "      <td>0</td>\n",
       "      <td>2</td>\n",
       "      <td>1</td>\n",
       "      <td>1</td>\n",
       "      <td>0</td>\n",
       "      <td>5</td>\n",
       "      <td>4</td>\n",
       "      <td>76</td>\n",
       "      <td>1</td>\n",
       "      <td>-1</td>\n",
       "      <td>0</td>\n",
       "      <td>0</td>\n",
       "      <td>0</td>\n",
       "    </tr>\n",
       "    <tr>\n",
       "      <th>3</th>\n",
       "      <td>47</td>\n",
       "      <td>3</td>\n",
       "      <td>1</td>\n",
       "      <td>0</td>\n",
       "      <td>0</td>\n",
       "      <td>1506</td>\n",
       "      <td>1</td>\n",
       "      <td>0</td>\n",
       "      <td>0</td>\n",
       "      <td>5</td>\n",
       "      <td>4</td>\n",
       "      <td>92</td>\n",
       "      <td>1</td>\n",
       "      <td>-1</td>\n",
       "      <td>0</td>\n",
       "      <td>0</td>\n",
       "      <td>0</td>\n",
       "    </tr>\n",
       "    <tr>\n",
       "      <th>4</th>\n",
       "      <td>33</td>\n",
       "      <td>4</td>\n",
       "      <td>0</td>\n",
       "      <td>0</td>\n",
       "      <td>0</td>\n",
       "      <td>1</td>\n",
       "      <td>0</td>\n",
       "      <td>0</td>\n",
       "      <td>0</td>\n",
       "      <td>5</td>\n",
       "      <td>4</td>\n",
       "      <td>198</td>\n",
       "      <td>1</td>\n",
       "      <td>-1</td>\n",
       "      <td>0</td>\n",
       "      <td>0</td>\n",
       "      <td>0</td>\n",
       "    </tr>\n",
       "  </tbody>\n",
       "</table>\n",
       "</div>"
      ],
      "text/plain": [
       "   age  job  marital  education  default  balance  housing  loan  contact  \\\n",
       "0   58    0        1          3        0     2143        1     0        0   \n",
       "1   44    1        0          2        0       29        1     0        0   \n",
       "2   33    2        1          2        0        2        1     1        0   \n",
       "3   47    3        1          0        0     1506        1     0        0   \n",
       "4   33    4        0          0        0        1        0     0        0   \n",
       "\n",
       "   day  month  duration  campaign  pdays  previous  poutcome  y  \n",
       "0    5      4       261         1     -1         0         0  0  \n",
       "1    5      4       151         1     -1         0         0  0  \n",
       "2    5      4        76         1     -1         0         0  0  \n",
       "3    5      4        92         1     -1         0         0  0  \n",
       "4    5      4       198         1     -1         0         0  0  "
      ]
     },
     "execution_count": 10,
     "metadata": {},
     "output_type": "execute_result"
    }
   ],
   "source": [
    "# Encoding data\n",
    "jobs = {\"management\":0, \"technician\" : 1, \"entrepreneur\": 2, \"blue-collar\": 3, \n",
    "       \"unknown\" : 4, \"retired\" : 5, \"admin\" : 6, \"services\" : 7, \"self-employed\" : 8,\n",
    "       \"unemployed\" : 9, \"housemaid\" : 10, \"student\": 11} # Nominal field\n",
    "\n",
    "marital = {\"single\" : 0, \"married\": 1, \"divorced\": 2} # Nominal field\n",
    "\n",
    "educational = {\"unknown\":0, \"primary\" : 1, \"secondary\" : 2, \"tertiary\": 3} # Ordinal field\n",
    "\n",
    "yes_no_type_fields = {\"no\" : 0, \"yes\" : 1}\n",
    "\n",
    "contact = {\"unknown\" : 0, \"cellular\" : 1, \"telephone\" : 2} # Nominal field\n",
    "\n",
    "month = {\"jan\":0, \"feb\":1, \"mar\":2, \"apr\":3, \"may\":4, \"jun\":5, \"jul\":6,\n",
    "        \"aug\":7, \"sep\":8, \"oct\":9, \"nov\":10, \"dec\":11} # Ordinal field\n",
    "\n",
    "poutcome = {\"unknown\":0, \"failure\":1, \"other\":2, \"success\": 3} # Nominal field\n",
    "\n",
    "\n",
    "# Apply these encoding to the categorical fields\n",
    "\n",
    "df[\"job\"] = df[\"job\"].apply(lambda x: jobs[x])\n",
    "df[\"marital\"] = df[\"marital\"].apply(lambda x: marital[x])\n",
    "df[\"education\"] = df[\"education\"].apply(lambda x: educational[x])\n",
    "df[\"default\"] = df[\"default\"].apply(lambda x: yes_no_type_fields[x])\n",
    "df[\"housing\"] = df[\"housing\"].apply(lambda x: yes_no_type_fields[x])\n",
    "df[\"loan\"] = df[\"loan\"].apply(lambda x: yes_no_type_fields[x])\n",
    "df[\"y\"] = df[\"y\"].apply(lambda x: yes_no_type_fields[x])\n",
    "df[\"month\"] = df[\"month\"].apply(lambda x: month[x])\n",
    "df[\"contact\"] = df[\"contact\"].apply(lambda x: contact[x])\n",
    "df[\"poutcome\"] = df[\"poutcome\"].apply(lambda x: poutcome[x])\n",
    "\n",
    "# Let's look at the DataFrame now after applying these encoding\n",
    "df.head()"
   ]
  },
  {
   "cell_type": "markdown",
   "metadata": {},
   "source": [
    "# Target Distribution"
   ]
  },
  {
   "cell_type": "code",
   "execution_count": 11,
   "metadata": {},
   "outputs": [
    {
     "data": {
      "text/plain": [
       "<matplotlib.axes._subplots.AxesSubplot at 0x7fcd018dbb20>"
      ]
     },
     "execution_count": 11,
     "metadata": {},
     "output_type": "execute_result"
    },
    {
     "data": {
      "image/png": "[encoded data removed]",
      "text/plain": [
       "<Figure size 1080x720 with 1 Axes>"
      ]
     },
     "metadata": {},
     "output_type": "display_data"
    }
   ],
   "source": [
    "plt.figure(figsize=(15, 10))\n",
    "sns.countplot(x=\"y\", data=df)"
   ]
  },
  {
   "cell_type": "markdown",
   "metadata": {},
   "source": [
    "# Outlier Analysis\n",
    "\n",
    "For the Outlier Analysis I am applying the IQR rule the formula for which is \n",
    "\n",
    "$$\n",
    "\\begin{equation}\n",
    "IQR := Q3 - Q1 \\\\\n",
    "LB := Q1 - (1.5 \\times IQR) \\\\\n",
    "UB := Q3 + (1.5 \\times IQR)\n",
    "\\end{equation}\n",
    "$$\n",
    "\n",
    "The Other workaround is to use Z-Scores whose formula is :\n",
    "\n",
    "$$\n",
    "\\begin{equation}\n",
    "Z := \\frac{x - \\mu}{\\sigma}\n",
    "\\end{equation}\n",
    "$$\n",
    "\n",
    "**Note** : IQR is non-parameteric while z-score is parametric and Z-Score assumes that the data is a Normal Distribution"
   ]
  },
  {
   "cell_type": "markdown",
   "metadata": {},
   "source": [
    "### Outliers in `age` field"
   ]
  },
  {
   "cell_type": "code",
   "execution_count": 12,
   "metadata": {},
   "outputs": [
    {
     "name": "stdout",
     "output_type": "stream",
     "text": [
      "Any values <10.5 : [], len: 0\n",
      "Any values >70.5 : [83 75 72 71 76 85 90 82 73 74 78 80 94 79 77 86 95 81 89 84 87 92 93 88], len : 24\n"
     ]
    }
   ],
   "source": [
    "q1_age = df[\"age\"].quantile(0.25)\n",
    "q3_age = df[\"age\"].quantile(0.75)\n",
    "iqr_age = q3_age - q1_age\n",
    "lb_age = q1_age - (1.5 * iqr_age)\n",
    "ub_age = q3_age + (1.5 * iqr_age)\n",
    "\n",
    "print(f\"Any values <{lb_age} : {df.loc[df['age'] < lb_age, 'age'].unique()}, len: {len(df.loc[df['age'] < lb_age, 'age'].unique())}\")\n",
    "print(f\"Any values >{ub_age} : {df.loc[df['age'] > ub_age, 'age'].unique()}, len : {len(df.loc[df['age'] > ub_age, 'age'].unique())}\")"
   ]
  },
  {
   "cell_type": "code",
   "execution_count": 13,
   "metadata": {},
   "outputs": [
    {
     "data": {
      "text/plain": [
       "<matplotlib.axes._subplots.AxesSubplot at 0x7fcd010077c0>"
      ]
     },
     "execution_count": 13,
     "metadata": {},
     "output_type": "execute_result"
    },
    {
     "data": {
      "image/png": "[encoded data removed]",
      "text/plain": [
       "<Figure size 576x504 with 1 Axes>"
      ]
     },
     "metadata": {},
     "output_type": "display_data"
    }
   ],
   "source": [
    "df.boxplot(column=\"age\")"
   ]
  },
  {
   "cell_type": "markdown",
   "metadata": {},
   "source": [
    "### Outliers in `balance` field"
   ]
  },
  {
   "cell_type": "code",
   "execution_count": 14,
   "metadata": {
    "scrolled": true
   },
   "outputs": [
    {
     "name": "stdout",
     "output_type": "stream",
     "text": [
      "Any values < -1962.0 : [-3313 -3372 -2049 -1968 -8019 -2093 -1965 -2282 -6847 -2082 -2827 -1980\n",
      " -2604 -2122 -2712 -3058 -4057], len : 17\n",
      "Any values >3462.0 : [10635  6530 12223 ...  8205 14204 16353], len: 4712\n"
     ]
    }
   ],
   "source": [
    "q1_balance = df[\"balance\"].quantile(0.25)\n",
    "q3_balance = df[\"balance\"].quantile(0.75)\n",
    "iqr_balance = q3_balance - q1_balance\n",
    "lb_balance = q1_balance - (1.5 * iqr_balance)\n",
    "ub_balance = q3_balance + (1.5 * iqr_balance)\n",
    "\n",
    "print(f\"Any values < {lb_balance} : {df.loc[df['balance'] < lb_balance, 'balance'].unique()}, len : {len(df.loc[df['balance'] < lb_balance])}\")\n",
    "print(f\"Any values >{ub_balance} : {df.loc[df['balance'] > ub_balance, 'balance'].unique()}, len: {len(df.loc[df['balance'] > ub_balance])}\")"
   ]
  },
  {
   "cell_type": "code",
   "execution_count": 15,
   "metadata": {},
   "outputs": [
    {
     "data": {
      "text/plain": [
       "<matplotlib.axes._subplots.AxesSubplot at 0x7fcd2c46f340>"
      ]
     },
     "execution_count": 15,
     "metadata": {},
     "output_type": "execute_result"
    },
    {
     "data": {
      "image/png": "[encoded data removed]",
      "text/plain": [
       "<Figure size 576x504 with 1 Axes>"
      ]
     },
     "metadata": {},
     "output_type": "display_data"
    }
   ],
   "source": [
    "df.boxplot(column=\"balance\")"
   ]
  },
  {
   "cell_type": "markdown",
   "metadata": {},
   "source": [
    "### Outliers in `day` field"
   ]
  },
  {
   "cell_type": "code",
   "execution_count": 16,
   "metadata": {},
   "outputs": [
    {
     "name": "stdout",
     "output_type": "stream",
     "text": [
      "Any values <-11.5:[], len:0\n",
      "Any values >40.5:[], len:0\n"
     ]
    }
   ],
   "source": [
    "q1_day = df[\"day\"].quantile(0.25)\n",
    "q3_day = df[\"day\"].quantile(0.75)\n",
    "iqr_day = q3_day - q1_day\n",
    "lb_day = q1_day - (1.5 * iqr_day)\n",
    "ub_day = q3_day + (1.5 * iqr_day)\n",
    "print(f\"Any values <{lb_day}:{df.loc[df['day'] < lb_day, 'day'].unique()}, len:{len(df.loc[df['day'] < lb_day])}\")\n",
    "print(f\"Any values >{ub_day}:{df.loc[df['day'] > ub_day, 'day'].unique()}, len:{len(df.loc[df['day'] > ub_day])}\")"
   ]
  },
  {
   "cell_type": "code",
   "execution_count": 17,
   "metadata": {},
   "outputs": [
    {
     "data": {
      "text/plain": [
       "<matplotlib.axes._subplots.AxesSubplot at 0x7fcd00f96eb0>"
      ]
     },
     "execution_count": 17,
     "metadata": {},
     "output_type": "execute_result"
    },
    {
     "data": {
      "image/png": "[encoded data removed]",
      "text/plain": [
       "<Figure size 576x504 with 1 Axes>"
      ]
     },
     "metadata": {},
     "output_type": "display_data"
    }
   ],
   "source": [
    "df.boxplot(column=\"day\")"
   ]
  },
  {
   "cell_type": "markdown",
   "metadata": {},
   "source": [
    "### Outliers in `duration`"
   ]
  },
  {
   "cell_type": "code",
   "execution_count": 18,
   "metadata": {
    "scrolled": true
   },
   "outputs": [
    {
     "name": "stdout",
     "output_type": "stream",
     "text": [
      "Any values <-221.0:[], len : 0\n",
      "Any values >643.0:[1666 1492  787 1778  812 1042 1467 1389  849  677 2033  673 1056  717\n",
      "  683 1077 1419  730  746  702  714  962  742  669  680  808  652 1201\n",
      " 1030  769  744  765 1623  678  699 1677  918 1297 1906  703  802  684\n",
      "  739 1597 1529  720  852  923  953  732 1521  800 1138  786  799  866\n",
      " 1581  650 1101  912  690 1062  688 2177  764 1273 1574  984 1689  697\n",
      "  944 1102  943  813 1040 1084  693 1119 1120  784  665  712 1007  667\n",
      "  982  756  807 2087  956  985  672 1187  826  847  659  772  929  710\n",
      "  705 2462  825  646  653 1028  654 1087 1692 2016 1054 1170 1713  663\n",
      " 1080 1461  750 1178  752  878  834 1534  836 1002  757 1147  820  788\n",
      "  832 1495  891 1083 1266  793 1727 1875  907  723  704 1346 1386 3366\n",
      " 1000 2231 1167  806  766 1015  768 1001  845  853  916  753  708  805\n",
      "  901  851 1052  647  771 1106  945  816 1721 1032  735  942  824 1553\n",
      " 1328  686 1125  858  760  869  833  930  829  749  850  977  927  762\n",
      " 1044  668  902  738 2241 1118 1423  747 1204 1013 1162  755  644 1088\n",
      " 1036  695 1257 1165  651  920 1244  657  759  815  911  973  995 1224\n",
      "  964 1156 1231 1051 1392 1867 1263  770  809  855  875  734  803  844\n",
      "  676  656 1252 1143  731  754  679 1230  767  894  865 1340  897 1161\n",
      "  698 1128 1135 1408  827 1193 1144 1023 1245 1064  882  792  798 1203\n",
      " 1022 1622  967  886 1218 3078  661 1205 1882 1334  775 1777  774 1452\n",
      " 1376 1182 1045  999 1063 1410 1287  843  919  777  725  719  692  905\n",
      "  783  872  958  648  951  795  726  828  649 1091 1307  748  899  857\n",
      "  660 1681 1409  811  681 1697  860 1094  965  987  671  935  713  700\n",
      " 1349 1171  736  785 1073  924  881  691 1003  926  773  922  893 1438\n",
      "  937 1222 1034 1066 1099  682  974  745  863  664 1560  880 1234  729\n",
      "  895  796  724  741 1272 1446  896  763  955  674  740  776  751  709\n",
      " 3094  662 1168  938  861 1210  821 1183  675  694  864 1730 1277 1196\n",
      "  733  791 1236 1207  936  932  689 1059  789  685 1611 1185  814  859\n",
      " 1363 1109  645 2260  917  711  867 1133  854 1269  868 1097 1500 1212\n",
      " 1343 1980  722  888 1075 1068  658  758  966 1576  707 1173  963  941\n",
      " 1025  801 2456  959 1259  666 1516 1336 1242 1141 1519 1449 1181  908\n",
      "  910 1149 1123 1009  701  761 1558 1053 1005 1865  817 1302 1018  884\n",
      "  718 1121  939 1276 1994  862  968 1041 1288 2653 1085 1330 1469 1291\n",
      " 1055 1098  940 1151 3881  952 1137  948 1159  706 1199  950  904 1290\n",
      " 1010  781  885  993 1268 1243 1323 1093 1395 1238 1089 1021 1248  721\n",
      " 2769  986 1345 2621  979 1208 1365  906  835 1029 1528 1487 1540 1812\n",
      " 1255 2093 1195 1060 2485 1082  818  810 1318 2028 1017  779 1012 2635\n",
      " 1403  716  838 1573 1663 1617 1478 1422  804  988  670  655  790 3183\n",
      "  856  780 1992  957  840 1434  782 1103  889 1200 2201  830 1046 1767\n",
      " 1027  831 1720  819 1061  687 1111 1011 1486  990  727 1014 1439 1426\n",
      "  998 1019  961 1341 2029 1499 1399  970 1973 1649 1310 1397 1153 1130\n",
      " 1669 1271  778  794  981 1424 1142 1412  715 1806 1150  873 1432 1039\n",
      " 1656 1339 1473 1275 1008 1584 1448 1390 1319 1175  728  991  903 1303\n",
      " 1081  978 1503 1127  909 1360 1373  837  913 1139 1425 1105 1877 1220\n",
      " 1342 1134  898 1352 1545 1833 1508 1237 1148 1037 1226 1608  870 1152\n",
      "  874 1331 1327 1090 2078 1124 1309 1359  933 1417 1484 1441 1491  915\n",
      " 1206 1869  823  947 1820 1602 1209 1946  743 2015 1031 1368  946 1369\n",
      " 1169 1096  890 1076 1569 2516  797 1186 1058 1140 1078 1211 1567 2692\n",
      "  921 1107  841 1739  846 1110 1488 1536 1092 1311 1113 1227  996 1357\n",
      "  931 2191 1249 1250 1471 1456 1462 1834 1321 3422  876 1934 1306  994\n",
      "  848 1070 1687 1504 1282  971 1650  696 1344 1613 1735 1476 1842  969\n",
      "  900  737  871 1314 1217 3322 1184 1579 1871 1126 1364 1559 1293 1241\n",
      " 1740 1464 1532 1026 1258 1329 1809 1374 1223 1033  976 1642 1176 2372\n",
      " 3253 2429 3284 1239 4918 1789 1606 1531 1132  960 1978 1164 1855 1437\n",
      "  989 1377 1122 1554  925 1057 1548 1283 1502 1065 1265 1792 1662 1468\n",
      " 1337 1435  997 1192 1816 1256 1490 1154 1035 1166  972 1145 2420 1598\n",
      " 2453 1221 1158 1074  980 1571 1555 1067 1914 1048 1387 1232 1972 1745\n",
      " 2150 1451 1600 1917  914 2770 1296 1431 3025 1776 1136  928 1086 1790\n",
      " 1420 2256 1393 1635 1404 2053 1294 1416 1261 1381 1213 2775 1916 1837\n",
      " 1823 1661 1960 1658 3102 1160 1047 1541 1971 1447 2330 3076 2870 1859\n",
      " 1108 1353 2129 1190 1665 1691 1006 1594 1372 1038 1366 1174 1463 1095\n",
      "  949 1332 1202 1112 1550 1817 1333 1348 1240 1100  954 1079  839 1131\n",
      " 1489 1347 1957 1191  983 1254 1391  877  892 1262 1024 1049 1514 1114\n",
      " 1388 1925 1710 1512 1966 1970 1975 1805 1279  992 1180 1020 1723 1129\n",
      " 1286 1380  934 1326 1313 2301 1880 1460 2219 1361 1543 1603  883 1284\n",
      "  822  975 1225 1117 2027 2055  879 1962 1702 1104 1551 1580 2187 1707\n",
      " 1233 2184 1628 1804 2062 1472 1370 1616 1835 1563 2389 1407 1179 3785\n",
      " 1440 1405 1298 1246 1556], len : 929\n"
     ]
    }
   ],
   "source": [
    "q1_duration = df[\"duration\"].quantile(0.25)\n",
    "q3_duration = df[\"duration\"].quantile(0.75)\n",
    "\n",
    "iqr_duration = q3_duration - q1_duration\n",
    "lb_duration = q1_duration - (1.5 * iqr_duration)\n",
    "ub_duration = q3_duration + (1.5 * iqr_duration)\n",
    "\n",
    "print(f\"Any values <{lb_duration}:{df.loc[df['duration'] < lb_duration, 'duration'].unique()}, len : {len(df.loc[df['duration'] < lb_duration, 'duration'].unique())}\")\n",
    "print(f\"Any values >{ub_duration}:{df.loc[df['duration'] > ub_duration, 'duration'].unique()}, len : {len(df.loc[df['duration'] > ub_duration, 'duration'].unique())}\")"
   ]
  },
  {
   "cell_type": "code",
   "execution_count": 19,
   "metadata": {},
   "outputs": [
    {
     "data": {
      "text/plain": [
       "<matplotlib.axes._subplots.AxesSubplot at 0x7fcd00f29850>"
      ]
     },
     "execution_count": 19,
     "metadata": {},
     "output_type": "execute_result"
    },
    {
     "data": {
      "image/png": "[encoded data removed]",
      "text/plain": [
       "<Figure size 576x504 with 1 Axes>"
      ]
     },
     "metadata": {},
     "output_type": "display_data"
    }
   ],
   "source": [
    "df.boxplot(column=\"duration\")"
   ]
  },
  {
   "cell_type": "markdown",
   "metadata": {},
   "source": [
    "### Outliers in `campaign`"
   ]
  },
  {
   "cell_type": "code",
   "execution_count": 20,
   "metadata": {},
   "outputs": [
    {
     "name": "stdout",
     "output_type": "stream",
     "text": [
      "Any values <-2.0 : [], len:0\n",
      "Any values >6.0 : [ 7  8  9 10 11 12 13 19 14 24 16 32 18 22 15 17 25 21 43 51 63 41 26 28\n",
      " 55 50 38 23 20 29 31 37 30 46 27 58 33 35 34 36 39 44], len:42\n"
     ]
    }
   ],
   "source": [
    "q1_campaign = df[\"campaign\"].quantile(0.25)\n",
    "q3_campaign = df[\"campaign\"].quantile(0.75)\n",
    "iqr_campaign = q3_campaign - q1_campaign\n",
    "\n",
    "lb_campaign = q1_campaign - (1.5 * iqr_campaign)\n",
    "ub_campaign = q3_campaign + (1.5 * iqr_campaign)\n",
    "\n",
    "print(f\"Any values <{lb_campaign} : {df.loc[df['campaign'] < lb_campaign, 'campaign'].unique()}, len:{len(df.loc[df['campaign'] < lb_campaign, 'campaign'].unique())}\")\n",
    "print(f\"Any values >{ub_campaign} : {df.loc[df['campaign'] > ub_campaign, 'campaign'].unique()}, len:{len(df.loc[df['campaign'] > ub_campaign, 'campaign'].unique())}\")\n"
   ]
  },
  {
   "cell_type": "code",
   "execution_count": 21,
   "metadata": {},
   "outputs": [
    {
     "data": {
      "text/plain": [
       "<matplotlib.axes._subplots.AxesSubplot at 0x7fcd00e82c10>"
      ]
     },
     "execution_count": 21,
     "metadata": {},
     "output_type": "execute_result"
    },
    {
     "data": {
      "image/png": "[encoded data removed]",
      "text/plain": [
       "<Figure size 576x504 with 1 Axes>"
      ]
     },
     "metadata": {},
     "output_type": "display_data"
    }
   ],
   "source": [
    "df.boxplot(column=\"campaign\")"
   ]
  },
  {
   "cell_type": "markdown",
   "metadata": {},
   "source": [
    "### Outliers in `pdays`"
   ]
  },
  {
   "cell_type": "code",
   "execution_count": 22,
   "metadata": {},
   "outputs": [
    {
     "name": "stdout",
     "output_type": "stream",
     "text": [
      "Any values < -1.0 : [], len:0\n",
      "Any values > -1.0 : [151 166  91  86 143 147  89 140 176 101 174 170 167 195 165 129 188 196\n",
      " 172 118 119 104 171 117 164 132 131 123 159 186 111 115 116 173 178 110\n",
      " 152  96 103 150 175 193 181 185 154 145 138 126 180 109 158 168  97 182\n",
      " 127 130 194 125 105 102  26 179  28 183 155 112 120 137 124 187 190 113\n",
      " 162 134 169 189   8 144 191 184 177   5  99 133  93  92  10 100 156 198\n",
      " 106 153 146 128   7 121 160 107  90  27 197 136 139 122 157 149 135  30\n",
      " 114  98 192 163  34  95 141  31 199  94 108  29 268 247 253 226 244 239\n",
      " 245 204 231 238 258 230 254 265  71 223 246 250 266 240 205 261 259 241\n",
      " 260 234 251 225 161 237 262 248 255 220 227 206 224 249 235 228 263   2\n",
      " 270 232 252 207 200 269 233 256 273 272 242 264 208 214 222 271 203 221\n",
      " 202 216 201 257 229 210 217  75 213  73  76 267 211 215  77 236  82   6\n",
      " 209 274   1 243 212 275  80 276   9 279  12 280  88 277  85  84 219  24\n",
      "  21 282  41 294  49 329 307 303 331 308 300  64 314 287 330 332 302 323\n",
      " 318 333  60 326 335 313 312 305 325 327 336 309 328 322  39 316 292 295\n",
      " 310 306 320 317 289  57 321 142 339 301 315 337 334 340 319  17  74 148\n",
      " 341 299 344 342 324 345 346 304 281 343 338  14 347  15 291 348 349 285\n",
      " 350 284  25 283 278  81   4  87  83  79  70  13 293  37  78  63  22 296\n",
      " 355  66  19  35 360 357 354 351 362 358 365 298 286 364 363  47 361 288\n",
      " 366 356 352 359 297 367 353 368  42 290  67 371 370 369  50  36 373 374\n",
      " 372 311 375 378  59 379  40  18  43  20  69  38 385  56  55  44 391  72\n",
      " 390  32  62 399 393  65 377 395 388 389 386  61 412 405 434 394 382 459\n",
      " 440 397 383  68 461 462 463 422  51 457 430 442 403 454 428 392 410 401\n",
      " 474 475 477 478  54 476 380 479  45  46 495  58  48 518  52 515 520 511\n",
      " 536 387 218  33 544 435 436 555 433 446 558 469 616 561 553 384 592 467\n",
      " 585 480 421 667 626 426 595 381 376 648 521 452 449 633 398  53 460 670\n",
      " 551 414 557 687 404 651 686 425 504 578 674 416 586 411 756 450 745 514\n",
      " 417 424 776 396 683 529 439 415 456 407 458 532 481 791 701 531 792 413\n",
      " 445 535 784 419 455 491 431 542 470 472 717 437   3 782 728 828 524 562\n",
      " 761 492 775 579 493 464 760 466 465 656 831 490 432 655 427 749 838 769\n",
      " 587 778 854 779 850 771 594 842 589 603 484 489 486 409 444 680 808 485\n",
      " 503 690 772 774 526 420 528 500 826 804 508 547 805 541 543 871 550 530], len:558\n"
     ]
    }
   ],
   "source": [
    "q1_pdays = df[\"pdays\"].quantile(0.25)\n",
    "q3_pdays = df[\"pdays\"].quantile(0.75)\n",
    "\n",
    "iqr_pdays = q3_pdays - q1_pdays\n",
    "lb_pdays = q1_pdays - (1.5 * iqr_pdays)\n",
    "ub_pdays = q3_pdays + (1.5 * iqr_pdays)\n",
    "\n",
    "print(f\"Any values < {lb_pdays} : {df.loc[df['pdays'] < lb_pdays, 'pdays'].unique()}, len:{len(df.loc[df['pdays'] < lb_pdays, 'pdays'].unique())}\")\n",
    "print(f\"Any values > {ub_pdays} : {df.loc[df['pdays'] > ub_pdays, 'pdays'].unique()}, len:{len(df.loc[df['pdays'] > ub_pdays, 'pdays'].unique())}\")"
   ]
  },
  {
   "cell_type": "code",
   "execution_count": 23,
   "metadata": {},
   "outputs": [
    {
     "data": {
      "text/plain": [
       "<matplotlib.axes._subplots.AxesSubplot at 0x7fcd00e65d30>"
      ]
     },
     "execution_count": 23,
     "metadata": {},
     "output_type": "execute_result"
    },
    {
     "data": {
      "image/png": "[encoded data removed]",
      "text/plain": [
       "<Figure size 576x504 with 1 Axes>"
      ]
     },
     "metadata": {},
     "output_type": "display_data"
    }
   ],
   "source": [
    "df.boxplot(column=\"pdays\")"
   ]
  },
  {
   "cell_type": "markdown",
   "metadata": {},
   "source": [
    "### Outliers in `previous`"
   ]
  },
  {
   "cell_type": "code",
   "execution_count": 24,
   "metadata": {},
   "outputs": [
    {
     "name": "stdout",
     "output_type": "stream",
     "text": [
      "Any values < 0.0 : [], len: 0\n",
      "Any values > 0.0 : [  3   1   4   2  11  16   6   5  10  12   7  18   9  21   8  14  15  26\n",
      "  37  13  25  20  27  17  23  38  29  24  51 275  22  19  30  58  28  32\n",
      "  40  55  35  41], len: 40\n"
     ]
    }
   ],
   "source": [
    "q1_previous = df[\"previous\"].quantile(0.25)\n",
    "q3_previous = df[\"previous\"].quantile(0.75)\n",
    "\n",
    "iqr_previous = q3_previous - q1_previous\n",
    "lb_previous = q1_previous - (1.5 * iqr_previous)\n",
    "ub_previous = q3_previous + (1.5 * iqr_previous)\n",
    "\n",
    "print(f\"Any values < {lb_previous} : {df.loc[df['previous'] < lb_previous, 'previous'].unique()}, len: {len(df.loc[df['previous'] < lb_previous, 'previous'].unique())}\")\n",
    "print(f\"Any values > {ub_previous} : {df.loc[df['previous'] > ub_previous, 'previous'].unique()}, len: {len(df.loc[df['previous'] > ub_previous, 'previous'].unique())}\")"
   ]
  },
  {
   "cell_type": "code",
   "execution_count": 25,
   "metadata": {},
   "outputs": [
    {
     "data": {
      "text/plain": [
       "<matplotlib.axes._subplots.AxesSubplot at 0x7fcd00e65ca0>"
      ]
     },
     "execution_count": 25,
     "metadata": {},
     "output_type": "execute_result"
    },
    {
     "data": {
      "image/png": "[encoded data removed]",
      "text/plain": [
       "<Figure size 576x504 with 1 Axes>"
      ]
     },
     "metadata": {},
     "output_type": "display_data"
    }
   ],
   "source": [
    "df.boxplot(column=\"previous\")"
   ]
  },
  {
   "cell_type": "markdown",
   "metadata": {},
   "source": [
    "# Observations\n",
    "\n",
    "* The `age` field has an upper bound of 70 years.\n",
    "\n",
    "* Negative amount are present in `balance` field which is quite suspicious as it denotes the annual income of an individual in euros.\n",
    "\n",
    "* The main reason of `balance` field having huge number of outliers is because of the fact that different people as per job and education, earns money on different scale.\n",
    "\n",
    "* The `previous` and `pdays` have IQR = 0 which suggest that there is almost zero-variance in the data in `previous` and `pdays`\n"
   ]
  },
  {
   "cell_type": "markdown",
   "metadata": {},
   "source": [
    "# Standarization"
   ]
  },
  {
   "cell_type": "code",
   "execution_count": 26,
   "metadata": {},
   "outputs": [
    {
     "name": "stdout",
     "output_type": "stream",
     "text": [
      "Shape of X : (45211, 16)\n",
      "Shape of Target data : (45211,)\n"
     ]
    }
   ],
   "source": [
    "df.loc[df[\"balance\"] < 0, \"balance\"] = 0\n",
    "X = df.drop('y', axis=1).values\n",
    "y = df['y'].values\n",
    "\n",
    "print(f\"Shape of X : {X.shape}\")\n",
    "print(f\"Shape of Target data : {y.shape}\")"
   ]
  },
  {
   "cell_type": "code",
   "execution_count": 27,
   "metadata": {},
   "outputs": [
    {
     "name": "stdout",
     "output_type": "stream",
     "text": [
      "Shape of X data : (45211, 16)\n"
     ]
    }
   ],
   "source": [
    "std_scaler = StandardScaler()\n",
    "X_std = std_scaler.fit_transform(X)\n",
    "print(f\"Shape of X data : {X_std.shape}\")"
   ]
  },
  {
   "cell_type": "markdown",
   "metadata": {},
   "source": [
    "# Split the Data into Train and Validation Sets"
   ]
  },
  {
   "cell_type": "code",
   "execution_count": 36,
   "metadata": {},
   "outputs": [],
   "source": [
    "from sklearn.model_selection import train_test_split\n",
    "Xtrain, Xval, Ytrain, Yval = train_test_split(X_std, y, random_state=0, stratify=y)"
   ]
  },
  {
   "cell_type": "markdown",
   "metadata": {},
   "source": [
    "# Logistic Regression"
   ]
  },
  {
   "cell_type": "code",
   "execution_count": 37,
   "metadata": {},
   "outputs": [
    {
     "name": "stdout",
     "output_type": "stream",
     "text": [
      "Training score for Logistic Regression : 89.93157956824348\n",
      "Validation score for Logistic Regression : 89.76377952755905\n"
     ]
    }
   ],
   "source": [
    "from sklearn.linear_model import LogisticRegression\n",
    "logreg = LogisticRegression(random_state=0)\n",
    "logreg.fit(Xtrain, Ytrain)\n",
    "\n",
    "print(f\"Training score for Logistic Regression : {logreg.score(Xtrain, Ytrain) * 100.}\")\n",
    "print(f\"Validation score for Logistic Regression : {logreg.score(Xval, Yval) * 100.}\")"
   ]
  },
  {
   "cell_type": "markdown",
   "metadata": {},
   "source": [
    "# Decision Tree"
   ]
  },
  {
   "cell_type": "code",
   "execution_count": 38,
   "metadata": {},
   "outputs": [
    {
     "name": "stdout",
     "output_type": "stream",
     "text": [
      "Training Score for Decision Tree : 100.0\n",
      "Validation Score for Decision Tree : 87.55197735114571\n"
     ]
    }
   ],
   "source": [
    "from sklearn.tree import DecisionTreeClassifier\n",
    "tree = DecisionTreeClassifier(random_state=0)\n",
    "tree.fit(Xtrain, Ytrain)\n",
    "\n",
    "print(f\"Training Score for Decision Tree : {tree.score(Xtrain, Ytrain) * 100.}\")\n",
    "print(f\"Validation Score for Decision Tree : {tree.score(Xval, Yval) * 100.}\")"
   ]
  },
  {
   "cell_type": "markdown",
   "metadata": {},
   "source": [
    "# Random Forest"
   ]
  },
  {
   "cell_type": "code",
   "execution_count": 39,
   "metadata": {},
   "outputs": [
    {
     "name": "stdout",
     "output_type": "stream",
     "text": [
      "Training Score for Random Forest : 100.0\n",
      "Validation Score for Random Forest : 90.47155622401132\n"
     ]
    }
   ],
   "source": [
    "from sklearn.ensemble import RandomForestClassifier\n",
    "rf = RandomForestClassifier(random_state=0)\n",
    "rf.fit(Xtrain, Ytrain)\n",
    "\n",
    "print(f\"Training Score for Random Forest : {rf.score(Xtrain, Ytrain) * 100.}\")\n",
    "print(f\"Validation Score for Random Forest : {rf.score(Xval, Yval) * 100.}\")"
   ]
  },
  {
   "cell_type": "markdown",
   "metadata": {},
   "source": [
    "# XGBoost"
   ]
  },
  {
   "cell_type": "code",
   "execution_count": 40,
   "metadata": {},
   "outputs": [
    {
     "name": "stdout",
     "output_type": "stream",
     "text": [
      "Training Score for XGBoost : 95.67063819747553\n",
      "Validation Score for XGBoost : 90.97584712023357\n"
     ]
    }
   ],
   "source": [
    "from xgboost import XGBClassifier\n",
    "\n",
    "xg = XGBClassifier(random_state=0)\n",
    "\n",
    "xg.fit(Xtrain, Ytrain)\n",
    "\n",
    "print(f\"Training Score for XGBoost : {xg.score(Xtrain, Ytrain) * 100.}\")\n",
    "print(f\"Validation Score for XGBoost : {xg.score(Xval, Yval) * 100}\")"
   ]
  },
  {
   "cell_type": "markdown",
   "metadata": {},
   "source": [
    "# Neural Network"
   ]
  },
  {
   "cell_type": "code",
   "execution_count": 41,
   "metadata": {},
   "outputs": [],
   "source": [
    "import torch\n",
    "import torch.nn as nn"
   ]
  },
  {
   "cell_type": "code",
   "execution_count": 42,
   "metadata": {},
   "outputs": [],
   "source": [
    "tensorXtrain = torch.from_numpy(Xtrain).float()\n",
    "tensorXval = torch.from_numpy(Xval).float()\n",
    "\n",
    "tensorYtrain = torch.from_numpy(Ytrain).float()\n",
    "tensorYval = torch.from_numpy(Yval).float()"
   ]
  },
  {
   "cell_type": "code",
   "execution_count": 43,
   "metadata": {},
   "outputs": [],
   "source": [
    "# Create PyTorch Dataset\n",
    "train_dataset = torch.utils.data.TensorDataset(tensorXtrain, tensorYtrain)\n",
    "val_dataset = torch.utils.data.TensorDataset(tensorXval, tensorYval)"
   ]
  },
  {
   "cell_type": "code",
   "execution_count": 44,
   "metadata": {},
   "outputs": [],
   "source": [
    "class ANN(nn.Module):\n",
    "    \n",
    "    def __init__(self, n_features, n_classes=1):\n",
    "        \n",
    "        super(ANN, self).__init__()\n",
    "        self.fc = nn.Sequential(\n",
    "                nn.Linear(n_features, 20),\n",
    "                nn.ReLU(),\n",
    "                nn.Linear(20, 10),\n",
    "                nn.ReLU(),\n",
    "                nn.Linear(10, n_classes))\n",
    "        \n",
    "    def forward(self, X):\n",
    "        out = self.fc(X)\n",
    "        return out"
   ]
  },
  {
   "cell_type": "code",
   "execution_count": 45,
   "metadata": {},
   "outputs": [],
   "source": [
    "# Build the model\n",
    "n_features = X.shape[1]\n",
    "n_classes = 1\n",
    "model = ANN(n_features, n_classes)"
   ]
  },
  {
   "cell_type": "code",
   "execution_count": 46,
   "metadata": {},
   "outputs": [],
   "source": [
    "# Build the model losses and optimizer\n",
    "criterion = nn.BCEWithLogitsLoss()\n",
    "optimizer = torch.optim.Adam(model.parameters())"
   ]
  },
  {
   "cell_type": "code",
   "execution_count": 47,
   "metadata": {},
   "outputs": [],
   "source": [
    "# Create the train and val iterator\n",
    "train_iter = torch.utils.data.DataLoader(train_dataset, batch_size=128, shuffle=True)\n",
    "val_iter = torch.utils.data.DataLoader(val_dataset, batch_size=128, shuffle=False)"
   ]
  },
  {
   "cell_type": "code",
   "execution_count": 48,
   "metadata": {},
   "outputs": [],
   "source": [
    "def batch_gd(model, criterion, optimizer, train_iter, val_iter, epochs=20):\n",
    "    \n",
    "    train_losses = np.zeros(epochs)\n",
    "    val_losses = np.zeros(epochs)\n",
    "    \n",
    "    train_accs = np.zeros(epochs)\n",
    "    val_accs = np.zeros(epochs)\n",
    "    \n",
    "    for epoch in range(epochs):\n",
    "        \n",
    "        train_loss = []\n",
    "        val_loss = []\n",
    "        \n",
    "        train_acc = []\n",
    "        val_acc = []\n",
    "        \n",
    "        for inputs, targets in train_iter:\n",
    "            \n",
    "            # Shape the target for BCEWithLogitsLoss \n",
    "            targets = targets.view(-1, 1)\n",
    "            \n",
    "            # Zero the optimizer-gradients\n",
    "            optimizer.zero_grad()\n",
    "            \n",
    "            # Forward pass\n",
    "            outputs = model(inputs)\n",
    "            loss = criterion(outputs, targets)\n",
    "            \n",
    "            # Backward pass and Optimization\n",
    "            loss.backward()\n",
    "            optimizer.step()\n",
    "            \n",
    "            # Calculate the acc\n",
    "            acc = np.mean(targets.numpy() == (outputs.detach().numpy() > 0))\n",
    "            \n",
    "            # Track the loss and acc\n",
    "            train_loss.append(loss.item())\n",
    "            train_acc.append(acc)\n",
    "            \n",
    "        \n",
    "        for inputs, targets in val_iter:\n",
    "            \n",
    "            # Shape the target for BCEWithLogitsLoss\n",
    "            targets = targets.view(-1, 1)\n",
    "            \n",
    "            # Forward pass\n",
    "            outputs = model(inputs)\n",
    "            loss = criterion(outputs, targets)\n",
    "            \n",
    "            # Calculate the acc\n",
    "            acc = np.mean(targets.numpy() == (outputs.detach().numpy() > 0))\n",
    "            \n",
    "            # Track the loss and acc\n",
    "            val_loss.append(loss.item())\n",
    "            val_acc.append(acc)\n",
    "            \n",
    "        \n",
    "        train_loss = np.mean(train_loss)\n",
    "        val_loss = np.mean(val_loss)\n",
    "        \n",
    "        train_acc = np.mean(train_acc)\n",
    "        val_acc = np.mean(val_acc)\n",
    "        \n",
    "        train_losses[epoch] = train_loss\n",
    "        val_losses[epoch] = val_loss\n",
    "        \n",
    "        train_accs[epoch] = train_acc\n",
    "        val_accs[epoch] = val_acc\n",
    "        \n",
    "        print(f\"Epoch : {epoch+1}/{epochs} | Train Losses : {train_loss} | Train Acc : {train_acc} | Val Losses : {val_loss} | Val Acc : {val_acc}\")\n",
    "    \n",
    "    \n",
    "    return train_losses, val_losses, train_accs, val_accs\n",
    "            "
   ]
  },
  {
   "cell_type": "code",
   "execution_count": 49,
   "metadata": {},
   "outputs": [
    {
     "name": "stdout",
     "output_type": "stream",
     "text": [
      "Epoch : 1/200 | Train Losses : 0.37130401713668176 | Train Acc : 0.884020209824333 | Val Losses : 0.2590739926260509 | Val Acc : 0.8908770887352349\n",
      "Epoch : 2/200 | Train Losses : 0.24685458664624196 | Train Acc : 0.8964551480156149 | Val Losses : 0.24418293944235597 | Val Acc : 0.8980121002592912\n",
      "Epoch : 3/200 | Train Losses : 0.23937821233609938 | Train Acc : 0.8980613614183474 | Val Losses : 0.2405729226851731 | Val Acc : 0.898187662057044\n",
      "Epoch : 4/200 | Train Losses : 0.23615969503825565 | Train Acc : 0.899170461938842 | Val Losses : 0.23845106296324997 | Val Acc : 0.89730985306828\n",
      "Epoch : 5/200 | Train Losses : 0.23418429111534694 | Train Acc : 0.9003466574495771 | Val Losses : 0.2373561788810773 | Val Acc : 0.8980998811581676\n",
      "Epoch : 6/200 | Train Losses : 0.23245716505455521 | Train Acc : 0.901024723487313 | Val Losses : 0.23687545637066446 | Val Acc : 0.8983632238547968\n",
      "Epoch : 7/200 | Train Losses : 0.2312275252533409 | Train Acc : 0.901584864996747 | Val Losses : 0.23560542337010415 | Val Acc : 0.8968709485738979\n",
      "Epoch : 8/200 | Train Losses : 0.22995564268445068 | Train Acc : 0.9017210881587507 | Val Losses : 0.2351290424553196 | Val Acc : 0.8962564822817631\n",
      "Epoch : 9/200 | Train Losses : 0.22895585922700054 | Train Acc : 0.9024133864671439 | Val Losses : 0.2342986673786399 | Val Acc : 0.8980121002592912\n",
      "Epoch : 10/200 | Train Losses : 0.22820985921711293 | Train Acc : 0.9020067501626544 | Val Losses : 0.23468468899137518 | Val Acc : 0.8974854148660328\n",
      "Epoch : 11/200 | Train Losses : 0.22721617559217058 | Train Acc : 0.9015381018217306 | Val Losses : 0.23370711974213632 | Val Acc : 0.8965198249783923\n",
      "Epoch : 12/200 | Train Losses : 0.226534595916856 | Train Acc : 0.9025933230318802 | Val Losses : 0.23284772423545966 | Val Acc : 0.8975731957649092\n",
      "Epoch : 13/200 | Train Losses : 0.22580826811070712 | Train Acc : 0.902210068314899 | Val Losses : 0.2322420859604739 | Val Acc : 0.8972220721694036\n",
      "Epoch : 14/200 | Train Losses : 0.22503970006726823 | Train Acc : 0.9029298145738451 | Val Losses : 0.23179047060816477 | Val Acc : 0.8973976339671564\n",
      "Epoch : 15/200 | Train Losses : 0.22429961432825843 | Train Acc : 0.9030233409238777 | Val Losses : 0.23200679746236694 | Val Acc : 0.897748757562662\n",
      "Epoch : 16/200 | Train Losses : 0.22362715683455736 | Train Acc : 0.9028820348080677 | Val Losses : 0.23088059900851732 | Val Acc : 0.898187662057044\n",
      "Epoch : 17/200 | Train Losses : 0.22286819762216423 | Train Acc : 0.9030975520494469 | Val Losses : 0.2301533783084891 | Val Acc : 0.8983632238547968\n",
      "Epoch : 18/200 | Train Losses : 0.22208180073297248 | Train Acc : 0.9035184206245933 | Val Losses : 0.2299533908286791 | Val Acc : 0.898626566551426\n",
      "Epoch : 19/200 | Train Losses : 0.22136054809363384 | Train Acc : 0.9034248942745607 | Val Losses : 0.22882276488823838 | Val Acc : 0.8989776901469316\n",
      "Epoch : 20/200 | Train Losses : 0.22065029082433232 | Train Acc : 0.9034187947299934 | Val Losses : 0.22886820422129683 | Val Acc : 0.8996799373379429\n",
      "Epoch : 21/200 | Train Losses : 0.22028526669403292 | Train Acc : 0.9037278383214054 | Val Losses : 0.22765920369812612 | Val Acc : 0.9003821845289541\n",
      "Epoch : 22/200 | Train Losses : 0.21959098259795387 | Train Acc : 0.9038020494469745 | Val Losses : 0.22745499148797454 | Val Acc : 0.9012599935177182\n",
      "Epoch : 23/200 | Train Losses : 0.2191734012848926 | Train Acc : 0.9033649154196487 | Val Losses : 0.22673414195521494 | Val Acc : 0.9007333081244597\n",
      "Epoch : 24/200 | Train Losses : 0.21842060162211363 | Train Acc : 0.9040938109954457 | Val Losses : 0.22656209498978733 | Val Acc : 0.9010844317199654\n",
      "Epoch : 25/200 | Train Losses : 0.21811950898395394 | Train Acc : 0.9044567338972023 | Val Losses : 0.22609984539867786 | Val Acc : 0.900996650821089\n",
      "Epoch : 26/200 | Train Losses : 0.21765424207134068 | Train Acc : 0.9047718770331815 | Val Losses : 0.2252338764707694 | Val Acc : 0.9021378025064822\n",
      "Epoch : 27/200 | Train Losses : 0.21724008198054331 | Train Acc : 0.9044740159401432 | Val Losses : 0.22555787878090075 | Val Acc : 0.9002066227312013\n",
      "Epoch : 28/200 | Train Losses : 0.21675619336794008 | Train Acc : 0.9050138256343526 | Val Losses : 0.22575126554858818 | Val Acc : 0.9009088699222125\n",
      "Epoch : 29/200 | Train Losses : 0.2162402703795793 | Train Acc : 0.9043682905009759 | Val Losses : 0.22577649120534404 | Val Acc : 0.9012599935177182\n",
      "Epoch : 30/200 | Train Losses : 0.21624867339741508 | Train Acc : 0.9049223324658425 | Val Losses : 0.22510432393363353 | Val Acc : 0.900996650821089\n",
      "Epoch : 31/200 | Train Losses : 0.21585215636581745 | Train Acc : 0.9051347999349382 | Val Losses : 0.22428141048785005 | Val Acc : 0.9019622407087294\n",
      "Epoch : 32/200 | Train Losses : 0.21537351774157218 | Train Acc : 0.9055383864671438 | Val Losses : 0.22477514690227723 | Val Acc : 0.9014107966004034\n",
      "Epoch : 33/200 | Train Losses : 0.21527349819552224 | Train Acc : 0.9050067094990242 | Val Losses : 0.22580325268627552 | Val Acc : 0.9010844317199654\n",
      "Epoch : 34/200 | Train Losses : 0.21487963283961675 | Train Acc : 0.9048166070266753 | Val Losses : 0.2243032611153099 | Val Acc : 0.902313364304235\n",
      "Epoch : 35/200 | Train Losses : 0.2146891546699236 | Train Acc : 0.9056563109954457 | Val Losses : 0.225468527232663 | Val Acc : 0.8999185213195044\n",
      "Epoch : 36/200 | Train Losses : 0.2146439994000039 | Train Acc : 0.9054590923877683 | Val Losses : 0.2253012941794449 | Val Acc : 0.9008210890233361\n",
      "Epoch : 37/200 | Train Losses : 0.21398944936270983 | Train Acc : 0.905526187378009 | Val Losses : 0.22267366024885285 | Val Acc : 0.9022886055891673\n",
      "Epoch : 38/200 | Train Losses : 0.21413697639726242 | Train Acc : 0.9060924284320104 | Val Losses : 0.22247866231403993 | Val Acc : 0.9028400496974934\n",
      "Epoch : 39/200 | Train Losses : 0.2134986143067198 | Train Acc : 0.9051347999349382 | Val Losses : 0.22270061042201653 | Val Acc : 0.901874459809853\n",
      "Epoch : 40/200 | Train Losses : 0.21308352278088624 | Train Acc : 0.9062815143135978 | Val Losses : 0.22273933619595646 | Val Acc : 0.9019622407087294\n",
      "Epoch : 41/200 | Train Losses : 0.2132828357928204 | Train Acc : 0.905794567338972 | Val Losses : 0.2223400158828564 | Val Acc : 0.9025519482857967\n",
      "Epoch : 42/200 | Train Losses : 0.21288158848600566 | Train Acc : 0.9055912491867274 | Val Losses : 0.22247858797566275 | Val Acc : 0.902752268798617\n",
      "Epoch : 43/200 | Train Losses : 0.212542606496586 | Train Acc : 0.9058860605074821 | Val Losses : 0.22192070742001693 | Val Acc : 0.9025767070008642\n",
      "Epoch : 44/200 | Train Losses : 0.21244611189050494 | Train Acc : 0.9061778220559532 | Val Losses : 0.22184281218587681 | Val Acc : 0.9024889261019878\n",
      "Epoch : 45/200 | Train Losses : 0.21199239753889587 | Train Acc : 0.9055150048796355 | Val Losses : 0.22118154988529976 | Val Acc : 0.9019622407087294\n",
      "Epoch : 46/200 | Train Losses : 0.21191536480525755 | Train Acc : 0.9058331977878985 | Val Losses : 0.22166675563608662 | Val Acc : 0.9028400496974934\n",
      "Epoch : 47/200 | Train Losses : 0.21178250205966662 | Train Acc : 0.9066088565387117 | Val Losses : 0.2211594626809774 | Val Acc : 0.902752268798617\n",
      "Epoch : 48/200 | Train Losses : 0.2111860229159301 | Train Acc : 0.9062367843201041 | Val Losses : 0.2221083351400461 | Val Acc : 0.9013725331316622\n",
      "Epoch : 49/200 | Train Losses : 0.21099089623059866 | Train Acc : 0.905553635328562 | Val Losses : 0.22107324087887667 | Val Acc : 0.9026892466148083\n",
      "Epoch : 50/200 | Train Losses : 0.21101127519922436 | Train Acc : 0.9064909320104099 | Val Losses : 0.22079962558960647 | Val Acc : 0.9024259039181791\n",
      "Epoch : 51/200 | Train Losses : 0.21067751421118683 | Train Acc : 0.905935873454782 | Val Losses : 0.22073015101839988 | Val Acc : 0.9030403702103139\n",
      "Epoch : 52/200 | Train Losses : 0.21030252814855216 | Train Acc : 0.9065143135979179 | Val Losses : 0.22099447518252255 | Val Acc : 0.9029525893114375\n",
      "Epoch : 53/200 | Train Losses : 0.21009367232052786 | Train Acc : 0.9063577586206897 | Val Losses : 0.221026213483864 | Val Acc : 0.9022503421204263\n",
      "Epoch : 54/200 | Train Losses : 0.20999764946271787 | Train Acc : 0.9067084824333117 | Val Losses : 0.22066604320922595 | Val Acc : 0.9027770275136847\n",
      "Epoch : 55/200 | Train Losses : 0.20976243665758168 | Train Acc : 0.9060334661678595 | Val Losses : 0.220846325828788 | Val Acc : 0.9035670556035724\n"
     ]
    },
    {
     "name": "stdout",
     "output_type": "stream",
     "text": [
      "Epoch : 56/200 | Train Losses : 0.20963168554710893 | Train Acc : 0.9062225520494469 | Val Losses : 0.21978154276194198 | Val Acc : 0.903479274704696\n",
      "Epoch : 57/200 | Train Losses : 0.20928071787897146 | Train Acc : 0.9065732758620689 | Val Losses : 0.2201723124873772 | Val Acc : 0.9030403702103139\n",
      "Epoch : 58/200 | Train Losses : 0.2090459961092697 | Train Acc : 0.9066617192582953 | Val Losses : 0.22082750415534116 | Val Acc : 0.9037426174013252\n",
      "Epoch : 59/200 | Train Losses : 0.20900230039403123 | Train Acc : 0.9068416558230318 | Val Losses : 0.22062392365396694 | Val Acc : 0.9035670556035724\n",
      "Epoch : 60/200 | Train Losses : 0.20887550708820235 | Train Acc : 0.9064848324658424 | Val Losses : 0.22034159085054075 | Val Acc : 0.9030156114952463\n",
      "Epoch : 61/200 | Train Losses : 0.20818924735177238 | Train Acc : 0.9067765940143137 | Val Losses : 0.21968895916858416 | Val Acc : 0.9019869994237971\n",
      "Epoch : 62/200 | Train Losses : 0.20847007823440264 | Train Acc : 0.9064523015614835 | Val Losses : 0.21971561182081029 | Val Acc : 0.9026644878997406\n",
      "Epoch : 63/200 | Train Losses : 0.20801834725546386 | Train Acc : 0.9072391428106701 | Val Losses : 0.22154049140014007 | Val Acc : 0.9011722126188418\n",
      "Epoch : 64/200 | Train Losses : 0.207553420595403 | Train Acc : 0.9070215923877684 | Val Losses : 0.21988171556692446 | Val Acc : 0.9019622407087294\n",
      "Epoch : 65/200 | Train Losses : 0.20766227503992477 | Train Acc : 0.9073042046193884 | Val Losses : 0.22082397977957566 | Val Acc : 0.9013477744165946\n",
      "Epoch : 66/200 | Train Losses : 0.20733708877046153 | Train Acc : 0.9074749918672739 | Val Losses : 0.22103140076224723 | Val Acc : 0.9020500216076058\n",
      "Epoch : 67/200 | Train Losses : 0.20739136923034235 | Train Acc : 0.9070154928432009 | Val Losses : 0.21972038236896643 | Val Acc : 0.9021378025064822\n",
      "Epoch : 68/200 | Train Losses : 0.20699550259225774 | Train Acc : 0.9062987963565388 | Val Losses : 0.21938203509603993 | Val Acc : 0.9008210890233361\n",
      "Epoch : 69/200 | Train Losses : 0.2068475734512761 | Train Acc : 0.9068060751463891 | Val Losses : 0.2203967772173078 | Val Acc : 0.9017866789109766\n",
      "Epoch : 70/200 | Train Losses : 0.20637921592536962 | Train Acc : 0.9070683555627846 | Val Losses : 0.22058339684866787 | Val Acc : 0.9013477744165946\n",
      "Epoch : 71/200 | Train Losses : 0.20660957216091877 | Train Acc : 0.9075969827586207 | Val Losses : 0.21905733963076987 | Val Acc : 0.901435555315471\n",
      "Epoch : 72/200 | Train Losses : 0.2063101612734345 | Train Acc : 0.9077677700065061 | Val Losses : 0.2189640560176935 | Val Acc : 0.9024889261019878\n",
      "Epoch : 73/200 | Train Losses : 0.20633227681776262 | Train Acc : 0.9069067176317501 | Val Losses : 0.21922258145353768 | Val Acc : 0.9022255834053586\n",
      "Epoch : 74/200 | Train Losses : 0.2058723305193883 | Train Acc : 0.907425178919974 | Val Losses : 0.21874413597449827 | Val Acc : 0.901874459809853\n",
      "Epoch : 75/200 | Train Losses : 0.2059530255648325 | Train Acc : 0.9076783100195185 | Val Losses : 0.21890797926468797 | Val Acc : 0.9021378025064822\n",
      "Epoch : 76/200 | Train Losses : 0.20566140905303776 | Train Acc : 0.9070897039687703 | Val Losses : 0.21913065769699183 | Val Acc : 0.9031033923941227\n",
      "Epoch : 77/200 | Train Losses : 0.20541633061080608 | Train Acc : 0.9072452423552375 | Val Losses : 0.21869937003998274 | Val Acc : 0.9030156114952463\n",
      "Epoch : 78/200 | Train Losses : 0.2052859662838702 | Train Acc : 0.907775902732596 | Val Losses : 0.21958700843741386 | Val Acc : 0.9002066227312013\n",
      "Epoch : 79/200 | Train Losses : 0.2053900180279084 | Train Acc : 0.9073662166558231 | Val Losses : 0.2180976104200556 | Val Acc : 0.902313364304235\n",
      "Epoch : 80/200 | Train Losses : 0.20532800414652194 | Train Acc : 0.9070775048796356 | Val Losses : 0.2186289615510555 | Val Acc : 0.9019622407087294\n",
      "Epoch : 81/200 | Train Losses : 0.20481180006040717 | Train Acc : 0.9073164037085231 | Val Losses : 0.21939554877495498 | Val Acc : 0.9019622407087294\n",
      "Epoch : 82/200 | Train Losses : 0.20480443436019827 | Train Acc : 0.9074312784645413 | Val Losses : 0.21826474418800867 | Val Acc : 0.9037178586862575\n",
      "Epoch : 83/200 | Train Losses : 0.20443828963446167 | Train Acc : 0.9083035133376708 | Val Losses : 0.21929980496342263 | Val Acc : 0.9012599935177182\n",
      "Epoch : 84/200 | Train Losses : 0.20459445802108298 | Train Acc : 0.9073662166558231 | Val Losses : 0.21869268661804414 | Val Acc : 0.9034545159896283\n",
      "Epoch : 85/200 | Train Losses : 0.20420234200527082 | Train Acc : 0.9078968770331816 | Val Losses : 0.21871722866310161 | Val Acc : 0.9036300777873811\n",
      "Epoch : 86/200 | Train Losses : 0.20424495693647637 | Train Acc : 0.9075746177618739 | Val Losses : 0.21812782863552652 | Val Acc : 0.9028400496974934\n",
      "Epoch : 87/200 | Train Losses : 0.20398153758273935 | Train Acc : 0.9081622072218608 | Val Losses : 0.2175868647486976 | Val Acc : 0.901761920195909\n",
      "Epoch : 88/200 | Train Losses : 0.20389558492966417 | Train Acc : 0.9067948926480156 | Val Losses : 0.21772031151176838 | Val Acc : 0.902313364304235\n",
      "Epoch : 89/200 | Train Losses : 0.20375891209773297 | Train Acc : 0.9077911515940142 | Val Losses : 0.21846524048387334 | Val Acc : 0.9025767070008642\n",
      "Epoch : 90/200 | Train Losses : 0.20387889776589735 | Train Acc : 0.9071984791802211 | Val Losses : 0.21759965580500915 | Val Acc : 0.9023763864880437\n",
      "Epoch : 91/200 | Train Losses : 0.2034417400101446 | Train Acc : 0.9082831815224462 | Val Losses : 0.21870835544018263 | Val Acc : 0.9003326670988189\n",
      "Epoch : 92/200 | Train Losses : 0.20326238384224335 | Train Acc : 0.9076081652569941 | Val Losses : 0.2173328140143598 | Val Acc : 0.902200824690291\n",
      "Epoch : 93/200 | Train Losses : 0.2030430091720707 | Train Acc : 0.9081449251789199 | Val Losses : 0.2180734844355101 | Val Acc : 0.9007333081244597\n",
      "Epoch : 94/200 | Train Losses : 0.20312617471757924 | Train Acc : 0.9082242192582953 | Val Losses : 0.21728583450397748 | Val Acc : 0.902313364304235\n",
      "Epoch : 95/200 | Train Losses : 0.20309827825370824 | Train Acc : 0.9078318152244632 | Val Losses : 0.21776013896706398 | Val Acc : 0.9016741392970326\n",
      "Epoch : 96/200 | Train Losses : 0.20296157047433674 | Train Acc : 0.9082130367599219 | Val Losses : 0.21792312602648575 | Val Acc : 0.902313364304235\n",
      "Epoch : 97/200 | Train Losses : 0.202820364118747 | Train Acc : 0.9079680383864671 | Val Losses : 0.21667140755760536 | Val Acc : 0.9029908527801787\n",
      "Epoch : 98/200 | Train Losses : 0.2025688390405673 | Train Acc : 0.9076376463890695 | Val Losses : 0.21719371586033467 | Val Acc : 0.9018497010947853\n",
      "Epoch : 99/200 | Train Losses : 0.20249325405314283 | Train Acc : 0.9080564817826935 | Val Losses : 0.2174625088659565 | Val Acc : 0.9029030718813023\n",
      "Epoch : 100/200 | Train Losses : 0.202392895772772 | Train Acc : 0.9081418754066363 | Val Losses : 0.21697022724017667 | Val Acc : 0.904570908959954\n",
      "Epoch : 101/200 | Train Losses : 0.20240507325473822 | Train Acc : 0.9080209011060507 | Val Losses : 0.21762591181846147 | Val Acc : 0.9024641673869201\n",
      "Epoch : 102/200 | Train Losses : 0.20216274910940316 | Train Acc : 0.9086715191932335 | Val Losses : 0.21782544623599964 | Val Acc : 0.9031664145779315\n",
      "Epoch : 103/200 | Train Losses : 0.20201918741442124 | Train Acc : 0.9078084336369552 | Val Losses : 0.2175280674454871 | Val Acc : 0.9031664145779315\n",
      "Epoch : 104/200 | Train Losses : 0.20197638121415984 | Train Acc : 0.9084631180871827 | Val Losses : 0.21683503302295556 | Val Acc : 0.9047464707577068\n",
      "Epoch : 105/200 | Train Losses : 0.20186199855129675 | Train Acc : 0.9084661678594664 | Val Losses : 0.21729370533080583 | Val Acc : 0.9023763864880437\n",
      "Epoch : 106/200 | Train Losses : 0.2018912746377711 | Train Acc : 0.9085302130774235 | Val Losses : 0.21797104045916138 | Val Acc : 0.9019374819936617\n",
      "Epoch : 107/200 | Train Losses : 0.20159119558784197 | Train Acc : 0.9080829131424853 | Val Losses : 0.21747116761261157 | Val Acc : 0.9019374819936617\n",
      "Epoch : 108/200 | Train Losses : 0.20144560224605057 | Train Acc : 0.9087253985035784 | Val Losses : 0.21671719330080438 | Val Acc : 0.9033419763756843\n",
      "Epoch : 109/200 | Train Losses : 0.20150663554668427 | Train Acc : 0.9080940956408589 | Val Losses : 0.21711257937249173 | Val Acc : 0.903517538173437\n",
      "Epoch : 110/200 | Train Losses : 0.20106266874749706 | Train Acc : 0.9085037817176318 | Val Losses : 0.21654600357071738 | Val Acc : 0.9028152909824259\n"
     ]
    },
    {
     "name": "stdout",
     "output_type": "stream",
     "text": [
      "Epoch : 111/200 | Train Losses : 0.20104118779582797 | Train Acc : 0.9085393623942746 | Val Losses : 0.2180308907219533 | Val Acc : 0.9018497010947853\n",
      "Epoch : 112/200 | Train Losses : 0.20098283841924847 | Train Acc : 0.908627805790501 | Val Losses : 0.21668572305293565 | Val Acc : 0.9028152909824259\n",
      "Epoch : 113/200 | Train Losses : 0.2009744939939031 | Train Acc : 0.909338402732596 | Val Losses : 0.21682129063633052 | Val Acc : 0.9022886055891673\n",
      "Epoch : 114/200 | Train Losses : 0.20072549106377477 | Train Acc : 0.9090415582303187 | Val Losses : 0.2161324792698528 | Val Acc : 0.9034297572745607\n",
      "Epoch : 115/200 | Train Losses : 0.20056628174376936 | Train Acc : 0.909347552049447 | Val Losses : 0.2162342079904642 | Val Acc : 0.901761920195909\n",
      "Epoch : 116/200 | Train Losses : 0.20049515824835257 | Train Acc : 0.9093089216005205 | Val Losses : 0.216358770982603 | Val Acc : 0.9036053190723135\n",
      "Epoch : 117/200 | Train Losses : 0.20029861651501565 | Train Acc : 0.9092591086532205 | Val Losses : 0.21619181351715258 | Val Acc : 0.903517538173437\n",
      "Epoch : 118/200 | Train Losses : 0.2003610386882188 | Train Acc : 0.9085861255692909 | Val Losses : 0.21658534464541446 | Val Acc : 0.9028152909824259\n",
      "Epoch : 119/200 | Train Losses : 0.19989415612423195 | Train Acc : 0.9097013256343526 | Val Losses : 0.21750126075878573 | Val Acc : 0.9023763864880437\n",
      "Epoch : 120/200 | Train Losses : 0.19974595704730952 | Train Acc : 0.9092469095640859 | Val Losses : 0.21596754015831465 | Val Acc : 0.9038686617689426\n",
      "Epoch : 121/200 | Train Losses : 0.19983081384649817 | Train Acc : 0.9096128822381262 | Val Losses : 0.21640612486373173 | Val Acc : 0.9028152909824259\n",
      "Epoch : 122/200 | Train Losses : 0.19980707112348306 | Train Acc : 0.9099076935588809 | Val Losses : 0.2158494456095642 | Val Acc : 0.9031664145779315\n",
      "Epoch : 123/200 | Train Losses : 0.19963643261284197 | Train Acc : 0.909630164281067 | Val Losses : 0.21537957717193645 | Val Acc : 0.9037808808700662\n",
      "Epoch : 124/200 | Train Losses : 0.19938300173237639 | Train Acc : 0.9103265289525049 | Val Losses : 0.21524017312553492 | Val Acc : 0.903517538173437\n",
      "Epoch : 125/200 | Train Losses : 0.1995534044954012 | Train Acc : 0.9097541883539363 | Val Losses : 0.21563649294751414 | Val Acc : 0.9034297572745607\n",
      "Epoch : 126/200 | Train Losses : 0.19928117664355152 | Train Acc : 0.909931075146389 | Val Losses : 0.21480616525317844 | Val Acc : 0.9041320044655718\n",
      "Epoch : 127/200 | Train Losses : 0.1994340018843705 | Train Acc : 0.909789769030579 | Val Losses : 0.21499445733059658 | Val Acc : 0.9036053190723135\n",
      "Epoch : 128/200 | Train Losses : 0.19902123373072103 | Train Acc : 0.9099483571893299 | Val Losses : 0.21491909144299753 | Val Acc : 0.9036930999711899\n",
      "Epoch : 129/200 | Train Losses : 0.1987998791460721 | Train Acc : 0.9095356213402732 | Val Losses : 0.21527239060803746 | Val Acc : 0.9044831280610776\n",
      "Epoch : 130/200 | Train Losses : 0.19867695229795743 | Train Acc : 0.9097165744957709 | Val Losses : 0.21593213449703175 | Val Acc : 0.9020252628925381\n",
      "Epoch : 131/200 | Train Losses : 0.19876760207819488 | Train Acc : 0.9098131506180872 | Val Losses : 0.21761681332012242 | Val Acc : 0.9028152909824259\n",
      "Epoch : 132/200 | Train Losses : 0.19891758580815116 | Train Acc : 0.9097633376707872 | Val Losses : 0.21509927385643626 | Val Acc : 0.9033419763756843\n",
      "Epoch : 133/200 | Train Losses : 0.19849722787456692 | Train Acc : 0.9102675666883538 | Val Losses : 0.2151597220911069 | Val Acc : 0.9026397291846731\n",
      "Epoch : 134/200 | Train Losses : 0.19832299835277054 | Train Acc : 0.9101160946649317 | Val Losses : 0.21538354874996657 | Val Acc : 0.9031664145779315\n",
      "Epoch : 135/200 | Train Losses : 0.19835635724495043 | Train Acc : 0.9104942664281066 | Val Losses : 0.21541133707159021 | Val Acc : 0.9037808808700662\n",
      "Epoch : 136/200 | Train Losses : 0.19819285560329006 | Train Acc : 0.9102350357839948 | Val Losses : 0.2168881091174115 | Val Acc : 0.9033419763756843\n",
      "Epoch : 137/200 | Train Losses : 0.19802199768007928 | Train Acc : 0.9102472348731294 | Val Losses : 0.21659850747732634 | Val Acc : 0.9031664145779315\n",
      "Epoch : 138/200 | Train Losses : 0.19828856235967493 | Train Acc : 0.9103499105400129 | Val Losses : 0.21636015059572927 | Val Acc : 0.9036053190723135\n",
      "Epoch : 139/200 | Train Losses : 0.19809775639255092 | Train Acc : 0.9101730237475602 | Val Losses : 0.21512429298979513 | Val Acc : 0.9034297572745607\n",
      "Epoch : 140/200 | Train Losses : 0.19799722213790102 | Train Acc : 0.9097572381262198 | Val Losses : 0.2166632664170158 | Val Acc : 0.9028152909824259\n",
      "Epoch : 141/200 | Train Losses : 0.19781481781095828 | Train Acc : 0.9104617355237475 | Val Losses : 0.21580546784601853 | Val Acc : 0.9040442235666954\n",
      "Epoch : 142/200 | Train Losses : 0.1980568213282891 | Train Acc : 0.9097867192582954 | Val Losses : 0.2153282957465461 | Val Acc : 0.9040442235666954\n",
      "Epoch : 143/200 | Train Losses : 0.19767596378641308 | Train Acc : 0.9109690143135979 | Val Losses : 0.21628221551354013 | Val Acc : 0.9031664145779315\n",
      "Epoch : 144/200 | Train Losses : 0.1975666658495957 | Train Acc : 0.9106121909564086 | Val Losses : 0.2167355382208074 | Val Acc : 0.9026397291846731\n",
      "Epoch : 145/200 | Train Losses : 0.19765146301602418 | Train Acc : 0.9108338077423552 | Val Losses : 0.21569283574484707 | Val Acc : 0.9036053190723135\n",
      "Epoch : 146/200 | Train Losses : 0.19769585171960435 | Train Acc : 0.9111225195185426 | Val Losses : 0.21549686103054647 | Val Acc : 0.903078633679055\n",
      "Epoch : 147/200 | Train Losses : 0.19745382436041561 | Train Acc : 0.9117385735198438 | Val Losses : 0.2156060358111778 | Val Acc : 0.9044831280610776\n",
      "Epoch : 148/200 | Train Losses : 0.19746872293499282 | Train Acc : 0.9109100520494469 | Val Losses : 0.216733211881659 | Val Acc : 0.9022886055891673\n",
      "Epoch : 149/200 | Train Losses : 0.19755607829341348 | Train Acc : 0.9106620039037086 | Val Losses : 0.21550891774424005 | Val Acc : 0.903517538173437\n",
      "Epoch : 150/200 | Train Losses : 0.19716542607770776 | Train Acc : 0.911110320429408 | Val Losses : 0.21558843151237186 | Val Acc : 0.9029908527801787\n",
      "Epoch : 151/200 | Train Losses : 0.19713827619012797 | Train Acc : 0.9109192013662979 | Val Losses : 0.216715468449539 | Val Acc : 0.9020252628925381\n",
      "Epoch : 152/200 | Train Losses : 0.19718099261792202 | Train Acc : 0.9104525862068965 | Val Losses : 0.2159917632515511 | Val Acc : 0.9028152909824259\n",
      "Epoch : 153/200 | Train Losses : 0.19697067681348548 | Train Acc : 0.9108510897852959 | Val Losses : 0.21570660374807507 | Val Acc : 0.9026397291846731\n",
      "Epoch : 154/200 | Train Losses : 0.19679176540307278 | Train Acc : 0.9109100520494469 | Val Losses : 0.21583892530604695 | Val Acc : 0.9029908527801787\n",
      "Epoch : 155/200 | Train Losses : 0.19690280922178952 | Train Acc : 0.9115372885491216 | Val Losses : 0.21603037500649355 | Val Acc : 0.9032541954768079\n",
      "Epoch : 156/200 | Train Losses : 0.1967832458187949 | Train Acc : 0.9108978529603123 | Val Losses : 0.21566775558369883 | Val Acc : 0.903078633679055\n",
      "Epoch : 157/200 | Train Losses : 0.19699930067894594 | Train Acc : 0.9106355725439167 | Val Losses : 0.21542024645912514 | Val Acc : 0.9026397291846731\n",
      "Epoch : 158/200 | Train Losses : 0.19692385514389793 | Train Acc : 0.91155253741054 | Val Losses : 0.2154885476894593 | Val Acc : 0.9031664145779315\n",
      "Epoch : 159/200 | Train Losses : 0.19651449080908073 | Train Acc : 0.9115088240078074 | Val Losses : 0.21737521359424913 | Val Acc : 0.9016741392970326\n",
      "Epoch : 160/200 | Train Losses : 0.196323280430065 | Train Acc : 0.9114640940143136 | Val Losses : 0.21547685948650488 | Val Acc : 0.9037808808700662\n",
      "Epoch : 161/200 | Train Losses : 0.1963537739976397 | Train Acc : 0.9123566607026675 | Val Losses : 0.21558682654011116 | Val Acc : 0.903078633679055\n",
      "Epoch : 162/200 | Train Losses : 0.19639366572757938 | Train Acc : 0.9116206489915419 | Val Losses : 0.21621430857797688 | Val Acc : 0.903078633679055\n",
      "Epoch : 163/200 | Train Losses : 0.19643240000279444 | Train Acc : 0.911629798308393 | Val Losses : 0.2167555314771245 | Val Acc : 0.9032541954768079\n",
      "Epoch : 164/200 | Train Losses : 0.19663900058224515 | Train Acc : 0.911684694209499 | Val Losses : 0.21633540813842517 | Val Acc : 0.9023763864880437\n",
      "Epoch : 165/200 | Train Losses : 0.19648541526974372 | Train Acc : 0.9113227878985035 | Val Losses : 0.21539488443163005 | Val Acc : 0.9029030718813023\n"
     ]
    },
    {
     "name": "stdout",
     "output_type": "stream",
     "text": [
      "Epoch : 166/200 | Train Losses : 0.19584912002648946 | Train Acc : 0.9112699251789199 | Val Losses : 0.21551427638597703 | Val Acc : 0.9036053190723135\n",
      "Epoch : 167/200 | Train Losses : 0.1959613891423873 | Train Acc : 0.9121838402732595 | Val Losses : 0.216981824110733 | Val Acc : 0.9024641673869201\n",
      "Epoch : 168/200 | Train Losses : 0.19625102090385724 | Train Acc : 0.9114132644762524 | Val Losses : 0.21482132065497087 | Val Acc : 0.9036053190723135\n",
      "Epoch : 169/200 | Train Losses : 0.19607383949014376 | Train Acc : 0.9112872072218607 | Val Losses : 0.21542981719033102 | Val Acc : 0.9032541954768079\n",
      "Epoch : 170/200 | Train Losses : 0.19610539059031684 | Train Acc : 0.9118920787247885 | Val Losses : 0.21436212655533565 | Val Acc : 0.9022886055891673\n",
      "Epoch : 171/200 | Train Losses : 0.19605320877624008 | Train Acc : 0.9115677862719583 | Val Losses : 0.21534726006931135 | Val Acc : 0.9036930999711899\n",
      "Epoch : 172/200 | Train Losses : 0.19580462704289633 | Train Acc : 0.91150272446324 | Val Losses : 0.2148019177525231 | Val Acc : 0.9034297572745607\n",
      "Epoch : 173/200 | Train Losses : 0.19592057966961052 | Train Acc : 0.9117619551073519 | Val Losses : 0.21554036756579795 | Val Acc : 0.9026397291846731\n",
      "Epoch : 174/200 | Train Losses : 0.19612122954062697 | Train Acc : 0.9118148178269356 | Val Losses : 0.21506446013959607 | Val Acc : 0.903517538173437\n",
      "Epoch : 175/200 | Train Losses : 0.19560807102693703 | Train Acc : 0.9117294242029929 | Val Losses : 0.21564858147267546 | Val Acc : 0.9026397291846731\n",
      "Epoch : 176/200 | Train Losses : 0.19549357337209414 | Train Acc : 0.9122072218607676 | Val Losses : 0.21482342163498483 | Val Acc : 0.9032541954768079\n",
      "Epoch : 177/200 | Train Losses : 0.1958037885292521 | Train Acc : 0.9122926154847104 | Val Losses : 0.2157600705375832 | Val Acc : 0.9029908527801787\n",
      "Epoch : 178/200 | Train Losses : 0.19556086386712093 | Train Acc : 0.9119561239427456 | Val Losses : 0.21505145226301772 | Val Acc : 0.903517538173437\n",
      "Epoch : 179/200 | Train Losses : 0.19561193680988168 | Train Acc : 0.9118707303188028 | Val Losses : 0.21611368446872475 | Val Acc : 0.9026397291846731\n",
      "Epoch : 180/200 | Train Losses : 0.19565424415862787 | Train Acc : 0.9110188272608979 | Val Losses : 0.21567352333765352 | Val Acc : 0.903517538173437\n",
      "Epoch : 181/200 | Train Losses : 0.19546017404997124 | Train Acc : 0.9122895657124268 | Val Losses : 0.21504133671856998 | Val Acc : 0.9025519482857967\n",
      "Epoch : 182/200 | Train Losses : 0.19528698642861167 | Train Acc : 0.9118148178269356 | Val Losses : 0.215846578559179 | Val Acc : 0.903078633679055\n",
      "Epoch : 183/200 | Train Losses : 0.19523103543609943 | Train Acc : 0.9122956652569941 | Val Losses : 0.21490357866447962 | Val Acc : 0.9029908527801787\n",
      "Epoch : 184/200 | Train Losses : 0.19504412196154863 | Train Acc : 0.912354627521145 | Val Losses : 0.21558305085375068 | Val Acc : 0.9026397291846731\n",
      "Epoch : 185/200 | Train Losses : 0.19518502576733535 | Train Acc : 0.9118270169160702 | Val Losses : 0.21522049555617773 | Val Acc : 0.9027275100835495\n",
      "Epoch : 186/200 | Train Losses : 0.19519258217429214 | Train Acc : 0.9114285133376708 | Val Losses : 0.21576326541351468 | Val Acc : 0.903078633679055\n",
      "Epoch : 187/200 | Train Losses : 0.1952356976439368 | Train Acc : 0.9126789199739752 | Val Losses : 0.2153061559695876 | Val Acc : 0.9026397291846731\n",
      "Epoch : 188/200 | Train Losses : 0.19509241749655526 | Train Acc : 0.9116562296681847 | Val Losses : 0.21493114681726092 | Val Acc : 0.9024641673869201\n",
      "Epoch : 189/200 | Train Losses : 0.19498701106827215 | Train Acc : 0.9115789687703318 | Val Losses : 0.21523667729637597 | Val Acc : 0.9019374819936617\n",
      "Epoch : 190/200 | Train Losses : 0.19499740597774398 | Train Acc : 0.9115942176317501 | Val Losses : 0.2156351978859205 | Val Acc : 0.9029030718813023\n",
      "Epoch : 191/200 | Train Losses : 0.19497851732204546 | Train Acc : 0.9124166395575797 | Val Losses : 0.21504400997014528 | Val Acc : 0.9029030718813023\n",
      "Epoch : 192/200 | Train Losses : 0.19490422207229544 | Train Acc : 0.9114813760572544 | Val Losses : 0.21589796797613078 | Val Acc : 0.9024641673869201\n",
      "Epoch : 193/200 | Train Losses : 0.19464154291265415 | Train Acc : 0.9131567176317501 | Val Losses : 0.21481668455212305 | Val Acc : 0.9027275100835495\n",
      "Epoch : 194/200 | Train Losses : 0.1947891222137325 | Train Acc : 0.9130499756018218 | Val Losses : 0.21509739631012584 | Val Acc : 0.9031664145779315\n",
      "Epoch : 195/200 | Train Losses : 0.19473694959339105 | Train Acc : 0.9119093607677292 | Val Losses : 0.2152015906706285 | Val Acc : 0.9040442235666954\n",
      "Epoch : 196/200 | Train Losses : 0.1948699414167764 | Train Acc : 0.9130825065061808 | Val Losses : 0.21553973225730189 | Val Acc : 0.902200824690291\n",
      "Epoch : 197/200 | Train Losses : 0.1945781320895789 | Train Acc : 0.9123312459336369 | Val Losses : 0.21598987666408667 | Val Acc : 0.9025519482857967\n",
      "Epoch : 198/200 | Train Losses : 0.19472547114457725 | Train Acc : 0.9129442501626545 | Val Losses : 0.2161122319403659 | Val Acc : 0.901761920195909\n",
      "Epoch : 199/200 | Train Losses : 0.1946203254303842 | Train Acc : 0.9120648991541964 | Val Losses : 0.2158411263247554 | Val Acc : 0.9029908527801787\n",
      "Epoch : 200/200 | Train Losses : 0.19459555244670723 | Train Acc : 0.9129208685751463 | Val Losses : 0.2147379234600603 | Val Acc : 0.9025519482857967\n"
     ]
    }
   ],
   "source": [
    "train_losses, val_losses, train_accs, val_accs = batch_gd(model, criterion, optimizer, train_iter, val_iter, epochs=200)"
   ]
  },
  {
   "cell_type": "code",
   "execution_count": 50,
   "metadata": {},
   "outputs": [
    {
     "data": {
      "image/png": "[encoded data removed]",
      "text/plain": [
       "<Figure size 576x504 with 1 Axes>"
      ]
     },
     "metadata": {},
     "output_type": "display_data"
    }
   ],
   "source": [
    "# Plot the epochs vs losses\n",
    "plt.title(\"Epochs vs Losses\")\n",
    "plt.plot(train_losses, label=\"Train Loss\")\n",
    "plt.plot(val_losses, label=\"Validation Loss\")\n",
    "plt.xlabel(\"Epochs\")\n",
    "plt.ylabel(\"Losses\")\n",
    "plt.legend()\n",
    "plt.show()"
   ]
  },
  {
   "cell_type": "code",
   "execution_count": 51,
   "metadata": {},
   "outputs": [
    {
     "data": {
      "image/png": "[encoded data removed]",
      "text/plain": [
       "<Figure size 576x504 with 1 Axes>"
      ]
     },
     "metadata": {},
     "output_type": "display_data"
    }
   ],
   "source": [
    "# Plot the epochs vs losses\n",
    "plt.title(\"Epochs vs Losses\")\n",
    "plt.plot(train_accs, label=\"Train Accuracy\")\n",
    "plt.plot(val_accs, label=\"Validation Accuracy\")\n",
    "plt.xlabel(\"Epochs\")\n",
    "plt.ylabel(\"Accuracy\")\n",
    "plt.legend()\n",
    "plt.show()"
   ]
  },
  {
   "cell_type": "code",
   "execution_count": 58,
   "metadata": {},
   "outputs": [],
   "source": [
    "def get_accuracy(model, loader):\n",
    "    \n",
    "    acc = []\n",
    "    \n",
    "    for inputs, targets in loader:\n",
    "        \n",
    "        targets = targets.view(-1, 1)\n",
    "        \n",
    "        outputs = model(inputs)\n",
    "        \n",
    "        predictions = (outputs.detach().numpy() > 0)\n",
    "        \n",
    "        acc.append(np.mean(targets.detach().numpy() == predictions))\n",
    "        \n",
    "    return np.mean(acc) * 100"
   ]
  },
  {
   "cell_type": "code",
   "execution_count": 59,
   "metadata": {},
   "outputs": [
    {
     "name": "stdout",
     "output_type": "stream",
     "text": [
      "Training Accuracy of ANN : 91.35806359791803\n",
      "Validation Accuracy of ANN : 90.25519482857966\n"
     ]
    }
   ],
   "source": [
    "print(f\"Training Accuracy of ANN : {get_accuracy(model, train_iter)}\")\n",
    "print(f\"Validation Accuracy of ANN : {get_accuracy(model, val_iter)}\")"
   ]
  },
  {
   "cell_type": "markdown",
   "metadata": {},
   "source": [
    "# Accuracy Comparison of ANN with Other models\n",
    "\n",
    "| MODEL               | TRAIN ACC         | VAL ACC           |\n",
    "|---------------------|-------------------|-------------------|\n",
    "| Logistic Regression | 89.93157956824348 | 89.76377952755905 |\n",
    "| Decision Tree       | 100.0             | 87.55197735114571 |\n",
    "| Random Forest       | 100.0             | 90.47155622401132 |\n",
    "| XGBoost             | 95.67063819747553 | 90.97584712023357 |\n",
    "| ANN                 | 91.35806359791803 | 90.25519482857966 |\n",
    "\n",
    "\n",
    "\n",
    "* The above table shows that XGBoost is the perfect for our example.\n",
    "* The accuracy of prediction of Logistic Regression Model is quite similar to that of Neural Networks\n",
    "* Both Decision Tree and Random Forest shows signs of overfitting."
   ]
  },
  {
   "cell_type": "code",
   "execution_count": 62,
   "metadata": {},
   "outputs": [
    {
     "data": {
      "text/plain": [
       "['./MODEL_DATA/model.dat']"
      ]
     },
     "execution_count": 62,
     "metadata": {},
     "output_type": "execute_result"
    }
   ],
   "source": [
    "dump(std_scaler,\"./MODEL_DATA/std.bin\",compress=True)\n",
    "dump(xg,\"./MODEL_DATA/model.dat\")"
   ]
  },
  {
   "cell_type": "code",
   "execution_count": null,
   "metadata": {},
   "outputs": [],
   "source": []
  }
 ],
 "metadata": {
  "kernelspec": {
   "display_name": "Python 3",
   "language": "python",
   "name": "python3"
  },
  "language_info": {
   "codemirror_mode": {
    "name": "ipython",
    "version": 3
   },
   "file_extension": ".py",
   "mimetype": "text/x-python",
   "name": "python",
   "nbconvert_exporter": "python",
   "pygments_lexer": "ipython3",
   "version": "3.8.3"
  }
 },
 "nbformat": 4,
 "nbformat_minor": 4
}
