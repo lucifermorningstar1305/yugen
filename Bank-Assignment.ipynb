{
 "cells": [
  {
   "cell_type": "code",
   "execution_count": 1,
   "metadata": {},
   "outputs": [],
   "source": [
    "import numpy as np\n",
    "import matplotlib.pyplot as plt\n",
    "import seaborn as sns\n",
    "import pandas as pd\n",
    "from sklearn.preprocessing import StandardScaler\n",
    "from colorama import Fore, Style\n",
    "from jupyterthemes import jtplot \n",
    "from joblib import dump\n",
    "jtplot.style(theme=\"monokai\", context=\"notebook\", ticks=True)"
   ]
  },
  {
   "cell_type": "code",
   "execution_count": 2,
   "metadata": {},
   "outputs": [
    {
     "data": {
      "text/html": [
       "<div>\n",
       "<style scoped>\n",
       "    .dataframe tbody tr th:only-of-type {\n",
       "        vertical-align: middle;\n",
       "    }\n",
       "\n",
       "    .dataframe tbody tr th {\n",
       "        vertical-align: top;\n",
       "    }\n",
       "\n",
       "    .dataframe thead th {\n",
       "        text-align: right;\n",
       "    }\n",
       "</style>\n",
       "<table border=\"1\" class=\"dataframe\">\n",
       "  <thead>\n",
       "    <tr style=\"text-align: right;\">\n",
       "      <th></th>\n",
       "      <th>age</th>\n",
       "      <th>job</th>\n",
       "      <th>marital</th>\n",
       "      <th>education</th>\n",
       "      <th>default</th>\n",
       "      <th>balance</th>\n",
       "      <th>housing</th>\n",
       "      <th>loan</th>\n",
       "      <th>contact</th>\n",
       "      <th>day</th>\n",
       "      <th>month</th>\n",
       "      <th>duration</th>\n",
       "      <th>campaign</th>\n",
       "      <th>pdays</th>\n",
       "      <th>previous</th>\n",
       "      <th>poutcome</th>\n",
       "      <th>y</th>\n",
       "    </tr>\n",
       "  </thead>\n",
       "  <tbody>\n",
       "    <tr>\n",
       "      <th>0</th>\n",
       "      <td>58</td>\n",
       "      <td>management</td>\n",
       "      <td>married</td>\n",
       "      <td>tertiary</td>\n",
       "      <td>no</td>\n",
       "      <td>2143</td>\n",
       "      <td>yes</td>\n",
       "      <td>no</td>\n",
       "      <td>unknown</td>\n",
       "      <td>5</td>\n",
       "      <td>may</td>\n",
       "      <td>261</td>\n",
       "      <td>1</td>\n",
       "      <td>-1</td>\n",
       "      <td>0</td>\n",
       "      <td>unknown</td>\n",
       "      <td>no</td>\n",
       "    </tr>\n",
       "    <tr>\n",
       "      <th>1</th>\n",
       "      <td>44</td>\n",
       "      <td>technician</td>\n",
       "      <td>single</td>\n",
       "      <td>secondary</td>\n",
       "      <td>no</td>\n",
       "      <td>29</td>\n",
       "      <td>yes</td>\n",
       "      <td>no</td>\n",
       "      <td>unknown</td>\n",
       "      <td>5</td>\n",
       "      <td>may</td>\n",
       "      <td>151</td>\n",
       "      <td>1</td>\n",
       "      <td>-1</td>\n",
       "      <td>0</td>\n",
       "      <td>unknown</td>\n",
       "      <td>no</td>\n",
       "    </tr>\n",
       "    <tr>\n",
       "      <th>2</th>\n",
       "      <td>33</td>\n",
       "      <td>entrepreneur</td>\n",
       "      <td>married</td>\n",
       "      <td>secondary</td>\n",
       "      <td>no</td>\n",
       "      <td>2</td>\n",
       "      <td>yes</td>\n",
       "      <td>yes</td>\n",
       "      <td>unknown</td>\n",
       "      <td>5</td>\n",
       "      <td>may</td>\n",
       "      <td>76</td>\n",
       "      <td>1</td>\n",
       "      <td>-1</td>\n",
       "      <td>0</td>\n",
       "      <td>unknown</td>\n",
       "      <td>no</td>\n",
       "    </tr>\n",
       "    <tr>\n",
       "      <th>3</th>\n",
       "      <td>47</td>\n",
       "      <td>blue-collar</td>\n",
       "      <td>married</td>\n",
       "      <td>unknown</td>\n",
       "      <td>no</td>\n",
       "      <td>1506</td>\n",
       "      <td>yes</td>\n",
       "      <td>no</td>\n",
       "      <td>unknown</td>\n",
       "      <td>5</td>\n",
       "      <td>may</td>\n",
       "      <td>92</td>\n",
       "      <td>1</td>\n",
       "      <td>-1</td>\n",
       "      <td>0</td>\n",
       "      <td>unknown</td>\n",
       "      <td>no</td>\n",
       "    </tr>\n",
       "    <tr>\n",
       "      <th>4</th>\n",
       "      <td>33</td>\n",
       "      <td>unknown</td>\n",
       "      <td>single</td>\n",
       "      <td>unknown</td>\n",
       "      <td>no</td>\n",
       "      <td>1</td>\n",
       "      <td>no</td>\n",
       "      <td>no</td>\n",
       "      <td>unknown</td>\n",
       "      <td>5</td>\n",
       "      <td>may</td>\n",
       "      <td>198</td>\n",
       "      <td>1</td>\n",
       "      <td>-1</td>\n",
       "      <td>0</td>\n",
       "      <td>unknown</td>\n",
       "      <td>no</td>\n",
       "    </tr>\n",
       "  </tbody>\n",
       "</table>\n",
       "</div>"
      ],
      "text/plain": [
       "   age           job  marital  education default  balance housing loan  \\\n",
       "0   58    management  married   tertiary      no     2143     yes   no   \n",
       "1   44    technician   single  secondary      no       29     yes   no   \n",
       "2   33  entrepreneur  married  secondary      no        2     yes  yes   \n",
       "3   47   blue-collar  married    unknown      no     1506     yes   no   \n",
       "4   33       unknown   single    unknown      no        1      no   no   \n",
       "\n",
       "   contact  day month  duration  campaign  pdays  previous poutcome   y  \n",
       "0  unknown    5   may       261         1     -1         0  unknown  no  \n",
       "1  unknown    5   may       151         1     -1         0  unknown  no  \n",
       "2  unknown    5   may        76         1     -1         0  unknown  no  \n",
       "3  unknown    5   may        92         1     -1         0  unknown  no  \n",
       "4  unknown    5   may       198         1     -1         0  unknown  no  "
      ]
     },
     "execution_count": 2,
     "metadata": {},
     "output_type": "execute_result"
    }
   ],
   "source": [
    "df = pd.read_csv(\"bank-full.csv\", delimiter=\";\")\n",
    "df.head()"
   ]
  },
  {
   "cell_type": "code",
   "execution_count": 3,
   "metadata": {},
   "outputs": [
    {
     "name": "stdout",
     "output_type": "stream",
     "text": [
      "<class 'pandas.core.frame.DataFrame'>\n",
      "RangeIndex: 45211 entries, 0 to 45210\n",
      "Data columns (total 17 columns):\n",
      " #   Column     Non-Null Count  Dtype \n",
      "---  ------     --------------  ----- \n",
      " 0   age        45211 non-null  int64 \n",
      " 1   job        45211 non-null  object\n",
      " 2   marital    45211 non-null  object\n",
      " 3   education  45211 non-null  object\n",
      " 4   default    45211 non-null  object\n",
      " 5   balance    45211 non-null  int64 \n",
      " 6   housing    45211 non-null  object\n",
      " 7   loan       45211 non-null  object\n",
      " 8   contact    45211 non-null  object\n",
      " 9   day        45211 non-null  int64 \n",
      " 10  month      45211 non-null  object\n",
      " 11  duration   45211 non-null  int64 \n",
      " 12  campaign   45211 non-null  int64 \n",
      " 13  pdays      45211 non-null  int64 \n",
      " 14  previous   45211 non-null  int64 \n",
      " 15  poutcome   45211 non-null  object\n",
      " 16  y          45211 non-null  object\n",
      "dtypes: int64(7), object(10)\n",
      "memory usage: 5.9+ MB\n"
     ]
    }
   ],
   "source": [
    "df.info()"
   ]
  },
  {
   "cell_type": "code",
   "execution_count": 4,
   "metadata": {},
   "outputs": [
    {
     "data": {
      "text/html": [
       "<div>\n",
       "<style scoped>\n",
       "    .dataframe tbody tr th:only-of-type {\n",
       "        vertical-align: middle;\n",
       "    }\n",
       "\n",
       "    .dataframe tbody tr th {\n",
       "        vertical-align: top;\n",
       "    }\n",
       "\n",
       "    .dataframe thead th {\n",
       "        text-align: right;\n",
       "    }\n",
       "</style>\n",
       "<table border=\"1\" class=\"dataframe\">\n",
       "  <thead>\n",
       "    <tr style=\"text-align: right;\">\n",
       "      <th></th>\n",
       "      <th>age</th>\n",
       "      <th>balance</th>\n",
       "      <th>day</th>\n",
       "      <th>duration</th>\n",
       "      <th>campaign</th>\n",
       "      <th>pdays</th>\n",
       "      <th>previous</th>\n",
       "    </tr>\n",
       "  </thead>\n",
       "  <tbody>\n",
       "    <tr>\n",
       "      <th>count</th>\n",
       "      <td>45211.000000</td>\n",
       "      <td>45211.000000</td>\n",
       "      <td>45211.000000</td>\n",
       "      <td>45211.000000</td>\n",
       "      <td>45211.000000</td>\n",
       "      <td>45211.000000</td>\n",
       "      <td>45211.000000</td>\n",
       "    </tr>\n",
       "    <tr>\n",
       "      <th>mean</th>\n",
       "      <td>40.936210</td>\n",
       "      <td>1362.272058</td>\n",
       "      <td>15.806419</td>\n",
       "      <td>258.163080</td>\n",
       "      <td>2.763841</td>\n",
       "      <td>40.197828</td>\n",
       "      <td>0.580323</td>\n",
       "    </tr>\n",
       "    <tr>\n",
       "      <th>std</th>\n",
       "      <td>10.618762</td>\n",
       "      <td>3044.765829</td>\n",
       "      <td>8.322476</td>\n",
       "      <td>257.527812</td>\n",
       "      <td>3.098021</td>\n",
       "      <td>100.128746</td>\n",
       "      <td>2.303441</td>\n",
       "    </tr>\n",
       "    <tr>\n",
       "      <th>min</th>\n",
       "      <td>18.000000</td>\n",
       "      <td>-8019.000000</td>\n",
       "      <td>1.000000</td>\n",
       "      <td>0.000000</td>\n",
       "      <td>1.000000</td>\n",
       "      <td>-1.000000</td>\n",
       "      <td>0.000000</td>\n",
       "    </tr>\n",
       "    <tr>\n",
       "      <th>25%</th>\n",
       "      <td>33.000000</td>\n",
       "      <td>72.000000</td>\n",
       "      <td>8.000000</td>\n",
       "      <td>103.000000</td>\n",
       "      <td>1.000000</td>\n",
       "      <td>-1.000000</td>\n",
       "      <td>0.000000</td>\n",
       "    </tr>\n",
       "    <tr>\n",
       "      <th>50%</th>\n",
       "      <td>39.000000</td>\n",
       "      <td>448.000000</td>\n",
       "      <td>16.000000</td>\n",
       "      <td>180.000000</td>\n",
       "      <td>2.000000</td>\n",
       "      <td>-1.000000</td>\n",
       "      <td>0.000000</td>\n",
       "    </tr>\n",
       "    <tr>\n",
       "      <th>75%</th>\n",
       "      <td>48.000000</td>\n",
       "      <td>1428.000000</td>\n",
       "      <td>21.000000</td>\n",
       "      <td>319.000000</td>\n",
       "      <td>3.000000</td>\n",
       "      <td>-1.000000</td>\n",
       "      <td>0.000000</td>\n",
       "    </tr>\n",
       "    <tr>\n",
       "      <th>max</th>\n",
       "      <td>95.000000</td>\n",
       "      <td>102127.000000</td>\n",
       "      <td>31.000000</td>\n",
       "      <td>4918.000000</td>\n",
       "      <td>63.000000</td>\n",
       "      <td>871.000000</td>\n",
       "      <td>275.000000</td>\n",
       "    </tr>\n",
       "  </tbody>\n",
       "</table>\n",
       "</div>"
      ],
      "text/plain": [
       "                age        balance           day      duration      campaign  \\\n",
       "count  45211.000000   45211.000000  45211.000000  45211.000000  45211.000000   \n",
       "mean      40.936210    1362.272058     15.806419    258.163080      2.763841   \n",
       "std       10.618762    3044.765829      8.322476    257.527812      3.098021   \n",
       "min       18.000000   -8019.000000      1.000000      0.000000      1.000000   \n",
       "25%       33.000000      72.000000      8.000000    103.000000      1.000000   \n",
       "50%       39.000000     448.000000     16.000000    180.000000      2.000000   \n",
       "75%       48.000000    1428.000000     21.000000    319.000000      3.000000   \n",
       "max       95.000000  102127.000000     31.000000   4918.000000     63.000000   \n",
       "\n",
       "              pdays      previous  \n",
       "count  45211.000000  45211.000000  \n",
       "mean      40.197828      0.580323  \n",
       "std      100.128746      2.303441  \n",
       "min       -1.000000      0.000000  \n",
       "25%       -1.000000      0.000000  \n",
       "50%       -1.000000      0.000000  \n",
       "75%       -1.000000      0.000000  \n",
       "max      871.000000    275.000000  "
      ]
     },
     "execution_count": 4,
     "metadata": {},
     "output_type": "execute_result"
    }
   ],
   "source": [
    "df.describe()"
   ]
  },
  {
   "cell_type": "markdown",
   "metadata": {},
   "source": [
    "# Checking for Missing Values"
   ]
  },
  {
   "cell_type": "code",
   "execution_count": 6,
   "metadata": {},
   "outputs": [
    {
     "data": {
      "text/plain": [
       "age          0\n",
       "job          0\n",
       "marital      0\n",
       "education    0\n",
       "default      0\n",
       "balance      0\n",
       "housing      0\n",
       "loan         0\n",
       "contact      0\n",
       "day          0\n",
       "month        0\n",
       "duration     0\n",
       "campaign     0\n",
       "pdays        0\n",
       "previous     0\n",
       "poutcome     0\n",
       "y            0\n",
       "dtype: int64"
      ]
     },
     "execution_count": 6,
     "metadata": {},
     "output_type": "execute_result"
    }
   ],
   "source": [
    "df.isna().sum()"
   ]
  },
  {
   "cell_type": "code",
   "execution_count": 7,
   "metadata": {},
   "outputs": [
    {
     "name": "stdout",
     "output_type": "stream",
     "text": [
      "\u001b[33m Numeric Values in  \u001b[0m Index(['age', 'balance', 'day', 'duration', 'campaign', 'pdays', 'previous'], dtype='object')\n",
      "\u001b[34m String values in  \u001b[0m Index(['job', 'marital', 'education', 'default', 'housing', 'loan', 'contact',\n",
      "       'month', 'poutcome', 'y'],\n",
      "      dtype='object')\n"
     ]
    }
   ],
   "source": [
    "# Get all numeric columns \n",
    "numeric_type_fields = df.select_dtypes(exclude=[\"object\"]).columns\n",
    "print(Fore.YELLOW, \"Numeric Values in \", Style.RESET_ALL, numeric_type_fields)\n",
    "\n",
    "# Get all string columns\n",
    "object_type_fields = df.select_dtypes(exclude=['int64']).columns\n",
    "print(Fore.BLUE, \"String values in \", Style.RESET_ALL, object_type_fields)"
   ]
  },
  {
   "cell_type": "code",
   "execution_count": 8,
   "metadata": {},
   "outputs": [
    {
     "name": "stdout",
     "output_type": "stream",
     "text": [
      "\u001b[33m job \u001b[0m  --> ['management' 'technician' 'entrepreneur' 'blue-collar' 'unknown' 'mgmt'\n",
      " 'retired' 'admin' 'admin.' 'services' 'self-employed' 'unemployed'\n",
      " 'housemaid' 'student']\n",
      "\u001b[34m marital \u001b[0m  --> ['married' 'single' 'divorced']\n",
      "\u001b[31m education \u001b[0m  --> ['tertiary' 'secondary' 'unknown' 'primary']\n",
      "\u001b[33m default \u001b[0m  --> ['no' 'yes']\n",
      "\u001b[34m housing \u001b[0m  --> ['yes' 'no']\n",
      "\u001b[31m loan \u001b[0m  --> ['no' 'yes']\n",
      "\u001b[33m contact \u001b[0m  --> ['unknown' 'cellular' 'telephone']\n",
      "\u001b[34m month \u001b[0m  --> ['may' 'jun' 'jul' 'aug' 'oct' 'nov' 'dec' 'jan' 'feb' 'mar' 'apr' 'sep']\n",
      "\u001b[31m poutcome \u001b[0m  --> ['unknown' 'failure' 'other' 'success']\n",
      "\u001b[33m y \u001b[0m  --> ['no' 'yes']\n"
     ]
    }
   ],
   "source": [
    "# List all categorical values for the object columns\n",
    "def get_categorical_info():\n",
    "    colors = [Fore.YELLOW, Fore.BLUE, Fore.RED]\n",
    "\n",
    "    for idx, cols in enumerate(object_type_fields):\n",
    "\n",
    "        if idx >= 3 :\n",
    "            idx = idx % 3\n",
    "\n",
    "        print(colors[idx], f\"{cols}\", Style.RESET_ALL, f\" --> {df[cols].unique()}\")\n",
    "    \n",
    "get_categorical_info()"
   ]
  },
  {
   "cell_type": "markdown",
   "metadata": {},
   "source": [
    "# Observations of Categorical Values:\n",
    "\n",
    "* Except the `month` and `education` every other field are nominal data.\n",
    "* The `job` field has similar categorical values which are named either differently or abbreviated such 'management' and 'mgmt', 'admin' and 'admin.'\n",
    "* Since these data are in object format they need to be converted to numeric data for model training and others."
   ]
  },
  {
   "cell_type": "code",
   "execution_count": 9,
   "metadata": {
    "scrolled": false
   },
   "outputs": [
    {
     "name": "stdout",
     "output_type": "stream",
     "text": [
      "\u001b[33m job \u001b[0m  --> ['management' 'technician' 'entrepreneur' 'blue-collar' 'unknown'\n",
      " 'retired' 'admin' 'services' 'self-employed' 'unemployed' 'housemaid'\n",
      " 'student']\n",
      "\u001b[34m marital \u001b[0m  --> ['married' 'single' 'divorced']\n",
      "\u001b[31m education \u001b[0m  --> ['tertiary' 'secondary' 'unknown' 'primary']\n",
      "\u001b[33m default \u001b[0m  --> ['no' 'yes']\n",
      "\u001b[34m housing \u001b[0m  --> ['yes' 'no']\n",
      "\u001b[31m loan \u001b[0m  --> ['no' 'yes']\n",
      "\u001b[33m contact \u001b[0m  --> ['unknown' 'cellular' 'telephone']\n",
      "\u001b[34m month \u001b[0m  --> ['may' 'jun' 'jul' 'aug' 'oct' 'nov' 'dec' 'jan' 'feb' 'mar' 'apr' 'sep']\n",
      "\u001b[31m poutcome \u001b[0m  --> ['unknown' 'failure' 'other' 'success']\n",
      "\u001b[33m y \u001b[0m  --> ['no' 'yes']\n"
     ]
    },
    {
     "name": "stderr",
     "output_type": "stream",
     "text": [
      "/home/adityam/anaconda3/lib/python3.8/site-packages/pandas/core/indexing.py:671: SettingWithCopyWarning: \n",
      "A value is trying to be set on a copy of a slice from a DataFrame\n",
      "\n",
      "See the caveats in the documentation: https://pandas.pydata.org/pandas-docs/stable/user_guide/indexing.html#returning-a-view-versus-a-copy\n",
      "  self._setitem_with_indexer(indexer, value)\n"
     ]
    }
   ],
   "source": [
    "# Cleaning part 1\n",
    "df[\"job\"].loc[df['job'] == \"admin.\"] = \"admin\"\n",
    "df[\"job\"].loc[df[\"job\"] == \"mgmt\"] = \"management\"\n",
    "\n",
    "get_categorical_info()"
   ]
  },
  {
   "cell_type": "code",
   "execution_count": 10,
   "metadata": {},
   "outputs": [
    {
     "data": {
      "text/html": [
       "<div>\n",
       "<style scoped>\n",
       "    .dataframe tbody tr th:only-of-type {\n",
       "        vertical-align: middle;\n",
       "    }\n",
       "\n",
       "    .dataframe tbody tr th {\n",
       "        vertical-align: top;\n",
       "    }\n",
       "\n",
       "    .dataframe thead th {\n",
       "        text-align: right;\n",
       "    }\n",
       "</style>\n",
       "<table border=\"1\" class=\"dataframe\">\n",
       "  <thead>\n",
       "    <tr style=\"text-align: right;\">\n",
       "      <th></th>\n",
       "      <th>age</th>\n",
       "      <th>job</th>\n",
       "      <th>marital</th>\n",
       "      <th>education</th>\n",
       "      <th>default</th>\n",
       "      <th>balance</th>\n",
       "      <th>housing</th>\n",
       "      <th>loan</th>\n",
       "      <th>contact</th>\n",
       "      <th>day</th>\n",
       "      <th>month</th>\n",
       "      <th>duration</th>\n",
       "      <th>campaign</th>\n",
       "      <th>pdays</th>\n",
       "      <th>previous</th>\n",
       "      <th>poutcome</th>\n",
       "      <th>y</th>\n",
       "    </tr>\n",
       "  </thead>\n",
       "  <tbody>\n",
       "    <tr>\n",
       "      <th>3</th>\n",
       "      <td>47</td>\n",
       "      <td>blue-collar</td>\n",
       "      <td>married</td>\n",
       "      <td>unknown</td>\n",
       "      <td>no</td>\n",
       "      <td>1506</td>\n",
       "      <td>yes</td>\n",
       "      <td>no</td>\n",
       "      <td>unknown</td>\n",
       "      <td>5</td>\n",
       "      <td>may</td>\n",
       "      <td>92</td>\n",
       "      <td>1</td>\n",
       "      <td>-1</td>\n",
       "      <td>0</td>\n",
       "      <td>unknown</td>\n",
       "      <td>no</td>\n",
       "    </tr>\n",
       "    <tr>\n",
       "      <th>4</th>\n",
       "      <td>33</td>\n",
       "      <td>unknown</td>\n",
       "      <td>single</td>\n",
       "      <td>unknown</td>\n",
       "      <td>no</td>\n",
       "      <td>1</td>\n",
       "      <td>no</td>\n",
       "      <td>no</td>\n",
       "      <td>unknown</td>\n",
       "      <td>5</td>\n",
       "      <td>may</td>\n",
       "      <td>198</td>\n",
       "      <td>1</td>\n",
       "      <td>-1</td>\n",
       "      <td>0</td>\n",
       "      <td>unknown</td>\n",
       "      <td>no</td>\n",
       "    </tr>\n",
       "    <tr>\n",
       "      <th>13</th>\n",
       "      <td>58</td>\n",
       "      <td>technician</td>\n",
       "      <td>married</td>\n",
       "      <td>unknown</td>\n",
       "      <td>no</td>\n",
       "      <td>71</td>\n",
       "      <td>yes</td>\n",
       "      <td>no</td>\n",
       "      <td>unknown</td>\n",
       "      <td>5</td>\n",
       "      <td>may</td>\n",
       "      <td>71</td>\n",
       "      <td>1</td>\n",
       "      <td>-1</td>\n",
       "      <td>0</td>\n",
       "      <td>unknown</td>\n",
       "      <td>no</td>\n",
       "    </tr>\n",
       "    <tr>\n",
       "      <th>16</th>\n",
       "      <td>45</td>\n",
       "      <td>admin</td>\n",
       "      <td>single</td>\n",
       "      <td>unknown</td>\n",
       "      <td>no</td>\n",
       "      <td>13</td>\n",
       "      <td>yes</td>\n",
       "      <td>no</td>\n",
       "      <td>unknown</td>\n",
       "      <td>5</td>\n",
       "      <td>may</td>\n",
       "      <td>98</td>\n",
       "      <td>1</td>\n",
       "      <td>-1</td>\n",
       "      <td>0</td>\n",
       "      <td>unknown</td>\n",
       "      <td>no</td>\n",
       "    </tr>\n",
       "    <tr>\n",
       "      <th>42</th>\n",
       "      <td>60</td>\n",
       "      <td>blue-collar</td>\n",
       "      <td>married</td>\n",
       "      <td>unknown</td>\n",
       "      <td>no</td>\n",
       "      <td>104</td>\n",
       "      <td>yes</td>\n",
       "      <td>no</td>\n",
       "      <td>unknown</td>\n",
       "      <td>5</td>\n",
       "      <td>may</td>\n",
       "      <td>22</td>\n",
       "      <td>1</td>\n",
       "      <td>-1</td>\n",
       "      <td>0</td>\n",
       "      <td>unknown</td>\n",
       "      <td>no</td>\n",
       "    </tr>\n",
       "    <tr>\n",
       "      <th>...</th>\n",
       "      <td>...</td>\n",
       "      <td>...</td>\n",
       "      <td>...</td>\n",
       "      <td>...</td>\n",
       "      <td>...</td>\n",
       "      <td>...</td>\n",
       "      <td>...</td>\n",
       "      <td>...</td>\n",
       "      <td>...</td>\n",
       "      <td>...</td>\n",
       "      <td>...</td>\n",
       "      <td>...</td>\n",
       "      <td>...</td>\n",
       "      <td>...</td>\n",
       "      <td>...</td>\n",
       "      <td>...</td>\n",
       "      <td>...</td>\n",
       "    </tr>\n",
       "    <tr>\n",
       "      <th>45129</th>\n",
       "      <td>46</td>\n",
       "      <td>technician</td>\n",
       "      <td>married</td>\n",
       "      <td>unknown</td>\n",
       "      <td>no</td>\n",
       "      <td>3308</td>\n",
       "      <td>no</td>\n",
       "      <td>no</td>\n",
       "      <td>cellular</td>\n",
       "      <td>27</td>\n",
       "      <td>oct</td>\n",
       "      <td>171</td>\n",
       "      <td>1</td>\n",
       "      <td>91</td>\n",
       "      <td>2</td>\n",
       "      <td>success</td>\n",
       "      <td>yes</td>\n",
       "    </tr>\n",
       "    <tr>\n",
       "      <th>45141</th>\n",
       "      <td>77</td>\n",
       "      <td>unknown</td>\n",
       "      <td>married</td>\n",
       "      <td>unknown</td>\n",
       "      <td>no</td>\n",
       "      <td>397</td>\n",
       "      <td>no</td>\n",
       "      <td>no</td>\n",
       "      <td>telephone</td>\n",
       "      <td>8</td>\n",
       "      <td>nov</td>\n",
       "      <td>207</td>\n",
       "      <td>1</td>\n",
       "      <td>185</td>\n",
       "      <td>3</td>\n",
       "      <td>success</td>\n",
       "      <td>no</td>\n",
       "    </tr>\n",
       "    <tr>\n",
       "      <th>45150</th>\n",
       "      <td>65</td>\n",
       "      <td>management</td>\n",
       "      <td>married</td>\n",
       "      <td>unknown</td>\n",
       "      <td>no</td>\n",
       "      <td>2352</td>\n",
       "      <td>no</td>\n",
       "      <td>no</td>\n",
       "      <td>cellular</td>\n",
       "      <td>8</td>\n",
       "      <td>nov</td>\n",
       "      <td>354</td>\n",
       "      <td>3</td>\n",
       "      <td>188</td>\n",
       "      <td>13</td>\n",
       "      <td>success</td>\n",
       "      <td>no</td>\n",
       "    </tr>\n",
       "    <tr>\n",
       "      <th>45158</th>\n",
       "      <td>34</td>\n",
       "      <td>student</td>\n",
       "      <td>single</td>\n",
       "      <td>unknown</td>\n",
       "      <td>no</td>\n",
       "      <td>2321</td>\n",
       "      <td>no</td>\n",
       "      <td>no</td>\n",
       "      <td>cellular</td>\n",
       "      <td>9</td>\n",
       "      <td>nov</td>\n",
       "      <td>600</td>\n",
       "      <td>2</td>\n",
       "      <td>99</td>\n",
       "      <td>5</td>\n",
       "      <td>failure</td>\n",
       "      <td>no</td>\n",
       "    </tr>\n",
       "    <tr>\n",
       "      <th>45186</th>\n",
       "      <td>59</td>\n",
       "      <td>unknown</td>\n",
       "      <td>married</td>\n",
       "      <td>unknown</td>\n",
       "      <td>no</td>\n",
       "      <td>1500</td>\n",
       "      <td>no</td>\n",
       "      <td>no</td>\n",
       "      <td>cellular</td>\n",
       "      <td>16</td>\n",
       "      <td>nov</td>\n",
       "      <td>280</td>\n",
       "      <td>1</td>\n",
       "      <td>104</td>\n",
       "      <td>2</td>\n",
       "      <td>failure</td>\n",
       "      <td>no</td>\n",
       "    </tr>\n",
       "  </tbody>\n",
       "</table>\n",
       "<p>1857 rows × 17 columns</p>\n",
       "</div>"
      ],
      "text/plain": [
       "       age          job  marital education default  balance housing loan  \\\n",
       "3       47  blue-collar  married   unknown      no     1506     yes   no   \n",
       "4       33      unknown   single   unknown      no        1      no   no   \n",
       "13      58   technician  married   unknown      no       71     yes   no   \n",
       "16      45        admin   single   unknown      no       13     yes   no   \n",
       "42      60  blue-collar  married   unknown      no      104     yes   no   \n",
       "...    ...          ...      ...       ...     ...      ...     ...  ...   \n",
       "45129   46   technician  married   unknown      no     3308      no   no   \n",
       "45141   77      unknown  married   unknown      no      397      no   no   \n",
       "45150   65   management  married   unknown      no     2352      no   no   \n",
       "45158   34      student   single   unknown      no     2321      no   no   \n",
       "45186   59      unknown  married   unknown      no     1500      no   no   \n",
       "\n",
       "         contact  day month  duration  campaign  pdays  previous poutcome    y  \n",
       "3        unknown    5   may        92         1     -1         0  unknown   no  \n",
       "4        unknown    5   may       198         1     -1         0  unknown   no  \n",
       "13       unknown    5   may        71         1     -1         0  unknown   no  \n",
       "16       unknown    5   may        98         1     -1         0  unknown   no  \n",
       "42       unknown    5   may        22         1     -1         0  unknown   no  \n",
       "...          ...  ...   ...       ...       ...    ...       ...      ...  ...  \n",
       "45129   cellular   27   oct       171         1     91         2  success  yes  \n",
       "45141  telephone    8   nov       207         1    185         3  success   no  \n",
       "45150   cellular    8   nov       354         3    188        13  success   no  \n",
       "45158   cellular    9   nov       600         2     99         5  failure   no  \n",
       "45186   cellular   16   nov       280         1    104         2  failure   no  \n",
       "\n",
       "[1857 rows x 17 columns]"
      ]
     },
     "execution_count": 10,
     "metadata": {},
     "output_type": "execute_result"
    }
   ],
   "source": [
    "df.loc[df[\"education\"] == \"unknown\"]"
   ]
  },
  {
   "cell_type": "code",
   "execution_count": 11,
   "metadata": {},
   "outputs": [
    {
     "data": {
      "text/html": [
       "<div>\n",
       "<style scoped>\n",
       "    .dataframe tbody tr th:only-of-type {\n",
       "        vertical-align: middle;\n",
       "    }\n",
       "\n",
       "    .dataframe tbody tr th {\n",
       "        vertical-align: top;\n",
       "    }\n",
       "\n",
       "    .dataframe thead th {\n",
       "        text-align: right;\n",
       "    }\n",
       "</style>\n",
       "<table border=\"1\" class=\"dataframe\">\n",
       "  <thead>\n",
       "    <tr style=\"text-align: right;\">\n",
       "      <th></th>\n",
       "      <th>age</th>\n",
       "      <th>job</th>\n",
       "      <th>marital</th>\n",
       "      <th>education</th>\n",
       "      <th>default</th>\n",
       "      <th>balance</th>\n",
       "      <th>housing</th>\n",
       "      <th>loan</th>\n",
       "      <th>contact</th>\n",
       "      <th>day</th>\n",
       "      <th>month</th>\n",
       "      <th>duration</th>\n",
       "      <th>campaign</th>\n",
       "      <th>pdays</th>\n",
       "      <th>previous</th>\n",
       "      <th>poutcome</th>\n",
       "      <th>y</th>\n",
       "    </tr>\n",
       "  </thead>\n",
       "  <tbody>\n",
       "    <tr>\n",
       "      <th>203</th>\n",
       "      <td>35</td>\n",
       "      <td>student</td>\n",
       "      <td>single</td>\n",
       "      <td>unknown</td>\n",
       "      <td>no</td>\n",
       "      <td>298</td>\n",
       "      <td>yes</td>\n",
       "      <td>no</td>\n",
       "      <td>unknown</td>\n",
       "      <td>5</td>\n",
       "      <td>may</td>\n",
       "      <td>611</td>\n",
       "      <td>2</td>\n",
       "      <td>-1</td>\n",
       "      <td>0</td>\n",
       "      <td>unknown</td>\n",
       "      <td>no</td>\n",
       "    </tr>\n",
       "    <tr>\n",
       "      <th>1401</th>\n",
       "      <td>26</td>\n",
       "      <td>student</td>\n",
       "      <td>single</td>\n",
       "      <td>unknown</td>\n",
       "      <td>no</td>\n",
       "      <td>-41</td>\n",
       "      <td>yes</td>\n",
       "      <td>no</td>\n",
       "      <td>unknown</td>\n",
       "      <td>8</td>\n",
       "      <td>may</td>\n",
       "      <td>229</td>\n",
       "      <td>2</td>\n",
       "      <td>-1</td>\n",
       "      <td>0</td>\n",
       "      <td>unknown</td>\n",
       "      <td>no</td>\n",
       "    </tr>\n",
       "    <tr>\n",
       "      <th>2259</th>\n",
       "      <td>21</td>\n",
       "      <td>student</td>\n",
       "      <td>single</td>\n",
       "      <td>unknown</td>\n",
       "      <td>no</td>\n",
       "      <td>137</td>\n",
       "      <td>yes</td>\n",
       "      <td>no</td>\n",
       "      <td>unknown</td>\n",
       "      <td>12</td>\n",
       "      <td>may</td>\n",
       "      <td>198</td>\n",
       "      <td>3</td>\n",
       "      <td>-1</td>\n",
       "      <td>0</td>\n",
       "      <td>unknown</td>\n",
       "      <td>no</td>\n",
       "    </tr>\n",
       "    <tr>\n",
       "      <th>4268</th>\n",
       "      <td>21</td>\n",
       "      <td>student</td>\n",
       "      <td>single</td>\n",
       "      <td>unknown</td>\n",
       "      <td>no</td>\n",
       "      <td>210</td>\n",
       "      <td>yes</td>\n",
       "      <td>no</td>\n",
       "      <td>unknown</td>\n",
       "      <td>19</td>\n",
       "      <td>may</td>\n",
       "      <td>53</td>\n",
       "      <td>1</td>\n",
       "      <td>-1</td>\n",
       "      <td>0</td>\n",
       "      <td>unknown</td>\n",
       "      <td>no</td>\n",
       "    </tr>\n",
       "    <tr>\n",
       "      <th>4442</th>\n",
       "      <td>32</td>\n",
       "      <td>student</td>\n",
       "      <td>single</td>\n",
       "      <td>unknown</td>\n",
       "      <td>no</td>\n",
       "      <td>1583</td>\n",
       "      <td>yes</td>\n",
       "      <td>no</td>\n",
       "      <td>unknown</td>\n",
       "      <td>20</td>\n",
       "      <td>may</td>\n",
       "      <td>57</td>\n",
       "      <td>1</td>\n",
       "      <td>-1</td>\n",
       "      <td>0</td>\n",
       "      <td>unknown</td>\n",
       "      <td>no</td>\n",
       "    </tr>\n",
       "    <tr>\n",
       "      <th>...</th>\n",
       "      <td>...</td>\n",
       "      <td>...</td>\n",
       "      <td>...</td>\n",
       "      <td>...</td>\n",
       "      <td>...</td>\n",
       "      <td>...</td>\n",
       "      <td>...</td>\n",
       "      <td>...</td>\n",
       "      <td>...</td>\n",
       "      <td>...</td>\n",
       "      <td>...</td>\n",
       "      <td>...</td>\n",
       "      <td>...</td>\n",
       "      <td>...</td>\n",
       "      <td>...</td>\n",
       "      <td>...</td>\n",
       "      <td>...</td>\n",
       "    </tr>\n",
       "    <tr>\n",
       "      <th>44790</th>\n",
       "      <td>21</td>\n",
       "      <td>student</td>\n",
       "      <td>single</td>\n",
       "      <td>unknown</td>\n",
       "      <td>no</td>\n",
       "      <td>1506</td>\n",
       "      <td>no</td>\n",
       "      <td>no</td>\n",
       "      <td>cellular</td>\n",
       "      <td>14</td>\n",
       "      <td>sep</td>\n",
       "      <td>340</td>\n",
       "      <td>1</td>\n",
       "      <td>-1</td>\n",
       "      <td>0</td>\n",
       "      <td>unknown</td>\n",
       "      <td>yes</td>\n",
       "    </tr>\n",
       "    <tr>\n",
       "      <th>44804</th>\n",
       "      <td>32</td>\n",
       "      <td>student</td>\n",
       "      <td>single</td>\n",
       "      <td>unknown</td>\n",
       "      <td>no</td>\n",
       "      <td>0</td>\n",
       "      <td>no</td>\n",
       "      <td>no</td>\n",
       "      <td>unknown</td>\n",
       "      <td>15</td>\n",
       "      <td>sep</td>\n",
       "      <td>7</td>\n",
       "      <td>1</td>\n",
       "      <td>-1</td>\n",
       "      <td>0</td>\n",
       "      <td>unknown</td>\n",
       "      <td>no</td>\n",
       "    </tr>\n",
       "    <tr>\n",
       "      <th>44823</th>\n",
       "      <td>20</td>\n",
       "      <td>student</td>\n",
       "      <td>single</td>\n",
       "      <td>unknown</td>\n",
       "      <td>no</td>\n",
       "      <td>2785</td>\n",
       "      <td>no</td>\n",
       "      <td>no</td>\n",
       "      <td>cellular</td>\n",
       "      <td>16</td>\n",
       "      <td>sep</td>\n",
       "      <td>327</td>\n",
       "      <td>2</td>\n",
       "      <td>-1</td>\n",
       "      <td>0</td>\n",
       "      <td>unknown</td>\n",
       "      <td>yes</td>\n",
       "    </tr>\n",
       "    <tr>\n",
       "      <th>44870</th>\n",
       "      <td>20</td>\n",
       "      <td>student</td>\n",
       "      <td>single</td>\n",
       "      <td>unknown</td>\n",
       "      <td>no</td>\n",
       "      <td>179</td>\n",
       "      <td>no</td>\n",
       "      <td>no</td>\n",
       "      <td>cellular</td>\n",
       "      <td>23</td>\n",
       "      <td>sep</td>\n",
       "      <td>317</td>\n",
       "      <td>1</td>\n",
       "      <td>182</td>\n",
       "      <td>6</td>\n",
       "      <td>failure</td>\n",
       "      <td>no</td>\n",
       "    </tr>\n",
       "    <tr>\n",
       "      <th>45158</th>\n",
       "      <td>34</td>\n",
       "      <td>student</td>\n",
       "      <td>single</td>\n",
       "      <td>unknown</td>\n",
       "      <td>no</td>\n",
       "      <td>2321</td>\n",
       "      <td>no</td>\n",
       "      <td>no</td>\n",
       "      <td>cellular</td>\n",
       "      <td>9</td>\n",
       "      <td>nov</td>\n",
       "      <td>600</td>\n",
       "      <td>2</td>\n",
       "      <td>99</td>\n",
       "      <td>5</td>\n",
       "      <td>failure</td>\n",
       "      <td>no</td>\n",
       "    </tr>\n",
       "  </tbody>\n",
       "</table>\n",
       "<p>163 rows × 17 columns</p>\n",
       "</div>"
      ],
      "text/plain": [
       "       age      job marital education default  balance housing loan   contact  \\\n",
       "203     35  student  single   unknown      no      298     yes   no   unknown   \n",
       "1401    26  student  single   unknown      no      -41     yes   no   unknown   \n",
       "2259    21  student  single   unknown      no      137     yes   no   unknown   \n",
       "4268    21  student  single   unknown      no      210     yes   no   unknown   \n",
       "4442    32  student  single   unknown      no     1583     yes   no   unknown   \n",
       "...    ...      ...     ...       ...     ...      ...     ...  ...       ...   \n",
       "44790   21  student  single   unknown      no     1506      no   no  cellular   \n",
       "44804   32  student  single   unknown      no        0      no   no   unknown   \n",
       "44823   20  student  single   unknown      no     2785      no   no  cellular   \n",
       "44870   20  student  single   unknown      no      179      no   no  cellular   \n",
       "45158   34  student  single   unknown      no     2321      no   no  cellular   \n",
       "\n",
       "       day month  duration  campaign  pdays  previous poutcome    y  \n",
       "203      5   may       611         2     -1         0  unknown   no  \n",
       "1401     8   may       229         2     -1         0  unknown   no  \n",
       "2259    12   may       198         3     -1         0  unknown   no  \n",
       "4268    19   may        53         1     -1         0  unknown   no  \n",
       "4442    20   may        57         1     -1         0  unknown   no  \n",
       "...    ...   ...       ...       ...    ...       ...      ...  ...  \n",
       "44790   14   sep       340         1     -1         0  unknown  yes  \n",
       "44804   15   sep         7         1     -1         0  unknown   no  \n",
       "44823   16   sep       327         2     -1         0  unknown  yes  \n",
       "44870   23   sep       317         1    182         6  failure   no  \n",
       "45158    9   nov       600         2     99         5  failure   no  \n",
       "\n",
       "[163 rows x 17 columns]"
      ]
     },
     "execution_count": 11,
     "metadata": {},
     "output_type": "execute_result"
    }
   ],
   "source": [
    "df.loc[(df[\"education\"] == \"unknown\") & (df[\"job\"] == \"student\")]"
   ]
  },
  {
   "cell_type": "code",
   "execution_count": 12,
   "metadata": {
    "scrolled": false
   },
   "outputs": [
    {
     "data": {
      "text/html": [
       "<div>\n",
       "<style scoped>\n",
       "    .dataframe tbody tr th:only-of-type {\n",
       "        vertical-align: middle;\n",
       "    }\n",
       "\n",
       "    .dataframe tbody tr th {\n",
       "        vertical-align: top;\n",
       "    }\n",
       "\n",
       "    .dataframe thead th {\n",
       "        text-align: right;\n",
       "    }\n",
       "</style>\n",
       "<table border=\"1\" class=\"dataframe\">\n",
       "  <thead>\n",
       "    <tr style=\"text-align: right;\">\n",
       "      <th></th>\n",
       "      <th>age</th>\n",
       "      <th>job</th>\n",
       "      <th>marital</th>\n",
       "      <th>education</th>\n",
       "      <th>default</th>\n",
       "      <th>balance</th>\n",
       "      <th>housing</th>\n",
       "      <th>loan</th>\n",
       "      <th>contact</th>\n",
       "      <th>day</th>\n",
       "      <th>month</th>\n",
       "      <th>duration</th>\n",
       "      <th>campaign</th>\n",
       "      <th>pdays</th>\n",
       "      <th>previous</th>\n",
       "      <th>poutcome</th>\n",
       "      <th>y</th>\n",
       "    </tr>\n",
       "  </thead>\n",
       "  <tbody>\n",
       "    <tr>\n",
       "      <th>0</th>\n",
       "      <td>58</td>\n",
       "      <td>0</td>\n",
       "      <td>1</td>\n",
       "      <td>3</td>\n",
       "      <td>0</td>\n",
       "      <td>2143</td>\n",
       "      <td>1</td>\n",
       "      <td>0</td>\n",
       "      <td>0</td>\n",
       "      <td>5</td>\n",
       "      <td>4</td>\n",
       "      <td>261</td>\n",
       "      <td>1</td>\n",
       "      <td>-1</td>\n",
       "      <td>0</td>\n",
       "      <td>0</td>\n",
       "      <td>0</td>\n",
       "    </tr>\n",
       "    <tr>\n",
       "      <th>1</th>\n",
       "      <td>44</td>\n",
       "      <td>1</td>\n",
       "      <td>0</td>\n",
       "      <td>2</td>\n",
       "      <td>0</td>\n",
       "      <td>29</td>\n",
       "      <td>1</td>\n",
       "      <td>0</td>\n",
       "      <td>0</td>\n",
       "      <td>5</td>\n",
       "      <td>4</td>\n",
       "      <td>151</td>\n",
       "      <td>1</td>\n",
       "      <td>-1</td>\n",
       "      <td>0</td>\n",
       "      <td>0</td>\n",
       "      <td>0</td>\n",
       "    </tr>\n",
       "    <tr>\n",
       "      <th>2</th>\n",
       "      <td>33</td>\n",
       "      <td>2</td>\n",
       "      <td>1</td>\n",
       "      <td>2</td>\n",
       "      <td>0</td>\n",
       "      <td>2</td>\n",
       "      <td>1</td>\n",
       "      <td>1</td>\n",
       "      <td>0</td>\n",
       "      <td>5</td>\n",
       "      <td>4</td>\n",
       "      <td>76</td>\n",
       "      <td>1</td>\n",
       "      <td>-1</td>\n",
       "      <td>0</td>\n",
       "      <td>0</td>\n",
       "      <td>0</td>\n",
       "    </tr>\n",
       "    <tr>\n",
       "      <th>3</th>\n",
       "      <td>47</td>\n",
       "      <td>3</td>\n",
       "      <td>1</td>\n",
       "      <td>0</td>\n",
       "      <td>0</td>\n",
       "      <td>1506</td>\n",
       "      <td>1</td>\n",
       "      <td>0</td>\n",
       "      <td>0</td>\n",
       "      <td>5</td>\n",
       "      <td>4</td>\n",
       "      <td>92</td>\n",
       "      <td>1</td>\n",
       "      <td>-1</td>\n",
       "      <td>0</td>\n",
       "      <td>0</td>\n",
       "      <td>0</td>\n",
       "    </tr>\n",
       "    <tr>\n",
       "      <th>4</th>\n",
       "      <td>33</td>\n",
       "      <td>4</td>\n",
       "      <td>0</td>\n",
       "      <td>0</td>\n",
       "      <td>0</td>\n",
       "      <td>1</td>\n",
       "      <td>0</td>\n",
       "      <td>0</td>\n",
       "      <td>0</td>\n",
       "      <td>5</td>\n",
       "      <td>4</td>\n",
       "      <td>198</td>\n",
       "      <td>1</td>\n",
       "      <td>-1</td>\n",
       "      <td>0</td>\n",
       "      <td>0</td>\n",
       "      <td>0</td>\n",
       "    </tr>\n",
       "  </tbody>\n",
       "</table>\n",
       "</div>"
      ],
      "text/plain": [
       "   age  job  marital  education  default  balance  housing  loan  contact  \\\n",
       "0   58    0        1          3        0     2143        1     0        0   \n",
       "1   44    1        0          2        0       29        1     0        0   \n",
       "2   33    2        1          2        0        2        1     1        0   \n",
       "3   47    3        1          0        0     1506        1     0        0   \n",
       "4   33    4        0          0        0        1        0     0        0   \n",
       "\n",
       "   day  month  duration  campaign  pdays  previous  poutcome  y  \n",
       "0    5      4       261         1     -1         0         0  0  \n",
       "1    5      4       151         1     -1         0         0  0  \n",
       "2    5      4        76         1     -1         0         0  0  \n",
       "3    5      4        92         1     -1         0         0  0  \n",
       "4    5      4       198         1     -1         0         0  0  "
      ]
     },
     "execution_count": 12,
     "metadata": {},
     "output_type": "execute_result"
    }
   ],
   "source": [
    "# Encoding data\n",
    "jobs = {\"management\":0, \"technician\" : 1, \"entrepreneur\": 2, \"blue-collar\": 3, \n",
    "       \"unknown\" : 4, \"retired\" : 5, \"admin\" : 6, \"services\" : 7, \"self-employed\" : 8,\n",
    "       \"unemployed\" : 9, \"housemaid\" : 10, \"student\": 11} # Nominal field\n",
    "\n",
    "marital = {\"single\" : 0, \"married\": 1, \"divorced\": 2} # Nominal field\n",
    "\n",
    "educational = {\"unknown\":0, \"primary\" : 1, \"secondary\" : 2, \"tertiary\": 3} # Ordinal field\n",
    "\n",
    "yes_no_type_fields = {\"no\" : 0, \"yes\" : 1}\n",
    "\n",
    "contact = {\"unknown\" : 0, \"cellular\" : 1, \"telephone\" : 2} # Nominal field\n",
    "\n",
    "month = {\"jan\":0, \"feb\":1, \"mar\":2, \"apr\":3, \"may\":4, \"jun\":5, \"jul\":6,\n",
    "        \"aug\":7, \"sep\":8, \"oct\":9, \"nov\":10, \"dec\":11} # Ordinal field\n",
    "\n",
    "poutcome = {\"unknown\":0, \"failure\":1, \"other\":2, \"success\": 3} # Nominal field\n",
    "\n",
    "\n",
    "# Apply these encoding to the categorical fields\n",
    "\n",
    "df[\"job\"] = df[\"job\"].apply(lambda x: jobs[x])\n",
    "df[\"marital\"] = df[\"marital\"].apply(lambda x: marital[x])\n",
    "df[\"education\"] = df[\"education\"].apply(lambda x: educational[x])\n",
    "df[\"default\"] = df[\"default\"].apply(lambda x: yes_no_type_fields[x])\n",
    "df[\"housing\"] = df[\"housing\"].apply(lambda x: yes_no_type_fields[x])\n",
    "df[\"loan\"] = df[\"loan\"].apply(lambda x: yes_no_type_fields[x])\n",
    "df[\"y\"] = df[\"y\"].apply(lambda x: yes_no_type_fields[x])\n",
    "df[\"month\"] = df[\"month\"].apply(lambda x: month[x])\n",
    "df[\"contact\"] = df[\"contact\"].apply(lambda x: contact[x])\n",
    "df[\"poutcome\"] = df[\"poutcome\"].apply(lambda x: poutcome[x])\n",
    "\n",
    "# Let's look at the DataFrame now after applying these encoding\n",
    "df.head()"
   ]
  },
  {
   "cell_type": "markdown",
   "metadata": {},
   "source": [
    "# Target Distribution"
   ]
  },
  {
   "cell_type": "code",
   "execution_count": 13,
   "metadata": {},
   "outputs": [
    {
     "data": {
      "text/plain": [
       "<matplotlib.axes._subplots.AxesSubplot at 0x7fcc0fecca00>"
      ]
     },
     "execution_count": 13,
     "metadata": {},
     "output_type": "execute_result"
    },
    {
     "data": {
      "image/png": "[encoded data removed]",
      "text/plain": [
       "<Figure size 1080x720 with 1 Axes>"
      ]
     },
     "metadata": {},
     "output_type": "display_data"
    }
   ],
   "source": [
    "plt.figure(figsize=(15, 10))\n",
    "sns.countplot(x=\"y\", data=df)"
   ]
  },
  {
   "cell_type": "markdown",
   "metadata": {},
   "source": [
    "We will be applying stratified split of training and validation data as the target distribution is \n",
    "\n",
    "* 0 : >80%  \n",
    "* 1 : <20%"
   ]
  },
  {
   "cell_type": "markdown",
   "metadata": {},
   "source": [
    "# Outlier Analysis\n",
    "\n",
    "For the Outlier Analysis I am applying the IQR rule the formula for which is \n",
    "\n",
    "$$\n",
    "\\begin{equation}\n",
    "IQR := Q3 - Q1 \\\\\n",
    "LB := Q1 - (1.5 \\times IQR) \\\\\n",
    "UB := Q3 + (1.5 \\times IQR)\n",
    "\\end{equation}\n",
    "$$\n",
    "\n",
    "The Other workaround is to use Z-Scores whose formula is :\n",
    "\n",
    "$$\n",
    "\\begin{equation}\n",
    "Z := \\frac{x - \\mu}{\\sigma}\n",
    "\\end{equation}\n",
    "$$\n",
    "\n",
    "**Note** : IQR is non-parameteric while z-score is parametric and Z-Score assumes that the data is a Normal Distribution"
   ]
  },
  {
   "cell_type": "markdown",
   "metadata": {},
   "source": [
    "### Outliers in `age` field"
   ]
  },
  {
   "cell_type": "code",
   "execution_count": 14,
   "metadata": {},
   "outputs": [
    {
     "name": "stdout",
     "output_type": "stream",
     "text": [
      "Any values <10.5 : [], len: 0\n",
      "Any values >70.5 : [83 75 72 71 76 85 90 82 73 74 78 80 94 79 77 86 95 81 89 84 87 92 93 88], len : 24\n"
     ]
    }
   ],
   "source": [
    "q1_age = df[\"age\"].quantile(0.25)\n",
    "q3_age = df[\"age\"].quantile(0.75)\n",
    "iqr_age = q3_age - q1_age\n",
    "lb_age = q1_age - (1.5 * iqr_age)\n",
    "ub_age = q3_age + (1.5 * iqr_age)\n",
    "\n",
    "print(f\"Any values <{lb_age} : {df.loc[df['age'] < lb_age, 'age'].unique()}, len: {len(df.loc[df['age'] < lb_age, 'age'].unique())}\")\n",
    "print(f\"Any values >{ub_age} : {df.loc[df['age'] > ub_age, 'age'].unique()}, len : {len(df.loc[df['age'] > ub_age, 'age'].unique())}\")"
   ]
  },
  {
   "cell_type": "code",
   "execution_count": 15,
   "metadata": {},
   "outputs": [
    {
     "data": {
      "text/plain": [
       "<matplotlib.axes._subplots.AxesSubplot at 0x7fcc0fd767c0>"
      ]
     },
     "execution_count": 15,
     "metadata": {},
     "output_type": "execute_result"
    },
    {
     "data": {
      "image/png": "[encoded data removed]",
      "text/plain": [
       "<Figure size 576x504 with 1 Axes>"
      ]
     },
     "metadata": {},
     "output_type": "display_data"
    }
   ],
   "source": [
    "df.boxplot(column=\"age\")"
   ]
  },
  {
   "cell_type": "markdown",
   "metadata": {},
   "source": [
    "### Outliers in `balance` field"
   ]
  },
  {
   "cell_type": "code",
   "execution_count": 16,
   "metadata": {
    "scrolled": true
   },
   "outputs": [
    {
     "name": "stdout",
     "output_type": "stream",
     "text": [
      "Any values < -1962.0 : [-3313 -3372 -2049 -1968 -8019 -2093 -1965 -2282 -6847 -2082 -2827 -1980\n",
      " -2604 -2122 -2712 -3058 -4057], len : 17\n",
      "Any values >3462.0 : [10635  6530 12223 ...  8205 14204 16353], len: 4712\n"
     ]
    }
   ],
   "source": [
    "q1_balance = df[\"balance\"].quantile(0.25)\n",
    "q3_balance = df[\"balance\"].quantile(0.75)\n",
    "iqr_balance = q3_balance - q1_balance\n",
    "lb_balance = q1_balance - (1.5 * iqr_balance)\n",
    "ub_balance = q3_balance + (1.5 * iqr_balance)\n",
    "\n",
    "print(f\"Any values < {lb_balance} : {df.loc[df['balance'] < lb_balance, 'balance'].unique()}, len : {len(df.loc[df['balance'] < lb_balance])}\")\n",
    "print(f\"Any values >{ub_balance} : {df.loc[df['balance'] > ub_balance, 'balance'].unique()}, len: {len(df.loc[df['balance'] > ub_balance])}\")"
   ]
  },
  {
   "cell_type": "code",
   "execution_count": 17,
   "metadata": {},
   "outputs": [
    {
     "data": {
      "text/plain": [
       "<matplotlib.axes._subplots.AxesSubplot at 0x7fcc0ea36790>"
      ]
     },
     "execution_count": 17,
     "metadata": {},
     "output_type": "execute_result"
    },
    {
     "data": {
      "image/png": "[encoded data removed]",
      "text/plain": [
       "<Figure size 576x504 with 1 Axes>"
      ]
     },
     "metadata": {},
     "output_type": "display_data"
    }
   ],
   "source": [
    "df.boxplot(column=\"balance\")"
   ]
  },
  {
   "cell_type": "markdown",
   "metadata": {},
   "source": [
    "### Outliers in `day` field"
   ]
  },
  {
   "cell_type": "code",
   "execution_count": 18,
   "metadata": {},
   "outputs": [
    {
     "name": "stdout",
     "output_type": "stream",
     "text": [
      "Any values <-11.5:[], len:0\n",
      "Any values >40.5:[], len:0\n"
     ]
    }
   ],
   "source": [
    "q1_day = df[\"day\"].quantile(0.25)\n",
    "q3_day = df[\"day\"].quantile(0.75)\n",
    "iqr_day = q3_day - q1_day\n",
    "lb_day = q1_day - (1.5 * iqr_day)\n",
    "ub_day = q3_day + (1.5 * iqr_day)\n",
    "print(f\"Any values <{lb_day}:{df.loc[df['day'] < lb_day, 'day'].unique()}, len:{len(df.loc[df['day'] < lb_day])}\")\n",
    "print(f\"Any values >{ub_day}:{df.loc[df['day'] > ub_day, 'day'].unique()}, len:{len(df.loc[df['day'] > ub_day])}\")"
   ]
  },
  {
   "cell_type": "code",
   "execution_count": 19,
   "metadata": {},
   "outputs": [
    {
     "data": {
      "text/plain": [
       "<matplotlib.axes._subplots.AxesSubplot at 0x7fcc0e9d1430>"
      ]
     },
     "execution_count": 19,
     "metadata": {},
     "output_type": "execute_result"
    },
    {
     "data": {
      "image/png": "[encoded data removed]",
      "text/plain": [
       "<Figure size 576x504 with 1 Axes>"
      ]
     },
     "metadata": {},
     "output_type": "display_data"
    }
   ],
   "source": [
    "df.boxplot(column=\"day\")"
   ]
  },
  {
   "cell_type": "markdown",
   "metadata": {},
   "source": [
    "### Outliers in `duration`"
   ]
  },
  {
   "cell_type": "code",
   "execution_count": 20,
   "metadata": {
    "scrolled": true
   },
   "outputs": [
    {
     "name": "stdout",
     "output_type": "stream",
     "text": [
      "Any values <-221.0:[], len : 0\n",
      "Any values >643.0:[1666 1492  787 1778  812 1042 1467 1389  849  677 2033  673 1056  717\n",
      "  683 1077 1419  730  746  702  714  962  742  669  680  808  652 1201\n",
      " 1030  769  744  765 1623  678  699 1677  918 1297 1906  703  802  684\n",
      "  739 1597 1529  720  852  923  953  732 1521  800 1138  786  799  866\n",
      " 1581  650 1101  912  690 1062  688 2177  764 1273 1574  984 1689  697\n",
      "  944 1102  943  813 1040 1084  693 1119 1120  784  665  712 1007  667\n",
      "  982  756  807 2087  956  985  672 1187  826  847  659  772  929  710\n",
      "  705 2462  825  646  653 1028  654 1087 1692 2016 1054 1170 1713  663\n",
      " 1080 1461  750 1178  752  878  834 1534  836 1002  757 1147  820  788\n",
      "  832 1495  891 1083 1266  793 1727 1875  907  723  704 1346 1386 3366\n",
      " 1000 2231 1167  806  766 1015  768 1001  845  853  916  753  708  805\n",
      "  901  851 1052  647  771 1106  945  816 1721 1032  735  942  824 1553\n",
      " 1328  686 1125  858  760  869  833  930  829  749  850  977  927  762\n",
      " 1044  668  902  738 2241 1118 1423  747 1204 1013 1162  755  644 1088\n",
      " 1036  695 1257 1165  651  920 1244  657  759  815  911  973  995 1224\n",
      "  964 1156 1231 1051 1392 1867 1263  770  809  855  875  734  803  844\n",
      "  676  656 1252 1143  731  754  679 1230  767  894  865 1340  897 1161\n",
      "  698 1128 1135 1408  827 1193 1144 1023 1245 1064  882  792  798 1203\n",
      " 1022 1622  967  886 1218 3078  661 1205 1882 1334  775 1777  774 1452\n",
      " 1376 1182 1045  999 1063 1410 1287  843  919  777  725  719  692  905\n",
      "  783  872  958  648  951  795  726  828  649 1091 1307  748  899  857\n",
      "  660 1681 1409  811  681 1697  860 1094  965  987  671  935  713  700\n",
      " 1349 1171  736  785 1073  924  881  691 1003  926  773  922  893 1438\n",
      "  937 1222 1034 1066 1099  682  974  745  863  664 1560  880 1234  729\n",
      "  895  796  724  741 1272 1446  896  763  955  674  740  776  751  709\n",
      " 3094  662 1168  938  861 1210  821 1183  675  694  864 1730 1277 1196\n",
      "  733  791 1236 1207  936  932  689 1059  789  685 1611 1185  814  859\n",
      " 1363 1109  645 2260  917  711  867 1133  854 1269  868 1097 1500 1212\n",
      " 1343 1980  722  888 1075 1068  658  758  966 1576  707 1173  963  941\n",
      " 1025  801 2456  959 1259  666 1516 1336 1242 1141 1519 1449 1181  908\n",
      "  910 1149 1123 1009  701  761 1558 1053 1005 1865  817 1302 1018  884\n",
      "  718 1121  939 1276 1994  862  968 1041 1288 2653 1085 1330 1469 1291\n",
      " 1055 1098  940 1151 3881  952 1137  948 1159  706 1199  950  904 1290\n",
      " 1010  781  885  993 1268 1243 1323 1093 1395 1238 1089 1021 1248  721\n",
      " 2769  986 1345 2621  979 1208 1365  906  835 1029 1528 1487 1540 1812\n",
      " 1255 2093 1195 1060 2485 1082  818  810 1318 2028 1017  779 1012 2635\n",
      " 1403  716  838 1573 1663 1617 1478 1422  804  988  670  655  790 3183\n",
      "  856  780 1992  957  840 1434  782 1103  889 1200 2201  830 1046 1767\n",
      " 1027  831 1720  819 1061  687 1111 1011 1486  990  727 1014 1439 1426\n",
      "  998 1019  961 1341 2029 1499 1399  970 1973 1649 1310 1397 1153 1130\n",
      " 1669 1271  778  794  981 1424 1142 1412  715 1806 1150  873 1432 1039\n",
      " 1656 1339 1473 1275 1008 1584 1448 1390 1319 1175  728  991  903 1303\n",
      " 1081  978 1503 1127  909 1360 1373  837  913 1139 1425 1105 1877 1220\n",
      " 1342 1134  898 1352 1545 1833 1508 1237 1148 1037 1226 1608  870 1152\n",
      "  874 1331 1327 1090 2078 1124 1309 1359  933 1417 1484 1441 1491  915\n",
      " 1206 1869  823  947 1820 1602 1209 1946  743 2015 1031 1368  946 1369\n",
      " 1169 1096  890 1076 1569 2516  797 1186 1058 1140 1078 1211 1567 2692\n",
      "  921 1107  841 1739  846 1110 1488 1536 1092 1311 1113 1227  996 1357\n",
      "  931 2191 1249 1250 1471 1456 1462 1834 1321 3422  876 1934 1306  994\n",
      "  848 1070 1687 1504 1282  971 1650  696 1344 1613 1735 1476 1842  969\n",
      "  900  737  871 1314 1217 3322 1184 1579 1871 1126 1364 1559 1293 1241\n",
      " 1740 1464 1532 1026 1258 1329 1809 1374 1223 1033  976 1642 1176 2372\n",
      " 3253 2429 3284 1239 4918 1789 1606 1531 1132  960 1978 1164 1855 1437\n",
      "  989 1377 1122 1554  925 1057 1548 1283 1502 1065 1265 1792 1662 1468\n",
      " 1337 1435  997 1192 1816 1256 1490 1154 1035 1166  972 1145 2420 1598\n",
      " 2453 1221 1158 1074  980 1571 1555 1067 1914 1048 1387 1232 1972 1745\n",
      " 2150 1451 1600 1917  914 2770 1296 1431 3025 1776 1136  928 1086 1790\n",
      " 1420 2256 1393 1635 1404 2053 1294 1416 1261 1381 1213 2775 1916 1837\n",
      " 1823 1661 1960 1658 3102 1160 1047 1541 1971 1447 2330 3076 2870 1859\n",
      " 1108 1353 2129 1190 1665 1691 1006 1594 1372 1038 1366 1174 1463 1095\n",
      "  949 1332 1202 1112 1550 1817 1333 1348 1240 1100  954 1079  839 1131\n",
      " 1489 1347 1957 1191  983 1254 1391  877  892 1262 1024 1049 1514 1114\n",
      " 1388 1925 1710 1512 1966 1970 1975 1805 1279  992 1180 1020 1723 1129\n",
      " 1286 1380  934 1326 1313 2301 1880 1460 2219 1361 1543 1603  883 1284\n",
      "  822  975 1225 1117 2027 2055  879 1962 1702 1104 1551 1580 2187 1707\n",
      " 1233 2184 1628 1804 2062 1472 1370 1616 1835 1563 2389 1407 1179 3785\n",
      " 1440 1405 1298 1246 1556], len : 929\n"
     ]
    }
   ],
   "source": [
    "q1_duration = df[\"duration\"].quantile(0.25)\n",
    "q3_duration = df[\"duration\"].quantile(0.75)\n",
    "\n",
    "iqr_duration = q3_duration - q1_duration\n",
    "lb_duration = q1_duration - (1.5 * iqr_duration)\n",
    "ub_duration = q3_duration + (1.5 * iqr_duration)\n",
    "\n",
    "print(f\"Any values <{lb_duration}:{df.loc[df['duration'] < lb_duration, 'duration'].unique()}, len : {len(df.loc[df['duration'] < lb_duration, 'duration'].unique())}\")\n",
    "print(f\"Any values >{ub_duration}:{df.loc[df['duration'] > ub_duration, 'duration'].unique()}, len : {len(df.loc[df['duration'] > ub_duration, 'duration'].unique())}\")"
   ]
  },
  {
   "cell_type": "code",
   "execution_count": 21,
   "metadata": {},
   "outputs": [
    {
     "data": {
      "text/plain": [
       "<matplotlib.axes._subplots.AxesSubplot at 0x7fcc0fdad3a0>"
      ]
     },
     "execution_count": 21,
     "metadata": {},
     "output_type": "execute_result"
    },
    {
     "data": {
      "image/png": "[encoded data removed]",
      "text/plain": [
       "<Figure size 576x504 with 1 Axes>"
      ]
     },
     "metadata": {},
     "output_type": "display_data"
    }
   ],
   "source": [
    "df.boxplot(column=\"duration\")"
   ]
  },
  {
   "cell_type": "markdown",
   "metadata": {},
   "source": [
    "### Outliers in `campaign`"
   ]
  },
  {
   "cell_type": "code",
   "execution_count": 22,
   "metadata": {},
   "outputs": [
    {
     "name": "stdout",
     "output_type": "stream",
     "text": [
      "Any values <-2.0 : [], len:0\n",
      "Any values >6.0 : [ 7  8  9 10 11 12 13 19 14 24 16 32 18 22 15 17 25 21 43 51 63 41 26 28\n",
      " 55 50 38 23 20 29 31 37 30 46 27 58 33 35 34 36 39 44], len:42\n"
     ]
    }
   ],
   "source": [
    "q1_campaign = df[\"campaign\"].quantile(0.25)\n",
    "q3_campaign = df[\"campaign\"].quantile(0.75)\n",
    "iqr_campaign = q3_campaign - q1_campaign\n",
    "\n",
    "lb_campaign = q1_campaign - (1.5 * iqr_campaign)\n",
    "ub_campaign = q3_campaign + (1.5 * iqr_campaign)\n",
    "\n",
    "print(f\"Any values <{lb_campaign} : {df.loc[df['campaign'] < lb_campaign, 'campaign'].unique()}, len:{len(df.loc[df['campaign'] < lb_campaign, 'campaign'].unique())}\")\n",
    "print(f\"Any values >{ub_campaign} : {df.loc[df['campaign'] > ub_campaign, 'campaign'].unique()}, len:{len(df.loc[df['campaign'] > ub_campaign, 'campaign'].unique())}\")\n"
   ]
  },
  {
   "cell_type": "code",
   "execution_count": 23,
   "metadata": {},
   "outputs": [
    {
     "data": {
      "text/plain": [
       "<matplotlib.axes._subplots.AxesSubplot at 0x7fcc0e8a3370>"
      ]
     },
     "execution_count": 23,
     "metadata": {},
     "output_type": "execute_result"
    },
    {
     "data": {
      "image/png": "[encoded data removed]",
      "text/plain": [
       "<Figure size 576x504 with 1 Axes>"
      ]
     },
     "metadata": {},
     "output_type": "display_data"
    }
   ],
   "source": [
    "df.boxplot(column=\"campaign\")"
   ]
  },
  {
   "cell_type": "markdown",
   "metadata": {},
   "source": [
    "### Outliers in `pdays`"
   ]
  },
  {
   "cell_type": "code",
   "execution_count": 24,
   "metadata": {},
   "outputs": [
    {
     "name": "stdout",
     "output_type": "stream",
     "text": [
      "Any values < -1.0 : [], len:0\n",
      "Any values > -1.0 : [151 166  91  86 143 147  89 140 176 101 174 170 167 195 165 129 188 196\n",
      " 172 118 119 104 171 117 164 132 131 123 159 186 111 115 116 173 178 110\n",
      " 152  96 103 150 175 193 181 185 154 145 138 126 180 109 158 168  97 182\n",
      " 127 130 194 125 105 102  26 179  28 183 155 112 120 137 124 187 190 113\n",
      " 162 134 169 189   8 144 191 184 177   5  99 133  93  92  10 100 156 198\n",
      " 106 153 146 128   7 121 160 107  90  27 197 136 139 122 157 149 135  30\n",
      " 114  98 192 163  34  95 141  31 199  94 108  29 268 247 253 226 244 239\n",
      " 245 204 231 238 258 230 254 265  71 223 246 250 266 240 205 261 259 241\n",
      " 260 234 251 225 161 237 262 248 255 220 227 206 224 249 235 228 263   2\n",
      " 270 232 252 207 200 269 233 256 273 272 242 264 208 214 222 271 203 221\n",
      " 202 216 201 257 229 210 217  75 213  73  76 267 211 215  77 236  82   6\n",
      " 209 274   1 243 212 275  80 276   9 279  12 280  88 277  85  84 219  24\n",
      "  21 282  41 294  49 329 307 303 331 308 300  64 314 287 330 332 302 323\n",
      " 318 333  60 326 335 313 312 305 325 327 336 309 328 322  39 316 292 295\n",
      " 310 306 320 317 289  57 321 142 339 301 315 337 334 340 319  17  74 148\n",
      " 341 299 344 342 324 345 346 304 281 343 338  14 347  15 291 348 349 285\n",
      " 350 284  25 283 278  81   4  87  83  79  70  13 293  37  78  63  22 296\n",
      " 355  66  19  35 360 357 354 351 362 358 365 298 286 364 363  47 361 288\n",
      " 366 356 352 359 297 367 353 368  42 290  67 371 370 369  50  36 373 374\n",
      " 372 311 375 378  59 379  40  18  43  20  69  38 385  56  55  44 391  72\n",
      " 390  32  62 399 393  65 377 395 388 389 386  61 412 405 434 394 382 459\n",
      " 440 397 383  68 461 462 463 422  51 457 430 442 403 454 428 392 410 401\n",
      " 474 475 477 478  54 476 380 479  45  46 495  58  48 518  52 515 520 511\n",
      " 536 387 218  33 544 435 436 555 433 446 558 469 616 561 553 384 592 467\n",
      " 585 480 421 667 626 426 595 381 376 648 521 452 449 633 398  53 460 670\n",
      " 551 414 557 687 404 651 686 425 504 578 674 416 586 411 756 450 745 514\n",
      " 417 424 776 396 683 529 439 415 456 407 458 532 481 791 701 531 792 413\n",
      " 445 535 784 419 455 491 431 542 470 472 717 437   3 782 728 828 524 562\n",
      " 761 492 775 579 493 464 760 466 465 656 831 490 432 655 427 749 838 769\n",
      " 587 778 854 779 850 771 594 842 589 603 484 489 486 409 444 680 808 485\n",
      " 503 690 772 774 526 420 528 500 826 804 508 547 805 541 543 871 550 530], len:558\n"
     ]
    }
   ],
   "source": [
    "q1_pdays = df[\"pdays\"].quantile(0.25)\n",
    "q3_pdays = df[\"pdays\"].quantile(0.75)\n",
    "\n",
    "iqr_pdays = q3_pdays - q1_pdays\n",
    "lb_pdays = q1_pdays - (1.5 * iqr_pdays)\n",
    "ub_pdays = q3_pdays + (1.5 * iqr_pdays)\n",
    "\n",
    "print(f\"Any values < {lb_pdays} : {df.loc[df['pdays'] < lb_pdays, 'pdays'].unique()}, len:{len(df.loc[df['pdays'] < lb_pdays, 'pdays'].unique())}\")\n",
    "print(f\"Any values > {ub_pdays} : {df.loc[df['pdays'] > ub_pdays, 'pdays'].unique()}, len:{len(df.loc[df['pdays'] > ub_pdays, 'pdays'].unique())}\")"
   ]
  },
  {
   "cell_type": "code",
   "execution_count": 25,
   "metadata": {},
   "outputs": [
    {
     "data": {
      "text/plain": [
       "<matplotlib.axes._subplots.AxesSubplot at 0x7fcc0dd17550>"
      ]
     },
     "execution_count": 25,
     "metadata": {},
     "output_type": "execute_result"
    },
    {
     "data": {
      "image/png": "[encoded data removed]",
      "text/plain": [
       "<Figure size 576x504 with 1 Axes>"
      ]
     },
     "metadata": {},
     "output_type": "display_data"
    }
   ],
   "source": [
    "df.boxplot(column=\"pdays\")"
   ]
  },
  {
   "cell_type": "markdown",
   "metadata": {},
   "source": [
    "### Outliers in `previous`"
   ]
  },
  {
   "cell_type": "code",
   "execution_count": 26,
   "metadata": {},
   "outputs": [
    {
     "name": "stdout",
     "output_type": "stream",
     "text": [
      "Any values < 0.0 : [], len: 0\n",
      "Any values > 0.0 : [  3   1   4   2  11  16   6   5  10  12   7  18   9  21   8  14  15  26\n",
      "  37  13  25  20  27  17  23  38  29  24  51 275  22  19  30  58  28  32\n",
      "  40  55  35  41], len: 40\n"
     ]
    }
   ],
   "source": [
    "q1_previous = df[\"previous\"].quantile(0.25)\n",
    "q3_previous = df[\"previous\"].quantile(0.75)\n",
    "\n",
    "iqr_previous = q3_previous - q1_previous\n",
    "lb_previous = q1_previous - (1.5 * iqr_previous)\n",
    "ub_previous = q3_previous + (1.5 * iqr_previous)\n",
    "\n",
    "print(f\"Any values < {lb_previous} : {df.loc[df['previous'] < lb_previous, 'previous'].unique()}, len: {len(df.loc[df['previous'] < lb_previous, 'previous'].unique())}\")\n",
    "print(f\"Any values > {ub_previous} : {df.loc[df['previous'] > ub_previous, 'previous'].unique()}, len: {len(df.loc[df['previous'] > ub_previous, 'previous'].unique())}\")"
   ]
  },
  {
   "cell_type": "code",
   "execution_count": 27,
   "metadata": {},
   "outputs": [
    {
     "data": {
      "text/plain": [
       "<matplotlib.axes._subplots.AxesSubplot at 0x7fcc0dd4aa00>"
      ]
     },
     "execution_count": 27,
     "metadata": {},
     "output_type": "execute_result"
    },
    {
     "data": {
      "image/png": "[encoded data removed]",
      "text/plain": [
       "<Figure size 576x504 with 1 Axes>"
      ]
     },
     "metadata": {},
     "output_type": "display_data"
    }
   ],
   "source": [
    "df.boxplot(column=\"previous\")"
   ]
  },
  {
   "cell_type": "markdown",
   "metadata": {},
   "source": [
    "# Observations\n",
    "\n",
    "* The `age` field has an upper bound of 70 years.\n",
    "\n",
    "* Negative amount are present in `balance` field which is quite suspicious as it denotes the annual income of an individual in euros.\n",
    "\n",
    "* The main reason of `balance` field having huge number of outliers is because of the fact that different people as per job and education, earns money on different scale.\n",
    "\n",
    "* The `previous` and `pdays` have IQR = 0 which suggest that there is almost zero-variance in the data in `previous` and `pdays`\n"
   ]
  },
  {
   "cell_type": "markdown",
   "metadata": {},
   "source": [
    "# Standarization"
   ]
  },
  {
   "cell_type": "code",
   "execution_count": 28,
   "metadata": {},
   "outputs": [
    {
     "name": "stdout",
     "output_type": "stream",
     "text": [
      "Shape of X : (45211, 16)\n",
      "Shape of Target data : (45211,)\n"
     ]
    }
   ],
   "source": [
    "df.loc[df[\"balance\"] < 0, \"balance\"] = 0\n",
    "X = df.drop('y', axis=1).values\n",
    "y = df['y'].values\n",
    "\n",
    "print(f\"Shape of X : {X.shape}\")\n",
    "print(f\"Shape of Target data : {y.shape}\")"
   ]
  },
  {
   "cell_type": "code",
   "execution_count": 29,
   "metadata": {},
   "outputs": [
    {
     "name": "stdout",
     "output_type": "stream",
     "text": [
      "Shape of X data : (45211, 16)\n"
     ]
    }
   ],
   "source": [
    "std_scaler = StandardScaler()\n",
    "X_std = std_scaler.fit_transform(X)\n",
    "print(f\"Shape of X data : {X_std.shape}\")"
   ]
  },
  {
   "cell_type": "markdown",
   "metadata": {},
   "source": [
    "# Split the Data into Train and Validation Sets"
   ]
  },
  {
   "cell_type": "code",
   "execution_count": 30,
   "metadata": {},
   "outputs": [],
   "source": [
    "from sklearn.model_selection import train_test_split\n",
    "Xtrain, Xval, Ytrain, Yval = train_test_split(X_std, y, random_state=0, stratify=y)"
   ]
  },
  {
   "cell_type": "markdown",
   "metadata": {},
   "source": [
    "# Logistic Regression"
   ]
  },
  {
   "cell_type": "code",
   "execution_count": 31,
   "metadata": {},
   "outputs": [
    {
     "name": "stdout",
     "output_type": "stream",
     "text": [
      "Training score for Logistic Regression : 89.93157956824348\n",
      "Validation score for Logistic Regression : 89.76377952755905\n"
     ]
    }
   ],
   "source": [
    "from sklearn.linear_model import LogisticRegression\n",
    "logreg = LogisticRegression(random_state=0)\n",
    "logreg.fit(Xtrain, Ytrain)\n",
    "\n",
    "print(f\"Training score for Logistic Regression : {logreg.score(Xtrain, Ytrain) * 100.}\")\n",
    "print(f\"Validation score for Logistic Regression : {logreg.score(Xval, Yval) * 100.}\")"
   ]
  },
  {
   "cell_type": "markdown",
   "metadata": {},
   "source": [
    "# Decision Tree"
   ]
  },
  {
   "cell_type": "code",
   "execution_count": 32,
   "metadata": {},
   "outputs": [
    {
     "name": "stdout",
     "output_type": "stream",
     "text": [
      "Training Score for Decision Tree : 100.0\n",
      "Validation Score for Decision Tree : 87.55197735114571\n"
     ]
    }
   ],
   "source": [
    "from sklearn.tree import DecisionTreeClassifier\n",
    "tree = DecisionTreeClassifier(random_state=0)\n",
    "tree.fit(Xtrain, Ytrain)\n",
    "\n",
    "print(f\"Training Score for Decision Tree : {tree.score(Xtrain, Ytrain) * 100.}\")\n",
    "print(f\"Validation Score for Decision Tree : {tree.score(Xval, Yval) * 100.}\")"
   ]
  },
  {
   "cell_type": "markdown",
   "metadata": {},
   "source": [
    "# Random Forest"
   ]
  },
  {
   "cell_type": "code",
   "execution_count": 33,
   "metadata": {},
   "outputs": [
    {
     "name": "stdout",
     "output_type": "stream",
     "text": [
      "Training Score for Random Forest : 100.0\n",
      "Validation Score for Random Forest : 90.47155622401132\n"
     ]
    }
   ],
   "source": [
    "from sklearn.ensemble import RandomForestClassifier\n",
    "rf = RandomForestClassifier(random_state=0)\n",
    "rf.fit(Xtrain, Ytrain)\n",
    "\n",
    "print(f\"Training Score for Random Forest : {rf.score(Xtrain, Ytrain) * 100.}\")\n",
    "print(f\"Validation Score for Random Forest : {rf.score(Xval, Yval) * 100.}\")"
   ]
  },
  {
   "cell_type": "markdown",
   "metadata": {},
   "source": [
    "# XGBoost"
   ]
  },
  {
   "cell_type": "code",
   "execution_count": 34,
   "metadata": {},
   "outputs": [
    {
     "name": "stdout",
     "output_type": "stream",
     "text": [
      "Training Score for XGBoost : 95.67063819747553\n",
      "Validation Score for XGBoost : 90.97584712023357\n"
     ]
    }
   ],
   "source": [
    "from xgboost import XGBClassifier\n",
    "\n",
    "xg = XGBClassifier(random_state=0)\n",
    "\n",
    "xg.fit(Xtrain, Ytrain)\n",
    "\n",
    "print(f\"Training Score for XGBoost : {xg.score(Xtrain, Ytrain) * 100.}\")\n",
    "print(f\"Validation Score for XGBoost : {xg.score(Xval, Yval) * 100}\")"
   ]
  },
  {
   "cell_type": "markdown",
   "metadata": {},
   "source": [
    "# Neural Network"
   ]
  },
  {
   "cell_type": "code",
   "execution_count": 35,
   "metadata": {},
   "outputs": [],
   "source": [
    "import torch\n",
    "import torch.nn as nn"
   ]
  },
  {
   "cell_type": "code",
   "execution_count": 36,
   "metadata": {},
   "outputs": [],
   "source": [
    "tensorXtrain = torch.from_numpy(Xtrain).float()\n",
    "tensorXval = torch.from_numpy(Xval).float()\n",
    "\n",
    "tensorYtrain = torch.from_numpy(Ytrain).float()\n",
    "tensorYval = torch.from_numpy(Yval).float()"
   ]
  },
  {
   "cell_type": "code",
   "execution_count": 37,
   "metadata": {},
   "outputs": [],
   "source": [
    "# Create PyTorch Dataset\n",
    "train_dataset = torch.utils.data.TensorDataset(tensorXtrain, tensorYtrain)\n",
    "val_dataset = torch.utils.data.TensorDataset(tensorXval, tensorYval)"
   ]
  },
  {
   "cell_type": "code",
   "execution_count": 38,
   "metadata": {},
   "outputs": [],
   "source": [
    "class ANN(nn.Module):\n",
    "    \n",
    "    def __init__(self, n_features, n_classes=1):\n",
    "        \n",
    "        super(ANN, self).__init__()\n",
    "        self.fc = nn.Sequential(\n",
    "                nn.Linear(n_features, 20),\n",
    "                nn.ReLU(),\n",
    "                nn.Linear(20, 10),\n",
    "                nn.ReLU(),\n",
    "                nn.Linear(10, n_classes))\n",
    "        \n",
    "    def forward(self, X):\n",
    "        out = self.fc(X)\n",
    "        return out"
   ]
  },
  {
   "cell_type": "code",
   "execution_count": 39,
   "metadata": {},
   "outputs": [],
   "source": [
    "# Build the model\n",
    "n_features = X.shape[1]\n",
    "n_classes = 1\n",
    "model = ANN(n_features, n_classes)"
   ]
  },
  {
   "cell_type": "code",
   "execution_count": 40,
   "metadata": {},
   "outputs": [],
   "source": [
    "# Build the model losses and optimizer\n",
    "criterion = nn.BCEWithLogitsLoss()\n",
    "optimizer = torch.optim.Adam(model.parameters())"
   ]
  },
  {
   "cell_type": "code",
   "execution_count": 41,
   "metadata": {},
   "outputs": [],
   "source": [
    "# Create the train and val iterator\n",
    "train_iter = torch.utils.data.DataLoader(train_dataset, batch_size=128, shuffle=True)\n",
    "val_iter = torch.utils.data.DataLoader(val_dataset, batch_size=128, shuffle=False)"
   ]
  },
  {
   "cell_type": "code",
   "execution_count": 42,
   "metadata": {},
   "outputs": [],
   "source": [
    "def batch_gd(model, criterion, optimizer, train_iter, val_iter, epochs=20):\n",
    "    \n",
    "    \"\"\"\n",
    "    ------------------------------------------------------------\n",
    "    Description : \n",
    "    Function to calculate the batch gradient descent\n",
    "    \n",
    "    Parameters :\n",
    "    @param model -- a pytorch model\n",
    "    @param criterion -- a pytorch loss function\n",
    "    @param optimizer -- a pytorch optimizer\n",
    "    @param train_iter -- a pytorch data-loader representing training data\n",
    "    @param val_iter -- a pytorch data-loader representing validation data\n",
    "    @param epochs -- a python integer representing the number of training loops\n",
    "    \n",
    "    Return :\n",
    "    @return train_losses -- a numpy nd-array representing training losses\n",
    "    @return val_losses -- a numpy nd-array representing validation losses\n",
    "    @return train_accs -- a numpy nd-array representing training accuracy\n",
    "    @return val_accs -- a numpy nd-array representing validation accuracy\n",
    "    \n",
    "    Usage :\n",
    "    train_losses, val_losses, train_acc, val_acc = batch_gd(...)\n",
    "    --------------------------------------------------------------\n",
    "    \"\"\"\n",
    "    \n",
    "    train_losses = np.zeros(epochs)\n",
    "    val_losses = np.zeros(epochs)\n",
    "    \n",
    "    train_accs = np.zeros(epochs)\n",
    "    val_accs = np.zeros(epochs)\n",
    "    \n",
    "    for epoch in range(epochs):\n",
    "        \n",
    "        train_loss = []\n",
    "        val_loss = []\n",
    "        \n",
    "        train_acc = []\n",
    "        val_acc = []\n",
    "        \n",
    "        for inputs, targets in train_iter:\n",
    "            \n",
    "            # Shape the target for BCEWithLogitsLoss \n",
    "            targets = targets.view(-1, 1)\n",
    "            \n",
    "            # Zero the optimizer-gradients\n",
    "            optimizer.zero_grad()\n",
    "            \n",
    "            # Forward pass\n",
    "            outputs = model(inputs)\n",
    "            loss = criterion(outputs, targets)\n",
    "            \n",
    "            # Backward pass and Optimization\n",
    "            loss.backward()\n",
    "            optimizer.step()\n",
    "            \n",
    "            # Calculate the acc\n",
    "            acc = np.mean(targets.numpy() == (outputs.detach().numpy() > 0))\n",
    "            \n",
    "            # Track the loss and acc\n",
    "            train_loss.append(loss.item())\n",
    "            train_acc.append(acc)\n",
    "            \n",
    "        \n",
    "        for inputs, targets in val_iter:\n",
    "            \n",
    "            # Shape the target for BCEWithLogitsLoss\n",
    "            targets = targets.view(-1, 1)\n",
    "            \n",
    "            # Forward pass\n",
    "            outputs = model(inputs)\n",
    "            loss = criterion(outputs, targets)\n",
    "            \n",
    "            # Calculate the acc\n",
    "            acc = np.mean(targets.numpy() == (outputs.detach().numpy() > 0))\n",
    "            \n",
    "            # Track the loss and acc\n",
    "            val_loss.append(loss.item())\n",
    "            val_acc.append(acc)\n",
    "            \n",
    "        \n",
    "        train_loss = np.mean(train_loss)\n",
    "        val_loss = np.mean(val_loss)\n",
    "        \n",
    "        train_acc = np.mean(train_acc)\n",
    "        val_acc = np.mean(val_acc)\n",
    "        \n",
    "        train_losses[epoch] = train_loss\n",
    "        val_losses[epoch] = val_loss\n",
    "        \n",
    "        train_accs[epoch] = train_acc\n",
    "        val_accs[epoch] = val_acc\n",
    "        \n",
    "        print(f\"Epoch : {epoch+1}/{epochs} | Train Losses : {train_loss} | Train Acc : {train_acc} | Val Losses : {val_loss} | Val Acc : {val_acc}\")\n",
    "    \n",
    "    \n",
    "    return train_losses, val_losses, train_accs, val_accs\n",
    "            "
   ]
  },
  {
   "cell_type": "code",
   "execution_count": 43,
   "metadata": {
    "scrolled": true
   },
   "outputs": [
    {
     "name": "stdout",
     "output_type": "stream",
     "text": [
      "Epoch : 1/100 | Train Losses : 0.3607708913537691 | Train Acc : 0.8846362638256344 | Val Losses : 0.2574292751175634 | Val Acc : 0.8913159932296169\n",
      "Epoch : 2/100 | Train Losses : 0.24683461790939548 | Train Acc : 0.8964114346128822 | Val Losses : 0.2452255604642161 | Val Acc : 0.8980751224431\n",
      "Epoch : 3/100 | Train Losses : 0.23980776555133315 | Train Acc : 0.8977929814573845 | Val Losses : 0.24187458633037096 | Val Acc : 0.8967831676750215\n",
      "Epoch : 4/100 | Train Losses : 0.23661573458954974 | Train Acc : 0.8986875813272609 | Val Losses : 0.24066061367479602 | Val Acc : 0.8964950662633246\n",
      "Epoch : 5/100 | Train Losses : 0.23480272405552413 | Train Acc : 0.8993890289525048 | Val Losses : 0.23810900011089411 | Val Acc : 0.89730985306828\n",
      "Epoch : 6/100 | Train Losses : 0.23330629839087433 | Train Acc : 0.8990464378659727 | Val Losses : 0.23787677505712831 | Val Acc : 0.8966076058772687\n",
      "Epoch : 7/100 | Train Losses : 0.23219612572553022 | Train Acc : 0.8990667696811971 | Val Losses : 0.23630669562334425 | Val Acc : 0.8967831676750215\n",
      "Epoch : 8/100 | Train Losses : 0.23112782484517908 | Train Acc : 0.8997865159401431 | Val Losses : 0.23563923460713934 | Val Acc : 0.8971342912705272\n",
      "Epoch : 9/100 | Train Losses : 0.23033861641613942 | Train Acc : 0.8999278220559531 | Val Losses : 0.23497292365920677 | Val Acc : 0.8975731957649092\n",
      "Epoch : 10/100 | Train Losses : 0.22963299442012355 | Train Acc : 0.9002876951854262 | Val Losses : 0.23419968415512127 | Val Acc : 0.898626566551426\n",
      "Epoch : 11/100 | Train Losses : 0.22913575425462904 | Train Acc : 0.8998810588809368 | Val Losses : 0.23386807522077238 | Val Acc : 0.8989776901469316\n",
      "Epoch : 12/100 | Train Losses : 0.22834859653463904 | Train Acc : 0.9009779603122966 | Val Losses : 0.23323142813162856 | Val Acc : 0.8996799373379429\n",
      "Epoch : 13/100 | Train Losses : 0.2276440198691386 | Train Acc : 0.9005621746909563 | Val Losses : 0.2327202618791816 | Val Acc : 0.8993288137424373\n",
      "Epoch : 14/100 | Train Losses : 0.22707273364067077 | Train Acc : 0.9011639964216005 | Val Losses : 0.23267405354574824 | Val Acc : 0.8999432800345721\n",
      "Epoch : 15/100 | Train Losses : 0.22635309294147313 | Train Acc : 0.9016468770331816 | Val Losses : 0.2324222649416227 | Val Acc : 0.8991532519446845\n",
      "Epoch : 16/100 | Train Losses : 0.22589515132724114 | Train Acc : 0.901676358165257 | Val Losses : 0.2312944419263454 | Val Acc : 0.8997677182368193\n",
      "Epoch : 17/100 | Train Losses : 0.22535384657248012 | Train Acc : 0.9016346779440468 | Val Losses : 0.2311276959234409 | Val Acc : 0.9009088699222125\n",
      "Epoch : 18/100 | Train Losses : 0.22480031915430754 | Train Acc : 0.9025577423552374 | Val Losses : 0.23029464064689165 | Val Acc : 0.9002944036300777\n",
      "Epoch : 19/100 | Train Losses : 0.2238359940783033 | Train Acc : 0.9027407286922575 | Val Losses : 0.22980918576208392 | Val Acc : 0.9000310609334485\n",
      "Epoch : 20/100 | Train Losses : 0.2233320103782528 | Train Acc : 0.9033273015614834 | Val Losses : 0.22900822959589154 | Val Acc : 0.9008210890233361\n",
      "Epoch : 21/100 | Train Losses : 0.2225201926422569 | Train Acc : 0.9031504147690306 | Val Losses : 0.2286722209681286 | Val Acc : 0.900231381446269\n",
      "Epoch : 22/100 | Train Losses : 0.22205506737502115 | Train Acc : 0.9033039199739752 | Val Losses : 0.22839765083254054 | Val Acc : 0.9003191623451454\n",
      "Epoch : 23/100 | Train Losses : 0.22145549643714474 | Train Acc : 0.9030263906961614 | Val Losses : 0.22853228935364928 | Val Acc : 0.8990902297608757\n",
      "Epoch : 24/100 | Train Losses : 0.2210651882695702 | Train Acc : 0.9037105562784645 | Val Losses : 0.22810015233045214 | Val Acc : 0.8995291342552578\n",
      "Epoch : 25/100 | Train Losses : 0.2203443836491063 | Train Acc : 0.9038671112556929 | Val Losses : 0.2272928234901321 | Val Acc : 0.8992657915586285\n",
      "Epoch : 26/100 | Train Losses : 0.21974632886220824 | Train Acc : 0.9040704294079375 | Val Losses : 0.22696893034356364 | Val Acc : 0.8999680387496398\n",
      "Epoch : 27/100 | Train Losses : 0.21938643402086114 | Train Acc : 0.904359141184125 | Val Losses : 0.22714502774597553 | Val Acc : 0.899792476951887\n",
      "Epoch : 28/100 | Train Losses : 0.21900878295583545 | Train Acc : 0.9045238288874431 | Val Losses : 0.22673708401369244 | Val Acc : 0.900670285940651\n",
      "Epoch : 29/100 | Train Losses : 0.21848540961180093 | Train Acc : 0.9050666883539362 | Val Losses : 0.22631576941924147 | Val Acc : 0.9004069432440218\n",
      "Epoch : 30/100 | Train Losses : 0.21807026685971134 | Train Acc : 0.9043377927781392 | Val Losses : 0.22587073569217425 | Val Acc : 0.9011969713339094\n",
      "Epoch : 31/100 | Train Losses : 0.2176010012345494 | Train Acc : 0.9049904440468445 | Val Losses : 0.2259135412031345 | Val Acc : 0.9004069432440218\n",
      "Epoch : 32/100 | Train Losses : 0.21720508854344206 | Train Acc : 0.9054916232921275 | Val Losses : 0.22607202509815774 | Val Acc : 0.9008458477384038\n",
      "Epoch : 33/100 | Train Losses : 0.21695830462113866 | Train Acc : 0.9051968119713728 | Val Losses : 0.2255287736319424 | Val Acc : 0.9009336286372802\n",
      "Epoch : 34/100 | Train Losses : 0.21656068912092244 | Train Acc : 0.9051287003903707 | Val Losses : 0.22550092754739054 | Val Acc : 0.9009336286372802\n",
      "Epoch : 35/100 | Train Losses : 0.21611177164990947 | Train Acc : 0.9057152732595967 | Val Losses : 0.22579717870508687 | Val Acc : 0.9018114376260443\n",
      "Epoch : 36/100 | Train Losses : 0.2159535691985544 | Train Acc : 0.9056146307742355 | Val Losses : 0.22580885970860384 | Val Acc : 0.9004947241428982\n",
      "Epoch : 37/100 | Train Losses : 0.2154904950058685 | Train Acc : 0.9055414362394274 | Val Losses : 0.2258930824111017 | Val Acc : 0.900670285940651\n",
      "Epoch : 38/100 | Train Losses : 0.21533370841786548 | Train Acc : 0.9056125975927131 | Val Losses : 0.22524984415327565 | Val Acc : 0.9017236567271679\n",
      "Epoch : 39/100 | Train Losses : 0.21503107733321639 | Train Acc : 0.9059775536759922 | Val Losses : 0.22455920764569487 | Val Acc : 0.9031281511091903\n",
      "Epoch : 40/100 | Train Losses : 0.21465195001296278 | Train Acc : 0.9061158100195186 | Val Losses : 0.22666721933343437 | Val Acc : 0.8986513252664937\n",
      "Epoch : 41/100 | Train Losses : 0.214711232623964 | Train Acc : 0.9063343770331815 | Val Losses : 0.22459015250205994 | Val Acc : 0.9035670556035724\n",
      "Epoch : 42/100 | Train Losses : 0.21429608672294975 | Train Acc : 0.9058718282368249 | Val Losses : 0.2259736034307587 | Val Acc : 0.9012847522327858\n",
      "Epoch : 43/100 | Train Losses : 0.21391336529884697 | Train Acc : 0.9058535296031229 | Val Losses : 0.2242614399181323 | Val Acc : 0.9037426174013252\n",
      "Epoch : 44/100 | Train Losses : 0.21395811753452948 | Train Acc : 0.9061280091086532 | Val Losses : 0.2242717110039143 | Val Acc : 0.9030403702103139\n",
      "Epoch : 45/100 | Train Losses : 0.21369728252010525 | Train Acc : 0.9066851008458036 | Val Losses : 0.22418187474936582 | Val Acc : 0.9022503421204263\n",
      "Epoch : 46/100 | Train Losses : 0.21371765412249655 | Train Acc : 0.906163589785296 | Val Losses : 0.22381024263548047 | Val Acc : 0.9028648084125611\n",
      "Epoch : 47/100 | Train Losses : 0.21327135391392799 | Train Acc : 0.905921641184125 | Val Losses : 0.2241181947207183 | Val Acc : 0.9016358758282915\n",
      "Epoch : 48/100 | Train Losses : 0.21318629299694636 | Train Acc : 0.9063577586206897 | Val Losses : 0.22392431587985392 | Val Acc : 0.9004947241428982\n",
      "Epoch : 49/100 | Train Losses : 0.2129548207206546 | Train Acc : 0.9063699577098243 | Val Losses : 0.22310194389873675 | Val Acc : 0.9035670556035724\n",
      "Epoch : 50/100 | Train Losses : 0.21265841123630416 | Train Acc : 0.9070775048796356 | Val Losses : 0.22274770043539197 | Val Acc : 0.9031281511091903\n",
      "Epoch : 51/100 | Train Losses : 0.2125438188887992 | Train Acc : 0.9066556197137281 | Val Losses : 0.22320767835284885 | Val Acc : 0.9008458477384038\n",
      "Epoch : 52/100 | Train Losses : 0.21234575279478757 | Train Acc : 0.9066790013012361 | Val Losses : 0.22325793678840894 | Val Acc : 0.903479274704696\n",
      "Epoch : 53/100 | Train Losses : 0.2122720497959065 | Train Acc : 0.906363858165257 | Val Losses : 0.22239745014838957 | Val Acc : 0.9024259039181791\n",
      "Epoch : 54/100 | Train Losses : 0.21217380854881035 | Train Acc : 0.9065082140533507 | Val Losses : 0.22252475713076217 | Val Acc : 0.9020747803226735\n",
      "Epoch : 55/100 | Train Losses : 0.21184669333808828 | Train Acc : 0.9071923796356538 | Val Losses : 0.22260451768891196 | Val Acc : 0.9022503421204263\n"
     ]
    },
    {
     "name": "stdout",
     "output_type": "stream",
     "text": [
      "Epoch : 56/100 | Train Losses : 0.21157331424501707 | Train Acc : 0.9063699577098243 | Val Losses : 0.22302332269341757 | Val Acc : 0.9030403702103139\n",
      "Epoch : 57/100 | Train Losses : 0.21176623702049255 | Train Acc : 0.9068406392322708 | Val Losses : 0.22188392515932576 | Val Acc : 0.9033037129069431\n",
      "Epoch : 58/100 | Train Losses : 0.21156265640033867 | Train Acc : 0.906637321080026 | Val Losses : 0.22222545742988586 | Val Acc : 0.9018992185249207\n",
      "Epoch : 59/100 | Train Losses : 0.21099585019192604 | Train Acc : 0.90700634352635 | Val Losses : 0.22151818151554364 | Val Acc : 0.9017236567271679\n",
      "Epoch : 60/100 | Train Losses : 0.21097442190039833 | Train Acc : 0.9061422413793103 | Val Losses : 0.22206613572126024 | Val Acc : 0.903918179199078\n",
      "Epoch : 61/100 | Train Losses : 0.2107324628335125 | Train Acc : 0.907065305790501 | Val Losses : 0.22239423652043502 | Val Acc : 0.9037426174013252\n",
      "Epoch : 62/100 | Train Losses : 0.21061804249601543 | Train Acc : 0.9063699577098243 | Val Losses : 0.22192363692133615 | Val Acc : 0.903918179199078\n",
      "Epoch : 63/100 | Train Losses : 0.21034552502744602 | Train Acc : 0.9066291883539362 | Val Losses : 0.22180660604760888 | Val Acc : 0.9047082072889656\n",
      "Epoch : 64/100 | Train Losses : 0.21042522939870942 | Train Acc : 0.9069717794404684 | Val Losses : 0.22101924660500516 | Val Acc : 0.903479274704696\n",
      "Epoch : 65/100 | Train Losses : 0.21005433421089964 | Train Acc : 0.9073692664281067 | Val Losses : 0.22105454996730503 | Val Acc : 0.9036548365024488\n",
      "Epoch : 66/100 | Train Losses : 0.20992990934623862 | Train Acc : 0.9064228204294079 | Val Losses : 0.22102036670352634 | Val Acc : 0.9041815218957072\n",
      "Epoch : 67/100 | Train Losses : 0.20991418828379432 | Train Acc : 0.9068203074170462 | Val Losses : 0.22080317273568573 | Val Acc : 0.9041815218957072\n",
      "Epoch : 68/100 | Train Losses : 0.2097530280644039 | Train Acc : 0.9069941444372154 | Val Losses : 0.22071314745404746 | Val Acc : 0.9040937409968308\n",
      "Epoch : 69/100 | Train Losses : 0.20941838329693058 | Train Acc : 0.9071008864671438 | Val Losses : 0.22042616699518783 | Val Acc : 0.9033037129069431\n",
      "Epoch : 70/100 | Train Losses : 0.20965678098629106 | Train Acc : 0.9063780904359141 | Val Losses : 0.22080970312772172 | Val Acc : 0.9021625612215499\n",
      "Epoch : 71/100 | Train Losses : 0.20901053435397599 | Train Acc : 0.907726089785296 | Val Losses : 0.22073468498969345 | Val Acc : 0.9045326454912128\n",
      "Epoch : 72/100 | Train Losses : 0.20883010966035556 | Train Acc : 0.9065346454131425 | Val Losses : 0.2202903457571951 | Val Acc : 0.9037426174013252\n",
      "Epoch : 73/100 | Train Losses : 0.20872527450885414 | Train Acc : 0.9064797495120365 | Val Losses : 0.22055044920926684 | Val Acc : 0.90435708369346\n",
      "Epoch : 74/100 | Train Losses : 0.2085755967025487 | Train Acc : 0.9061249593363696 | Val Losses : 0.22064122122325255 | Val Acc : 0.903918179199078\n",
      "Epoch : 75/100 | Train Losses : 0.20864947410124654 | Train Acc : 0.9072452423552375 | Val Losses : 0.2204794158761421 | Val Acc : 0.9040059600979544\n",
      "Epoch : 76/100 | Train Losses : 0.20823903201885943 | Train Acc : 0.9066230888093689 | Val Losses : 0.22000582449221878 | Val Acc : 0.9028648084125611\n",
      "Epoch : 77/100 | Train Losses : 0.2081661527168076 | Train Acc : 0.907224910540013 | Val Losses : 0.22048940601643552 | Val Acc : 0.9030403702103139\n",
      "Epoch : 78/100 | Train Losses : 0.2080944945789733 | Train Acc : 0.9067643949251789 | Val Losses : 0.22086786554100807 | Val Acc : 0.9023381230193027\n",
      "Epoch : 79/100 | Train Losses : 0.20774795871298268 | Train Acc : 0.9068060751463891 | Val Losses : 0.22023557478122496 | Val Acc : 0.9036548365024488\n",
      "Epoch : 80/100 | Train Losses : 0.2073953404179159 | Train Acc : 0.9075136223162004 | Val Losses : 0.22026055599196573 | Val Acc : 0.9038303983002016\n",
      "Epoch : 81/100 | Train Losses : 0.2072735551112103 | Train Acc : 0.907165948275862 | Val Losses : 0.22084571756003948 | Val Acc : 0.9046834485738979\n",
      "Epoch : 82/100 | Train Losses : 0.20727078144280417 | Train Acc : 0.9075786841249186 | Val Losses : 0.2198153831315844 | Val Acc : 0.9032159320080667\n",
      "Epoch : 83/100 | Train Losses : 0.20711895157143756 | Train Acc : 0.9069361987638256 | Val Losses : 0.21969980101906852 | Val Acc : 0.9040689822817631\n",
      "Epoch : 84/100 | Train Losses : 0.20708355254159783 | Train Acc : 0.9073367355237476 | Val Losses : 0.22022276949346736 | Val Acc : 0.9051471117833476\n",
      "Epoch : 85/100 | Train Losses : 0.2066143608318185 | Train Acc : 0.9070185426154846 | Val Losses : 0.21978654318980956 | Val Acc : 0.9050593308844712\n",
      "Epoch : 86/100 | Train Losses : 0.2068454807940519 | Train Acc : 0.9076518786597267 | Val Losses : 0.2199069010407737 | Val Acc : 0.9058493589743589\n",
      "Epoch : 87/100 | Train Losses : 0.20645852555643837 | Train Acc : 0.9079029765777488 | Val Losses : 0.2195305007227351 | Val Acc : 0.9039812013828867\n",
      "Epoch : 88/100 | Train Losses : 0.2061677577641775 | Train Acc : 0.9072310100845803 | Val Losses : 0.22036084398794709 | Val Acc : 0.9043323249783923\n",
      "Epoch : 89/100 | Train Losses : 0.2062804602227121 | Train Acc : 0.907648828887443 | Val Losses : 0.21966437108061287 | Val Acc : 0.9044448645923364\n",
      "Epoch : 90/100 | Train Losses : 0.20627964847492722 | Train Acc : 0.9083502765126871 | Val Losses : 0.21994311789448343 | Val Acc : 0.9049467912705272\n",
      "Epoch : 91/100 | Train Losses : 0.20616156053992937 | Train Acc : 0.9074485605074821 | Val Losses : 0.2197282536980811 | Val Acc : 0.9048837690867184\n",
      "Epoch : 92/100 | Train Losses : 0.20598404078551058 | Train Acc : 0.9076701772934287 | Val Losses : 0.21989245294185167 | Val Acc : 0.903918179199078\n",
      "Epoch : 93/100 | Train Losses : 0.20566945880089166 | Train Acc : 0.9081093445022771 | Val Losses : 0.21975129826015302 | Val Acc : 0.9053226735811005\n",
      "Epoch : 94/100 | Train Losses : 0.20559905292290562 | Train Acc : 0.9083980562784646 | Val Losses : 0.2199425318937623 | Val Acc : 0.9056737971766061\n",
      "Epoch : 95/100 | Train Losses : 0.20563816467546067 | Train Acc : 0.9076112150292778 | Val Losses : 0.21957558895764726 | Val Acc : 0.9050593308844712\n",
      "Epoch : 96/100 | Train Losses : 0.20554467824832448 | Train Acc : 0.9083767078724788 | Val Losses : 0.21965265709362672 | Val Acc : 0.9052101339671564\n",
      "Epoch : 97/100 | Train Losses : 0.20528523311862407 | Train Acc : 0.9078551968119714 | Val Losses : 0.21984847660145063 | Val Acc : 0.9046204263900892\n",
      "Epoch : 98/100 | Train Losses : 0.20519549382745095 | Train Acc : 0.9079294079375406 | Val Losses : 0.21964377148097822 | Val Acc : 0.9056737971766061\n",
      "Epoch : 99/100 | Train Losses : 0.20521858461060613 | Train Acc : 0.9080087020169161 | Val Losses : 0.21982655883505103 | Val Acc : 0.9052979148660328\n",
      "Epoch : 100/100 | Train Losses : 0.20518825492768916 | Train Acc : 0.907999552700065 | Val Losses : 0.2197442397977529 | Val Acc : 0.9052101339671564\n"
     ]
    }
   ],
   "source": [
    "train_losses, val_losses, train_accs, val_accs = batch_gd(model, criterion, optimizer, train_iter, val_iter, epochs=100)"
   ]
  },
  {
   "cell_type": "code",
   "execution_count": 44,
   "metadata": {},
   "outputs": [
    {
     "data": {
      "image/png": "[encoded data removed]",
      "text/plain": [
       "<Figure size 576x504 with 1 Axes>"
      ]
     },
     "metadata": {},
     "output_type": "display_data"
    }
   ],
   "source": [
    "# Plot the epochs vs losses\n",
    "plt.title(\"Epochs vs Losses\")\n",
    "plt.plot(train_losses, label=\"Train Loss\")\n",
    "plt.plot(val_losses, label=\"Validation Loss\")\n",
    "plt.xlabel(\"Epochs\")\n",
    "plt.ylabel(\"Losses\")\n",
    "plt.legend()\n",
    "plt.show()"
   ]
  },
  {
   "cell_type": "code",
   "execution_count": 45,
   "metadata": {},
   "outputs": [
    {
     "data": {
      "image/png": "[encoded data removed]",
      "text/plain": [
       "<Figure size 576x504 with 1 Axes>"
      ]
     },
     "metadata": {},
     "output_type": "display_data"
    }
   ],
   "source": [
    "# Plot the epochs vs losses\n",
    "plt.title(\"Epochs vs Losses\")\n",
    "plt.plot(train_accs, label=\"Train Accuracy\")\n",
    "plt.plot(val_accs, label=\"Validation Accuracy\")\n",
    "plt.xlabel(\"Epochs\")\n",
    "plt.ylabel(\"Accuracy\")\n",
    "plt.legend()\n",
    "plt.show()"
   ]
  },
  {
   "cell_type": "code",
   "execution_count": 46,
   "metadata": {},
   "outputs": [],
   "source": [
    "def get_accuracy(model, loader):\n",
    "    \n",
    "    acc = []\n",
    "    \n",
    "    for inputs, targets in loader:\n",
    "        \n",
    "        targets = targets.view(-1, 1)\n",
    "        \n",
    "        outputs = model(inputs)\n",
    "        \n",
    "        predictions = (outputs.detach().numpy() > 0)\n",
    "        \n",
    "        acc.append(np.mean(targets.detach().numpy() == predictions))\n",
    "        \n",
    "    return np.mean(acc) * 100"
   ]
  },
  {
   "cell_type": "code",
   "execution_count": 47,
   "metadata": {},
   "outputs": [
    {
     "name": "stdout",
     "output_type": "stream",
     "text": [
      "Training Accuracy of ANN : 90.96332140533508\n",
      "Validation Accuracy of ANN : 90.52101339671565\n"
     ]
    }
   ],
   "source": [
    "print(f\"Training Accuracy of ANN : {get_accuracy(model, train_iter)}\")\n",
    "print(f\"Validation Accuracy of ANN : {get_accuracy(model, val_iter)}\")"
   ]
  },
  {
   "cell_type": "markdown",
   "metadata": {},
   "source": [
    "# Accuracy Comparison of ANN with Other models\n",
    "\n",
    "| MODEL               | TRAIN ACC         | VAL ACC           |\n",
    "|---------------------|-------------------|-------------------|\n",
    "| Logistic Regression | 89.93157956824348 | 89.76377952755905 |\n",
    "| Decision Tree       | 100.0             | 87.55197735114571 |\n",
    "| Random Forest       | 100.0             | 90.47155622401132 |\n",
    "| XGBoost             | 95.67063819747553 | 90.97584712023357 |\n",
    "| ANN                 | 90.96332140533508 | 90.52101339671565 |\n",
    "\n",
    "\n",
    "\n",
    "* The above table shows that XGBoost is the perfect for our example.\n",
    "* The accuracy of prediction of Logistic Regression Model is quite similar to that of Neural Networks\n",
    "* Both Decision Tree and Random Forest shows signs of overfitting."
   ]
  },
  {
   "cell_type": "markdown",
   "metadata": {},
   "source": [
    "# Save model and other parameters"
   ]
  },
  {
   "cell_type": "code",
   "execution_count": 48,
   "metadata": {},
   "outputs": [
    {
     "data": {
      "text/plain": [
       "['./MODEL_DATA/model.dat']"
      ]
     },
     "execution_count": 48,
     "metadata": {},
     "output_type": "execute_result"
    }
   ],
   "source": [
    "dump(std_scaler,\"./MODEL_DATA/std.bin\",compress=True)\n",
    "dump(xg,\"./MODEL_DATA/model.dat\")"
   ]
  },
  {
   "cell_type": "code",
   "execution_count": null,
   "metadata": {},
   "outputs": [],
   "source": []
  }
 ],
 "metadata": {
  "kernelspec": {
   "display_name": "Python 3",
   "language": "python",
   "name": "python3"
  },
  "language_info": {
   "codemirror_mode": {
    "name": "ipython",
    "version": 3
   },
   "file_extension": ".py",
   "mimetype": "text/x-python",
   "name": "python",
   "nbconvert_exporter": "python",
   "pygments_lexer": "ipython3",
   "version": "3.8.3"
  }
 },
 "nbformat": 4,
 "nbformat_minor": 4
}
